{
 "cells": [
  {
   "cell_type": "code",
   "execution_count": 1,
   "id": "58a47f1a-3982-43d0-804d-e955ef9b3595",
   "metadata": {},
   "outputs": [],
   "source": [
    "from gudhi.datasets.generators import points\n",
    "from DensiTDA import alphatools, graphtools, landmarktools \n",
    "import numpy as np\n",
    "import gudhi\n",
    "import matplotlib.pyplot as plt\n",
    "from scipy.sparse.csgraph import laplacian\n",
    "from hodgelaplacians import HodgeLaplacians\n",
    "from gudhi.representations.vector_methods import PersistenceImage\n",
    "from scipy.spatial.distance import cdist, pdist, squareform\n",
    "import seaborn as sns\n",
    "from scipy.sparse.csgraph import minimum_spanning_tree, connected_components\n",
    "from collections import defaultdict\n",
    "import itertools\n",
    "from tqdm import tqdm\n",
    "import random\n",
    "import math\n",
    "import pandas\n"
   ]
  },
  {
   "cell_type": "code",
   "execution_count": 2,
   "id": "a58a12ba-56ad-4252-b8b5-8101206a70ac",
   "metadata": {},
   "outputs": [],
   "source": [
    "def simplex_proportion(simplex): \n",
    "    \n",
    "    fuzzy = 2\n",
    "    \n",
    "    simplex_set = set(simplex)\n",
    "    \n",
    "    count = 0\n",
    "    for i in range(n): \n",
    "        subface = set(assigned_voronoi_cells[i,0:len(simplex) + 1])\n",
    "        if simplex_set.issubset(subface):\n",
    "            count += 1\n",
    "    \n",
    "    if count != 0:\n",
    "        return 1/count\n",
    "    else: \n",
    "        return np.inf\n",
    "\n",
    "class SimplexTree: \n",
    "    \n",
    "    def __init__(self): \n",
    "        \n",
    "        self.X = [-1, defaultdict(lambda: [ 0.0, defaultdict(list)] ) ]\n",
    "\n",
    "    def contains_simplex(self, my_tuple): \n",
    "        \n",
    "        curr_level = self.X\n",
    "        for index in my_tuple: \n",
    "            if index in curr_level[1].keys():\n",
    "                curr_level = curr_level[1][index] \n",
    "            else: \n",
    "                return False \n",
    "            \n",
    "        return True\n",
    "    \n",
    "    def simplex_val(self, my_tuple): \n",
    "        \n",
    "        curr_level = self.X\n",
    "        for index in my_tuple: \n",
    "            if index in curr_level[1].keys():\n",
    "                curr_level = curr_level[1][index] \n",
    "            else: \n",
    "                return math.inf \n",
    "            \n",
    "        return curr_level[0]\n",
    "    \n",
    "    def simplex_leaves(self, my_tuple): \n",
    "        \n",
    "        curr_level = self.X\n",
    "        for index in my_tuple: \n",
    "            if index in curr_level[1].keys():\n",
    "                curr_level = curr_level[1][index] \n",
    "            else: \n",
    "                return [] \n",
    "            \n",
    "        return list(curr_level[1].keys())\n",
    "    \n",
    "    def add_simplex(self, new_simplex,val):\n",
    "    \n",
    "        curr_level = self.X\n",
    "        for index in new_simplex[:-1]: \n",
    "            if index in curr_level[1].keys():\n",
    "                curr_level = curr_level[1][index] \n",
    "            else: \n",
    "                return False \n",
    "        \n",
    "        curr_level[1][new_simplex[-1]] = [ val, defaultdict(lambda: [ 0.0, defaultdict(list)] ) ]\n",
    "        \n",
    "        return True\n",
    "    \n",
    "\n",
    "def DiffRips(S, max_dimension = -1, max_radius = 2): \n",
    "    \n",
    "    if max_dimension < 0: \n",
    "        max_dimension = len(S[0,:])\n",
    "        \n",
    "    VR_complex = defaultdict(list)\n",
    "    X = SimplexTree()\n",
    "    \n",
    "    for i, s in enumerate(S): \n",
    "        value = simplex_proportion([i])\n",
    "        VR_complex[0].append(([i], value))\n",
    "        X.add_simplex([i], value)\n",
    "\n",
    "    print(\"Evaluating Dimension\", 1)\n",
    "    \n",
    "    Y = np.zeros((len(S), len(S)))\n",
    "    adjacency = np.zeros((len(S), len(S)))\n",
    "    with tqdm(total = len(S) ** 2) as pbar:\n",
    "        for i in range(len(S)):\n",
    "            curr_row = []\n",
    "            for j in range(len(S)): \n",
    "                \n",
    "                if i < j:\n",
    "                    center_distance = simplex_proportion([i,j]) #voronoi_distance([i], [j])\n",
    "                elif j < i:\n",
    "                    center_distance = simplex_proportion([j,i])\n",
    "                else: \n",
    "                    center_distance = simplex_proportion([i])\n",
    "                    \n",
    "                if center_distance < max_radius:\n",
    "                    VR_complex[1].append(([i,j], center_distance))\n",
    "                    Y[i,j] = center_distance\n",
    "                    adjacency[i,j] = 1\n",
    "                    X.add_simplex([i,j], center_distance)\n",
    "                else:\n",
    "                    Y[i,j] = math.inf\n",
    "\n",
    "                pbar.update(1)\n",
    "                \n",
    "    print(\"\\tNumber of Connected Components: \", connected_components(adjacency)[0])\n",
    "\n",
    "    for curr_dim in range(2,max_dimension + 1):\n",
    "        \n",
    "        print(\"Estimating Number of Facets for dimension \", curr_dim, \"Part 1:\")\n",
    "        \n",
    "        facets_to_consider = VR_complex[curr_dim-1]\n",
    "        visited_prev_words = SimplexTree()\n",
    "        visited_prev_word_list = []\n",
    "        \n",
    "        if len(facets_to_consider) == 0:\n",
    "            print(\"No facets to consider\")\n",
    "            break\n",
    "        \n",
    "        with tqdm(total = len(facets_to_consider)) as pbar:\n",
    "            for facet, val in facets_to_consider:\n",
    "                sub_facet = facet[:-1]\n",
    "                if not visited_prev_words.contains_simplex(sub_facet):\n",
    "                    visited_prev_words.add_simplex(sub_facet,0.0)\n",
    "                    visited_prev_word_list.append(sub_facet)\n",
    "                pbar.update(1)\n",
    "                    \n",
    "        print(\"Estimating Number of Facets for dimension \", curr_dim, \"Part 2:\")\n",
    "        \n",
    "        if len(visited_prev_word_list) == 0:\n",
    "            print(\"No facets to consider\")\n",
    "            break\n",
    "        \n",
    "        Sigma = []\n",
    "        with tqdm(total = len(visited_prev_word_list)) as pbar:\n",
    "            for word in visited_prev_word_list:\n",
    "                indices = X.simplex_leaves(word)\n",
    "                for choose_pair in itertools.combinations(indices, r = 2):\n",
    "                    suggested_word = word + list(choose_pair)\n",
    "                    flag = True\n",
    "                    for subsimplex in list(itertools.combinations(suggested_word, len(suggested_word) - 1)):\n",
    "                        if not X.contains_simplex(subsimplex): \n",
    "                            flag = False\n",
    "                            break\n",
    "\n",
    "                    if flag:\n",
    "                        Sigma.append(word + list(choose_pair))\n",
    "                        \n",
    "                pbar.update(1)\n",
    "        \n",
    "        print(\"Evaluating Dimension\", curr_dim)\n",
    "        \n",
    "        if len(Sigma) == 0:\n",
    "            print(\"No facets to consider\")\n",
    "            break\n",
    "        \n",
    "        with tqdm(total = len(Sigma)) as pbar:\n",
    "            for simplex in Sigma:\n",
    "                \n",
    "                value = simplex_proportion(simplex)\n",
    "                        \n",
    "                if value != math.inf and value < max_radius:\n",
    "                    VR_complex[curr_dim].append((simplex, value))\n",
    "                    X.add_simplex(simplex, value)\n",
    "\n",
    "                pbar.update(1)\n",
    "    \n",
    "    return VR_complex\n",
    "\n",
    "def VietorisRips(S, max_dimension = -1, max_radius = 2): \n",
    "    \n",
    "    if max_dimension < 0: \n",
    "        max_dimension = len(S[0,:])\n",
    "    \n",
    "    R = np.sqrt(max_radius)\n",
    "    \n",
    "    VR_complex = defaultdict(list)\n",
    "    X = SimplexTree()\n",
    "    \n",
    "    for i, s in enumerate(S): \n",
    "        VR_complex[0].append(([i], 0.0))\n",
    "        X.add_simplex([i], 0.0)\n",
    "\n",
    "    print(\"Evaluating Dimension\", 1)\n",
    "    \n",
    "    Y = np.zeros((len(S), len(S)))\n",
    "    adjacency = np.zeros((len(S), len(S)))\n",
    "    with tqdm(total = len(S) ** 2) as pbar:\n",
    "        for i in range(len(S)):\n",
    "            curr_row = []\n",
    "            for j in range(len(S)): \n",
    "                center_distance = np.linalg.norm(S[i] - S[j])\n",
    "                \n",
    "                if center_distance < max_radius:\n",
    "                    VR_complex[1].append(([i,j], center_distance))\n",
    "                    Y[i,j] = center_distance\n",
    "                    adjacency[i,j] = 1\n",
    "                    X.add_simplex([i,j], center_distance)\n",
    "                else:\n",
    "                    Y[i,j] = math.inf\n",
    "\n",
    "                pbar.update(1)\n",
    "                \n",
    "    print(\"\\tNumber of Connected Components: \", connected_components(adjacency)[0])\n",
    "\n",
    "    for curr_dim in range(2,max_dimension + 1):\n",
    "        \n",
    "        print(\"Estimating Number of Facets for dimension \", curr_dim, \"Part 1:\")\n",
    "            \n",
    "        facets_to_consider = VR_complex[curr_dim-1]\n",
    "        visited_prev_words = SimplexTree()\n",
    "        visited_prev_word_list = []\n",
    "        \n",
    "        with tqdm(total = len(facets_to_consider)) as pbar:\n",
    "            for facet, val in facets_to_consider:\n",
    "                sub_facet = facet[:-1]\n",
    "                if not visited_prev_words.contains_simplex(sub_facet):\n",
    "                    visited_prev_words.add_simplex(sub_facet,0.0)\n",
    "                    visited_prev_word_list.append(sub_facet)\n",
    "                pbar.update(1)\n",
    "                    \n",
    "        print(\"Estimating Number of Facets for dimension \", curr_dim, \"Part 2:\")\n",
    "        \n",
    "        Sigma = []\n",
    "        with tqdm(total = len(visited_prev_word_list)) as pbar:\n",
    "            for word in visited_prev_word_list:\n",
    "                indices = X.simplex_leaves(word)\n",
    "                for choose_pair in itertools.combinations(indices, r = 2):\n",
    "                    suggested_word = word + list(choose_pair)\n",
    "                    flag = True\n",
    "                    for subsimplex in list(itertools.combinations(suggested_word, len(suggested_word) - 1)):\n",
    "                        if not X.contains_simplex(subsimplex): \n",
    "                            flag = False\n",
    "                            break\n",
    "\n",
    "                    if flag:\n",
    "                        Sigma.append(word + list(choose_pair))\n",
    "                        \n",
    "                pbar.update(1)\n",
    "        \n",
    "        print(\"Evaluating Dimension\", curr_dim)\n",
    "\n",
    "        with tqdm(total = len(Sigma)) as pbar:\n",
    "            for simplex in Sigma:\n",
    "                value = 0\n",
    "                for subface in itertools.combinations(simplex, len(simplex) - 1):\n",
    "                    value = max(X.simplex_val(subface), value)\n",
    "\n",
    "                if value != math.inf:\n",
    "                    VR_complex[curr_dim].append((simplex, value))\n",
    "                    X.add_simplex(simplex, value)\n",
    "\n",
    "                pbar.update(1)\n",
    "    \n",
    "    return VR_complex"
   ]
  },
  {
   "cell_type": "code",
   "execution_count": 3,
   "id": "9bfced54-2d61-43a0-991e-7de74f70986f",
   "metadata": {},
   "outputs": [],
   "source": [
    "labels = []\n",
    "ambient_dimension = []"
   ]
  },
  {
   "cell_type": "code",
   "execution_count": 4,
   "id": "9d9323da-14dc-4e04-ba9d-93392e7080a0",
   "metadata": {},
   "outputs": [
    {
     "name": "stdout",
     "output_type": "stream",
     "text": [
      "Evaluating Dimension 1\n"
     ]
    },
    {
     "name": "stderr",
     "output_type": "stream",
     "text": [
      "100%|███████████████████████████████████████████████████████████████████████████████████████████████████████████████████████████████████████| 1000000/1000000 [00:02<00:00, 415984.10it/s]\n"
     ]
    },
    {
     "name": "stdout",
     "output_type": "stream",
     "text": [
      "\tNumber of Connected Components:  1\n",
      "Estimating Number of Facets for dimension  2 Part 1:\n"
     ]
    },
    {
     "name": "stderr",
     "output_type": "stream",
     "text": [
      "100%|██████████████████████████████████████████████████████████████████████████████████████████████████████████████████████████████████████████| 72928/72928 [00:00<00:00, 2379609.95it/s]\n"
     ]
    },
    {
     "name": "stdout",
     "output_type": "stream",
     "text": [
      "Estimating Number of Facets for dimension  2 Part 2:\n"
     ]
    },
    {
     "name": "stderr",
     "output_type": "stream",
     "text": [
      "100%|████████████████████████████████████████████████████████████████████████████████████████████████████████████████████████████████████████████████| 1000/1000 [00:03<00:00, 309.59it/s]\n"
     ]
    },
    {
     "name": "stdout",
     "output_type": "stream",
     "text": [
      "Evaluating Dimension 2\n"
     ]
    },
    {
     "name": "stderr",
     "output_type": "stream",
     "text": [
      "100%|███████████████████████████████████████████████████████████████████████████████████████████████████████████████████████████████████████| 1285467/1285467 [00:03<00:00, 330776.34it/s]\n",
      "100%|███████████████████████████████████████████████████████████████████████████████████████████████████████████████████████████████████████████████████████| 1/1 [00:02<00:00,  2.32s/it]\n"
     ]
    },
    {
     "name": "stdout",
     "output_type": "stream",
     "text": [
      "Evaluating Dimension 1\n"
     ]
    },
    {
     "name": "stderr",
     "output_type": "stream",
     "text": [
      "100%|███████████████████████████████████████████████████████████████████████████████████████████████████████████████████████████████████████████████| 2500/2500 [00:01<00:00, 1801.91it/s]\n"
     ]
    },
    {
     "name": "stdout",
     "output_type": "stream",
     "text": [
      "\tNumber of Connected Components:  1\n",
      "Estimating Number of Facets for dimension  2 Part 1:\n"
     ]
    },
    {
     "name": "stderr",
     "output_type": "stream",
     "text": [
      "100%|██████████████████████████████████████████████████████████████████████████████████████████████████████████████████████████████████████████████| 650/650 [00:00<00:00, 1577718.52it/s]\n"
     ]
    },
    {
     "name": "stdout",
     "output_type": "stream",
     "text": [
      "Estimating Number of Facets for dimension  2 Part 2:\n"
     ]
    },
    {
     "name": "stderr",
     "output_type": "stream",
     "text": [
      "100%|███████████████████████████████████████████████████████████████████████████████████████████████████████████████████████████████████████████████████| 50/50 [00:00<00:00, 6537.66it/s]\n"
     ]
    },
    {
     "name": "stdout",
     "output_type": "stream",
     "text": [
      "Evaluating Dimension 2\n"
     ]
    },
    {
     "name": "stderr",
     "output_type": "stream",
     "text": [
      "100%|███████████████████████████████████████████████████████████████████████████████████████████████████████████████████████████████████████████████| 1932/1932 [00:01<00:00, 1767.07it/s]\n"
     ]
    },
    {
     "name": "stdout",
     "output_type": "stream",
     "text": [
      "Estimating Number of Facets for dimension  3 Part 1:\n"
     ]
    },
    {
     "name": "stderr",
     "output_type": "stream",
     "text": [
      "100%|████████████████████████████████████████████████████████████████████████████████████████████████████████████████████████████████████████████| 1569/1569 [00:00<00:00, 1567618.62it/s]\n"
     ]
    },
    {
     "name": "stdout",
     "output_type": "stream",
     "text": [
      "Estimating Number of Facets for dimension  3 Part 2:\n"
     ]
    },
    {
     "name": "stderr",
     "output_type": "stream",
     "text": [
      "100%|██████████████████████████████████████████████████████████████████████████████████████████████████████████████████████████████████████████████| 1569/1569 [00:00<00:00, 59771.15it/s]\n"
     ]
    },
    {
     "name": "stdout",
     "output_type": "stream",
     "text": [
      "Evaluating Dimension 3\n"
     ]
    },
    {
     "name": "stderr",
     "output_type": "stream",
     "text": [
      "100%|███████████████████████████████████████████████████████████████████████████████████████████████████████████████████████████████████████████████| 6892/6892 [00:04<00:00, 1582.95it/s]\n"
     ]
    },
    {
     "name": "stdout",
     "output_type": "stream",
     "text": [
      "Evaluating Dimension 1\n"
     ]
    },
    {
     "name": "stderr",
     "output_type": "stream",
     "text": [
      "100%|███████████████████████████████████████████████████████████████████████████████████████████████████████████████████████████████████████| 1000000/1000000 [00:02<00:00, 465814.79it/s]\n"
     ]
    },
    {
     "name": "stdout",
     "output_type": "stream",
     "text": [
      "\tNumber of Connected Components:  1\n",
      "Estimating Number of Facets for dimension  2 Part 1:\n"
     ]
    },
    {
     "name": "stderr",
     "output_type": "stream",
     "text": [
      "100%|██████████████████████████████████████████████████████████████████████████████████████████████████████████████████████████████████████████| 27606/27606 [00:00<00:00, 2046374.40it/s]\n"
     ]
    },
    {
     "name": "stdout",
     "output_type": "stream",
     "text": [
      "Estimating Number of Facets for dimension  2 Part 2:\n"
     ]
    },
    {
     "name": "stderr",
     "output_type": "stream",
     "text": [
      "100%|███████████████████████████████████████████████████████████████████████████████████████████████████████████████████████████████████████████████| 1000/1000 [00:00<00:00, 2267.57it/s]\n"
     ]
    },
    {
     "name": "stdout",
     "output_type": "stream",
     "text": [
      "Evaluating Dimension 2\n"
     ]
    },
    {
     "name": "stderr",
     "output_type": "stream",
     "text": [
      "100%|█████████████████████████████████████████████████████████████████████████████████████████████████████████████████████████████████████████| 235940/235940 [00:00<00:00, 267912.39it/s]\n",
      "100%|███████████████████████████████████████████████████████████████████████████████████████████████████████████████████████████████████████████████████████| 1/1 [00:02<00:00,  2.29s/it]\n"
     ]
    },
    {
     "name": "stdout",
     "output_type": "stream",
     "text": [
      "Evaluating Dimension 1\n"
     ]
    },
    {
     "name": "stderr",
     "output_type": "stream",
     "text": [
      "100%|███████████████████████████████████████████████████████████████████████████████████████████████████████████████████████████████████████████████| 2500/2500 [00:01<00:00, 1918.30it/s]\n"
     ]
    },
    {
     "name": "stdout",
     "output_type": "stream",
     "text": [
      "\tNumber of Connected Components:  1\n",
      "Estimating Number of Facets for dimension  2 Part 1:\n"
     ]
    },
    {
     "name": "stderr",
     "output_type": "stream",
     "text": [
      "100%|██████████████████████████████████████████████████████████████████████████████████████████████████████████████████████████████████████████████| 438/438 [00:00<00:00, 1318812.03it/s]\n"
     ]
    },
    {
     "name": "stdout",
     "output_type": "stream",
     "text": [
      "Estimating Number of Facets for dimension  2 Part 2:\n"
     ]
    },
    {
     "name": "stderr",
     "output_type": "stream",
     "text": [
      "100%|██████████████████████████████████████████████████████████████████████████████████████████████████████████████████████████████████████████████████| 50/50 [00:00<00:00, 25935.59it/s]\n"
     ]
    },
    {
     "name": "stdout",
     "output_type": "stream",
     "text": [
      "Evaluating Dimension 2\n"
     ]
    },
    {
     "name": "stderr",
     "output_type": "stream",
     "text": [
      "100%|█████████████████████████████████████████████████████████████████████████████████████████████████████████████████████████████████████████████████| 949/949 [00:00<00:00, 1769.64it/s]\n"
     ]
    },
    {
     "name": "stdout",
     "output_type": "stream",
     "text": [
      "Estimating Number of Facets for dimension  3 Part 1:\n"
     ]
    },
    {
     "name": "stderr",
     "output_type": "stream",
     "text": [
      "100%|███████████████████████████████████████████████████████████████████████████████████████████████████████████████████████████████████████████████| 934/934 [00:00<00:00, 352418.13it/s]\n"
     ]
    },
    {
     "name": "stdout",
     "output_type": "stream",
     "text": [
      "Estimating Number of Facets for dimension  3 Part 2:\n"
     ]
    },
    {
     "name": "stderr",
     "output_type": "stream",
     "text": [
      "100%|███████████████████████████████████████████████████████████████████████████████████████████████████████████████████████████████████████████████| 934/934 [00:00<00:00, 107643.78it/s]\n"
     ]
    },
    {
     "name": "stdout",
     "output_type": "stream",
     "text": [
      "Evaluating Dimension 3\n"
     ]
    },
    {
     "name": "stderr",
     "output_type": "stream",
     "text": [
      "100%|███████████████████████████████████████████████████████████████████████████████████████████████████████████████████████████████████████████████| 3102/3102 [00:01<00:00, 1584.20it/s]\n"
     ]
    },
    {
     "name": "stdout",
     "output_type": "stream",
     "text": [
      "Evaluating Dimension 1\n"
     ]
    },
    {
     "name": "stderr",
     "output_type": "stream",
     "text": [
      "100%|███████████████████████████████████████████████████████████████████████████████████████████████████████████████████████████████████████| 1000000/1000000 [00:02<00:00, 455135.51it/s]\n"
     ]
    },
    {
     "name": "stdout",
     "output_type": "stream",
     "text": [
      "\tNumber of Connected Components:  1\n",
      "Estimating Number of Facets for dimension  2 Part 1:\n"
     ]
    },
    {
     "name": "stderr",
     "output_type": "stream",
     "text": [
      "100%|██████████████████████████████████████████████████████████████████████████████████████████████████████████████████████████████████████████| 34774/34774 [00:00<00:00, 2202714.30it/s]\n"
     ]
    },
    {
     "name": "stdout",
     "output_type": "stream",
     "text": [
      "Estimating Number of Facets for dimension  2 Part 2:\n"
     ]
    },
    {
     "name": "stderr",
     "output_type": "stream",
     "text": [
      "100%|███████████████████████████████████████████████████████████████████████████████████████████████████████████████████████████████████████████████| 1000/1000 [00:00<00:00, 1465.36it/s]\n"
     ]
    },
    {
     "name": "stdout",
     "output_type": "stream",
     "text": [
      "Evaluating Dimension 2\n"
     ]
    },
    {
     "name": "stderr",
     "output_type": "stream",
     "text": [
      "100%|█████████████████████████████████████████████████████████████████████████████████████████████████████████████████████████████████████████| 369507/369507 [00:01<00:00, 255951.54it/s]\n",
      "100%|███████████████████████████████████████████████████████████████████████████████████████████████████████████████████████████████████████████████████████| 1/1 [00:02<00:00,  2.44s/it]\n"
     ]
    },
    {
     "name": "stdout",
     "output_type": "stream",
     "text": [
      "Evaluating Dimension 1\n"
     ]
    },
    {
     "name": "stderr",
     "output_type": "stream",
     "text": [
      "100%|███████████████████████████████████████████████████████████████████████████████████████████████████████████████████████████████████████████████| 2500/2500 [00:01<00:00, 1925.55it/s]\n"
     ]
    },
    {
     "name": "stdout",
     "output_type": "stream",
     "text": [
      "\tNumber of Connected Components:  1\n",
      "Estimating Number of Facets for dimension  2 Part 1:\n"
     ]
    },
    {
     "name": "stderr",
     "output_type": "stream",
     "text": [
      "100%|██████████████████████████████████████████████████████████████████████████████████████████████████████████████████████████████████████████████| 450/450 [00:00<00:00, 1785654.49it/s]\n"
     ]
    },
    {
     "name": "stdout",
     "output_type": "stream",
     "text": [
      "Estimating Number of Facets for dimension  2 Part 2:\n"
     ]
    },
    {
     "name": "stderr",
     "output_type": "stream",
     "text": [
      "100%|██████████████████████████████████████████████████████████████████████████████████████████████████████████████████████████████████████████████████| 50/50 [00:00<00:00, 23083.68it/s]\n"
     ]
    },
    {
     "name": "stdout",
     "output_type": "stream",
     "text": [
      "Evaluating Dimension 2\n"
     ]
    },
    {
     "name": "stderr",
     "output_type": "stream",
     "text": [
      "100%|███████████████████████████████████████████████████████████████████████████████████████████████████████████████████████████████████████████████| 1003/1003 [00:00<00:00, 1758.67it/s]\n"
     ]
    },
    {
     "name": "stdout",
     "output_type": "stream",
     "text": [
      "Estimating Number of Facets for dimension  3 Part 1:\n"
     ]
    },
    {
     "name": "stderr",
     "output_type": "stream",
     "text": [
      "100%|██████████████████████████████████████████████████████████████████████████████████████████████████████████████████████████████████████████████| 955/955 [00:00<00:00, 1445007.33it/s]\n"
     ]
    },
    {
     "name": "stdout",
     "output_type": "stream",
     "text": [
      "Estimating Number of Facets for dimension  3 Part 2:\n"
     ]
    },
    {
     "name": "stderr",
     "output_type": "stream",
     "text": [
      "100%|███████████████████████████████████████████████████████████████████████████████████████████████████████████████████████████████████████████████| 955/955 [00:00<00:00, 100116.48it/s]\n"
     ]
    },
    {
     "name": "stdout",
     "output_type": "stream",
     "text": [
      "Evaluating Dimension 3\n"
     ]
    },
    {
     "name": "stderr",
     "output_type": "stream",
     "text": [
      "100%|███████████████████████████████████████████████████████████████████████████████████████████████████████████████████████████████████████████████| 3211/3211 [00:02<00:00, 1580.93it/s]\n"
     ]
    },
    {
     "name": "stdout",
     "output_type": "stream",
     "text": [
      "Evaluating Dimension 1\n"
     ]
    },
    {
     "name": "stderr",
     "output_type": "stream",
     "text": [
      "100%|███████████████████████████████████████████████████████████████████████████████████████████████████████████████████████████████████████| 1000000/1000000 [00:02<00:00, 425027.29it/s]\n"
     ]
    },
    {
     "name": "stdout",
     "output_type": "stream",
     "text": [
      "\tNumber of Connected Components:  1\n",
      "Estimating Number of Facets for dimension  2 Part 1:\n"
     ]
    },
    {
     "name": "stderr",
     "output_type": "stream",
     "text": [
      "100%|██████████████████████████████████████████████████████████████████████████████████████████████████████████████████████████████████████████| 38250/38250 [00:00<00:00, 2363292.75it/s]\n"
     ]
    },
    {
     "name": "stdout",
     "output_type": "stream",
     "text": [
      "Estimating Number of Facets for dimension  2 Part 2:\n"
     ]
    },
    {
     "name": "stderr",
     "output_type": "stream",
     "text": [
      "100%|███████████████████████████████████████████████████████████████████████████████████████████████████████████████████████████████████████████████| 1000/1000 [00:00<00:00, 1006.99it/s]\n"
     ]
    },
    {
     "name": "stdout",
     "output_type": "stream",
     "text": [
      "Evaluating Dimension 2\n"
     ]
    },
    {
     "name": "stderr",
     "output_type": "stream",
     "text": [
      "100%|█████████████████████████████████████████████████████████████████████████████████████████████████████████████████████████████████████████| 446117/446117 [00:01<00:00, 256946.83it/s]\n",
      "100%|███████████████████████████████████████████████████████████████████████████████████████████████████████████████████████████████████████████████████████| 1/1 [00:02<00:00,  2.29s/it]\n"
     ]
    },
    {
     "name": "stdout",
     "output_type": "stream",
     "text": [
      "Evaluating Dimension 1\n"
     ]
    },
    {
     "name": "stderr",
     "output_type": "stream",
     "text": [
      "100%|███████████████████████████████████████████████████████████████████████████████████████████████████████████████████████████████████████████████| 2500/2500 [00:01<00:00, 1918.12it/s]\n"
     ]
    },
    {
     "name": "stdout",
     "output_type": "stream",
     "text": [
      "\tNumber of Connected Components:  1\n",
      "Estimating Number of Facets for dimension  2 Part 1:\n"
     ]
    },
    {
     "name": "stderr",
     "output_type": "stream",
     "text": [
      "100%|██████████████████████████████████████████████████████████████████████████████████████████████████████████████████████████████████████████████| 438/438 [00:00<00:00, 1089623.46it/s]\n"
     ]
    },
    {
     "name": "stdout",
     "output_type": "stream",
     "text": [
      "Estimating Number of Facets for dimension  2 Part 2:\n"
     ]
    },
    {
     "name": "stderr",
     "output_type": "stream",
     "text": [
      "100%|██████████████████████████████████████████████████████████████████████████████████████████████████████████████████████████████████████████████████| 50/50 [00:00<00:00, 25653.24it/s]\n"
     ]
    },
    {
     "name": "stdout",
     "output_type": "stream",
     "text": [
      "Evaluating Dimension 2\n"
     ]
    },
    {
     "name": "stderr",
     "output_type": "stream",
     "text": [
      "100%|█████████████████████████████████████████████████████████████████████████████████████████████████████████████████████████████████████████████████| 958/958 [00:00<00:00, 1757.06it/s]\n"
     ]
    },
    {
     "name": "stdout",
     "output_type": "stream",
     "text": [
      "Estimating Number of Facets for dimension  3 Part 1:\n"
     ]
    },
    {
     "name": "stderr",
     "output_type": "stream",
     "text": [
      "100%|██████████████████████████████████████████████████████████████████████████████████████████████████████████████████████████████████████████████| 931/931 [00:00<00:00, 1454337.81it/s]\n"
     ]
    },
    {
     "name": "stdout",
     "output_type": "stream",
     "text": [
      "Estimating Number of Facets for dimension  3 Part 2:\n"
     ]
    },
    {
     "name": "stderr",
     "output_type": "stream",
     "text": [
      "100%|████████████████████████████████████████████████████████████████████████████████████████████████████████████████████████████████████████████████| 931/931 [00:00<00:00, 86113.37it/s]\n"
     ]
    },
    {
     "name": "stdout",
     "output_type": "stream",
     "text": [
      "Evaluating Dimension 3\n"
     ]
    },
    {
     "name": "stderr",
     "output_type": "stream",
     "text": [
      "100%|███████████████████████████████████████████████████████████████████████████████████████████████████████████████████████████████████████████████| 3397/3397 [00:02<00:00, 1581.55it/s]\n"
     ]
    },
    {
     "name": "stdout",
     "output_type": "stream",
     "text": [
      "Evaluating Dimension 1\n"
     ]
    },
    {
     "name": "stderr",
     "output_type": "stream",
     "text": [
      "100%|███████████████████████████████████████████████████████████████████████████████████████████████████████████████████████████████████████| 1000000/1000000 [00:02<00:00, 425809.88it/s]\n"
     ]
    },
    {
     "name": "stdout",
     "output_type": "stream",
     "text": [
      "\tNumber of Connected Components:  1\n",
      "Estimating Number of Facets for dimension  2 Part 1:\n"
     ]
    },
    {
     "name": "stderr",
     "output_type": "stream",
     "text": [
      "100%|██████████████████████████████████████████████████████████████████████████████████████████████████████████████████████████████████████████| 87034/87034 [00:00<00:00, 2292850.71it/s]\n"
     ]
    },
    {
     "name": "stdout",
     "output_type": "stream",
     "text": [
      "Estimating Number of Facets for dimension  2 Part 2:\n"
     ]
    },
    {
     "name": "stderr",
     "output_type": "stream",
     "text": [
      "100%|████████████████████████████████████████████████████████████████████████████████████████████████████████████████████████████████████████████████| 1000/1000 [00:05<00:00, 198.97it/s]\n"
     ]
    },
    {
     "name": "stdout",
     "output_type": "stream",
     "text": [
      "Evaluating Dimension 2\n"
     ]
    },
    {
     "name": "stderr",
     "output_type": "stream",
     "text": [
      "100%|███████████████████████████████████████████████████████████████████████████████████████████████████████████████████████████████████████| 1794831/1794831 [00:06<00:00, 279504.77it/s]\n",
      "100%|███████████████████████████████████████████████████████████████████████████████████████████████████████████████████████████████████████████████████████| 1/1 [00:02<00:00,  2.33s/it]\n"
     ]
    },
    {
     "name": "stdout",
     "output_type": "stream",
     "text": [
      "Evaluating Dimension 1\n"
     ]
    },
    {
     "name": "stderr",
     "output_type": "stream",
     "text": [
      "100%|███████████████████████████████████████████████████████████████████████████████████████████████████████████████████████████████████████████████| 2500/2500 [00:01<00:00, 1910.84it/s]\n"
     ]
    },
    {
     "name": "stdout",
     "output_type": "stream",
     "text": [
      "\tNumber of Connected Components:  1\n",
      "Estimating Number of Facets for dimension  2 Part 1:\n"
     ]
    },
    {
     "name": "stderr",
     "output_type": "stream",
     "text": [
      "100%|██████████████████████████████████████████████████████████████████████████████████████████████████████████████████████████████████████████████| 668/668 [00:00<00:00, 1716786.20it/s]\n"
     ]
    },
    {
     "name": "stdout",
     "output_type": "stream",
     "text": [
      "Estimating Number of Facets for dimension  2 Part 2:\n"
     ]
    },
    {
     "name": "stderr",
     "output_type": "stream",
     "text": [
      "100%|██████████████████████████████████████████████████████████████████████████████████████████████████████████████████████████████████████████████████| 50/50 [00:00<00:00, 10836.87it/s]\n"
     ]
    },
    {
     "name": "stdout",
     "output_type": "stream",
     "text": [
      "Evaluating Dimension 2\n"
     ]
    },
    {
     "name": "stderr",
     "output_type": "stream",
     "text": [
      "100%|███████████████████████████████████████████████████████████████████████████████████████████████████████████████████████████████████████████████| 2007/2007 [00:01<00:00, 1769.39it/s]\n"
     ]
    },
    {
     "name": "stdout",
     "output_type": "stream",
     "text": [
      "Estimating Number of Facets for dimension  3 Part 1:\n"
     ]
    },
    {
     "name": "stderr",
     "output_type": "stream",
     "text": [
      "100%|████████████████████████████████████████████████████████████████████████████████████████████████████████████████████████████████████████████| 1656/1656 [00:00<00:00, 1541790.77it/s]\n"
     ]
    },
    {
     "name": "stdout",
     "output_type": "stream",
     "text": [
      "Estimating Number of Facets for dimension  3 Part 2:\n"
     ]
    },
    {
     "name": "stderr",
     "output_type": "stream",
     "text": [
      "100%|██████████████████████████████████████████████████████████████████████████████████████████████████████████████████████████████████████████████| 1656/1656 [00:00<00:00, 57208.24it/s]\n"
     ]
    },
    {
     "name": "stdout",
     "output_type": "stream",
     "text": [
      "Evaluating Dimension 3\n"
     ]
    },
    {
     "name": "stderr",
     "output_type": "stream",
     "text": [
      "100%|███████████████████████████████████████████████████████████████████████████████████████████████████████████████████████████████████████████████| 7900/7900 [00:05<00:00, 1551.16it/s]\n"
     ]
    }
   ],
   "source": [
    "for k in range(5): \n",
    "\n",
    "    labels.append(1)\n",
    "    \n",
    "    n = 1000\n",
    "    \n",
    "    random_dim = np.random.randint(2,4)\n",
    "    random_radius = 10 * np.random.rand()\n",
    "    #S = points.sphere(n_samples = n, ambient_dim = 2 * random_dim, radius = random_radius, sample = \"random\")\n",
    "    S = points.ctorus(n_samples = n, dim = random_dim)\n",
    "\n",
    "    ambient_dimension.append(2 * random_dim)\n",
    "    \n",
    "    distance_distribution = squareform(pdist(S, 'euclidean'))\n",
    "    h = np.max(minimum_spanning_tree(distance_distribution))\n",
    "    alpha = 2 * h\n",
    "    \n",
    "    S = np.array(S)\n",
    "    P = np.zeros(len(S))\n",
    "    D = 2\n",
    "\n",
    "    np.savetxt(\"Gudhi Shape Dataset/shape_\" + str(k) + \"_points.csv\", S, delimiter=\",\")\n",
    "    \n",
    "    my_alpha_complex = VietorisRips(S, max_dimension = D, max_radius = alpha)\n",
    "    \n",
    "    example2 = gudhi.SimplexTree()\n",
    "    for d in range(D + 1):\n",
    "        for facet, val in my_alpha_complex[d]:\n",
    "            example2.insert(facet, filtration=val)\n",
    "            \n",
    "    my_persistence = example2.persistence(homology_coeff_field = 2)\n",
    "    \n",
    "    simplices = []\n",
    "    for d in range(D + 1):\n",
    "        for facet, val in my_alpha_complex[d]:\n",
    "            simplices.append(facet)    \n",
    "    \n",
    "    Y_skel, Y = alphatools.compute_weighted_cech_graph(S, P, alpha / 2)\n",
    "    \n",
    "    L = laplacian(Y)\n",
    "\n",
    "    np.savetxt(\"Gudhi Shape Dataset/shape_\" + str(k) + \"_laplacian.csv\", L, delimiter=\",\")\n",
    "    \n",
    "    extract_pairs = []\n",
    "    for dimension, pair in my_persistence:\n",
    "        if dimension == 1:\n",
    "            if pair[1] < np.inf:\n",
    "                extract_pairs.append(pair)\n",
    "            else: \n",
    "                new_pair = list(pair)\n",
    "                new_pair[1] = alpha\n",
    "                extract_pairs.append(new_pair)\n",
    "    \n",
    "    PI = PersistenceImage(bandwidth=0.1 * alpha, weight=lambda x: x[1]**2, resolution=[100,100])\n",
    "    \n",
    "    extract_pairs = np.array(extract_pairs)\n",
    "    \n",
    "    pi = PI.fit_transform([extract_pairs])\n",
    "\n",
    "    pi = np.flip(np.reshape(pi[0], [100,100]), 0)\n",
    "\n",
    "    np.savetxt(\"Gudhi Shape Dataset/shape_\" + str(k) + \"_vr_persistence_image.csv\", pi, delimiter=\",\")\n",
    "    \n",
    "    distance_distribution = squareform(pdist(S, 'euclidean'))\n",
    "    h = np.max(minimum_spanning_tree(distance_distribution))\n",
    "    \n",
    "    num_landmarks = 50\n",
    "    \n",
    "    chosen_indices = random.sample(range(n), num_landmarks)\n",
    "    \n",
    "    chosen_landmarks = S[chosen_indices, :]\n",
    "    \n",
    "    assigned_voronoi_cells = np.argsort(cdist(S, chosen_landmarks), axis=1)\n",
    "    \n",
    "    R = 1.0\n",
    "    abstract_cplx = DiffRips(chosen_landmarks, max_dimension = 3, max_radius = R)\n",
    "    \n",
    "    example2 = gudhi.SimplexTree()\n",
    "    filtration = []\n",
    "    for d in range(D + 1):\n",
    "        for facet, val in abstract_cplx[d]:\n",
    "            filtration.append((facet, val))\n",
    "            example2.insert(facet, filtration=val)\n",
    "\n",
    "    my_persistence = example2.persistence(homology_coeff_field = 2)\n",
    "    \n",
    "    extract_pairs = []\n",
    "    for dimension, pair in my_persistence:\n",
    "        if dimension == 1:\n",
    "            if pair[1] < np.inf:\n",
    "                extract_pairs.append(pair)\n",
    "            else: \n",
    "                new_pair = list(pair)\n",
    "                new_pair[1] = max(alpha, 1.01)\n",
    "                extract_pairs.append(new_pair)\n",
    "    \n",
    "    extract_pairs = np.array(extract_pairs)\n",
    "    \n",
    "    PI = PersistenceImage(bandwidth=0.1 * alpha, weight=lambda x: x[1]**2, resolution=[100,100])\n",
    "    \n",
    "    pi = PI.fit_transform([extract_pairs])\n",
    "    \n",
    "    pi = np.flip(np.reshape(pi[0], [100,100]), 0)\n",
    "\n",
    "    np.savetxt(\"Gudhi Shape Dataset/shape_\" + str(k) + \"_abstract_persistence_image.csv\", pi, delimiter=\",\")"
   ]
  },
  {
   "cell_type": "code",
   "execution_count": 5,
   "id": "8affc257-11d5-48e5-aae3-88e1828b4a6c",
   "metadata": {},
   "outputs": [
    {
     "name": "stdout",
     "output_type": "stream",
     "text": [
      "Evaluating Dimension 1\n"
     ]
    },
    {
     "name": "stderr",
     "output_type": "stream",
     "text": [
      "100%|███████████████████████████████████████████████████████████████████████████████████████████████████████████████████████████████████████| 1000000/1000000 [00:02<00:00, 456797.44it/s]\n"
     ]
    },
    {
     "name": "stdout",
     "output_type": "stream",
     "text": [
      "\tNumber of Connected Components:  1\n",
      "Estimating Number of Facets for dimension  2 Part 1:\n"
     ]
    },
    {
     "name": "stderr",
     "output_type": "stream",
     "text": [
      "100%|██████████████████████████████████████████████████████████████████████████████████████████████████████████████████████████████████████████| 53914/53914 [00:00<00:00, 2221245.78it/s]\n"
     ]
    },
    {
     "name": "stdout",
     "output_type": "stream",
     "text": [
      "Estimating Number of Facets for dimension  2 Part 2:\n"
     ]
    },
    {
     "name": "stderr",
     "output_type": "stream",
     "text": [
      "100%|████████████████████████████████████████████████████████████████████████████████████████████████████████████████████████████████████████████████| 1000/1000 [00:01<00:00, 633.95it/s]\n"
     ]
    },
    {
     "name": "stdout",
     "output_type": "stream",
     "text": [
      "Evaluating Dimension 2\n"
     ]
    },
    {
     "name": "stderr",
     "output_type": "stream",
     "text": [
      "100%|█████████████████████████████████████████████████████████████████████████████████████████████████████████████████████████████████████████| 740340/740340 [00:03<00:00, 245491.76it/s]\n",
      "100%|███████████████████████████████████████████████████████████████████████████████████████████████████████████████████████████████████████████████████████| 1/1 [00:02<00:00,  2.25s/it]\n"
     ]
    },
    {
     "name": "stdout",
     "output_type": "stream",
     "text": [
      "Evaluating Dimension 1\n"
     ]
    },
    {
     "name": "stderr",
     "output_type": "stream",
     "text": [
      "100%|███████████████████████████████████████████████████████████████████████████████████████████████████████████████████████████████████████████████| 2500/2500 [00:01<00:00, 1850.57it/s]\n"
     ]
    },
    {
     "name": "stdout",
     "output_type": "stream",
     "text": [
      "\tNumber of Connected Components:  1\n",
      "Estimating Number of Facets for dimension  2 Part 1:\n"
     ]
    },
    {
     "name": "stderr",
     "output_type": "stream",
     "text": [
      "100%|██████████████████████████████████████████████████████████████████████████████████████████████████████████████████████████████████████████████| 592/592 [00:00<00:00, 1582554.47it/s]\n"
     ]
    },
    {
     "name": "stdout",
     "output_type": "stream",
     "text": [
      "Estimating Number of Facets for dimension  2 Part 2:\n"
     ]
    },
    {
     "name": "stderr",
     "output_type": "stream",
     "text": [
      "100%|██████████████████████████████████████████████████████████████████████████████████████████████████████████████████████████████████████████████████| 50/50 [00:00<00:00, 13720.33it/s]\n"
     ]
    },
    {
     "name": "stdout",
     "output_type": "stream",
     "text": [
      "Evaluating Dimension 2\n"
     ]
    },
    {
     "name": "stderr",
     "output_type": "stream",
     "text": [
      "100%|███████████████████████████████████████████████████████████████████████████████████████████████████████████████████████████████████████████████| 1772/1772 [00:01<00:00, 1754.40it/s]\n"
     ]
    },
    {
     "name": "stdout",
     "output_type": "stream",
     "text": [
      "Estimating Number of Facets for dimension  3 Part 1:\n"
     ]
    },
    {
     "name": "stderr",
     "output_type": "stream",
     "text": [
      "100%|████████████████████████████████████████████████████████████████████████████████████████████████████████████████████████████████████████████| 1553/1553 [00:00<00:00, 1024336.23it/s]\n"
     ]
    },
    {
     "name": "stdout",
     "output_type": "stream",
     "text": [
      "Estimating Number of Facets for dimension  3 Part 2:\n"
     ]
    },
    {
     "name": "stderr",
     "output_type": "stream",
     "text": [
      "100%|██████████████████████████████████████████████████████████████████████████████████████████████████████████████████████████████████████████████| 1553/1553 [00:00<00:00, 60005.29it/s]\n"
     ]
    },
    {
     "name": "stdout",
     "output_type": "stream",
     "text": [
      "Evaluating Dimension 3\n"
     ]
    },
    {
     "name": "stderr",
     "output_type": "stream",
     "text": [
      "100%|███████████████████████████████████████████████████████████████████████████████████████████████████████████████████████████████████████████████| 8213/8213 [00:05<00:00, 1542.97it/s]\n"
     ]
    },
    {
     "name": "stdout",
     "output_type": "stream",
     "text": [
      "Evaluating Dimension 1\n"
     ]
    },
    {
     "name": "stderr",
     "output_type": "stream",
     "text": [
      "100%|███████████████████████████████████████████████████████████████████████████████████████████████████████████████████████████████████████| 1000000/1000000 [00:02<00:00, 438830.71it/s]\n"
     ]
    },
    {
     "name": "stdout",
     "output_type": "stream",
     "text": [
      "\tNumber of Connected Components:  1\n",
      "Estimating Number of Facets for dimension  2 Part 1:\n"
     ]
    },
    {
     "name": "stderr",
     "output_type": "stream",
     "text": [
      "100%|████████████████████████████████████████████████████████████████████████████████████████████████████████████████████████████████████████| 147848/147848 [00:00<00:00, 2170367.10it/s]\n"
     ]
    },
    {
     "name": "stdout",
     "output_type": "stream",
     "text": [
      "Estimating Number of Facets for dimension  2 Part 2:\n"
     ]
    },
    {
     "name": "stderr",
     "output_type": "stream",
     "text": [
      "100%|█████████████████████████████████████████████████████████████████████████████████████████████████████████████████████████████████████████████████| 1000/1000 [00:14<00:00, 69.81it/s]\n"
     ]
    },
    {
     "name": "stdout",
     "output_type": "stream",
     "text": [
      "Evaluating Dimension 2\n"
     ]
    },
    {
     "name": "stderr",
     "output_type": "stream",
     "text": [
      "100%|███████████████████████████████████████████████████████████████████████████████████████████████████████████████████████████████████████| 4867519/4867519 [00:17<00:00, 277510.61it/s]\n",
      "100%|███████████████████████████████████████████████████████████████████████████████████████████████████████████████████████████████████████████████████████| 1/1 [00:02<00:00,  2.30s/it]\n"
     ]
    },
    {
     "name": "stdout",
     "output_type": "stream",
     "text": [
      "Evaluating Dimension 1\n"
     ]
    },
    {
     "name": "stderr",
     "output_type": "stream",
     "text": [
      "100%|███████████████████████████████████████████████████████████████████████████████████████████████████████████████████████████████████████████████| 2500/2500 [00:01<00:00, 1905.38it/s]\n"
     ]
    },
    {
     "name": "stdout",
     "output_type": "stream",
     "text": [
      "\tNumber of Connected Components:  1\n",
      "Estimating Number of Facets for dimension  2 Part 1:\n"
     ]
    },
    {
     "name": "stderr",
     "output_type": "stream",
     "text": [
      "100%|██████████████████████████████████████████████████████████████████████████████████████████████████████████████████████████████████████████████| 804/804 [00:00<00:00, 1478395.62it/s]\n"
     ]
    },
    {
     "name": "stdout",
     "output_type": "stream",
     "text": [
      "Estimating Number of Facets for dimension  2 Part 2:\n"
     ]
    },
    {
     "name": "stderr",
     "output_type": "stream",
     "text": [
      "100%|███████████████████████████████████████████████████████████████████████████████████████████████████████████████████████████████████████████████████| 50/50 [00:00<00:00, 5862.88it/s]\n"
     ]
    },
    {
     "name": "stdout",
     "output_type": "stream",
     "text": [
      "Evaluating Dimension 2\n"
     ]
    },
    {
     "name": "stderr",
     "output_type": "stream",
     "text": [
      "100%|███████████████████████████████████████████████████████████████████████████████████████████████████████████████████████████████████████████████| 3127/3127 [00:01<00:00, 1777.31it/s]\n"
     ]
    },
    {
     "name": "stdout",
     "output_type": "stream",
     "text": [
      "Estimating Number of Facets for dimension  3 Part 1:\n"
     ]
    },
    {
     "name": "stderr",
     "output_type": "stream",
     "text": [
      "100%|████████████████████████████████████████████████████████████████████████████████████████████████████████████████████████████████████████████| 2281/2281 [00:00<00:00, 1553874.85it/s]\n"
     ]
    },
    {
     "name": "stdout",
     "output_type": "stream",
     "text": [
      "Estimating Number of Facets for dimension  3 Part 2:\n"
     ]
    },
    {
     "name": "stderr",
     "output_type": "stream",
     "text": [
      "100%|██████████████████████████████████████████████████████████████████████████████████████████████████████████████████████████████████████████████| 2281/2281 [00:00<00:00, 39903.43it/s]\n"
     ]
    },
    {
     "name": "stdout",
     "output_type": "stream",
     "text": [
      "Evaluating Dimension 3\n"
     ]
    },
    {
     "name": "stderr",
     "output_type": "stream",
     "text": [
      "100%|█████████████████████████████████████████████████████████████████████████████████████████████████████████████████████████████████████████████| 14969/14969 [00:09<00:00, 1518.45it/s]\n"
     ]
    },
    {
     "name": "stdout",
     "output_type": "stream",
     "text": [
      "Evaluating Dimension 1\n"
     ]
    },
    {
     "name": "stderr",
     "output_type": "stream",
     "text": [
      "100%|███████████████████████████████████████████████████████████████████████████████████████████████████████████████████████████████████████| 1000000/1000000 [00:02<00:00, 459936.70it/s]\n"
     ]
    },
    {
     "name": "stdout",
     "output_type": "stream",
     "text": [
      "\tNumber of Connected Components:  1\n",
      "Estimating Number of Facets for dimension  2 Part 1:\n"
     ]
    },
    {
     "name": "stderr",
     "output_type": "stream",
     "text": [
      "100%|████████████████████████████████████████████████████████████████████████████████████████████████████████████████████████████████████████| 192042/192042 [00:00<00:00, 1898133.71it/s]\n"
     ]
    },
    {
     "name": "stdout",
     "output_type": "stream",
     "text": [
      "Estimating Number of Facets for dimension  2 Part 2:\n"
     ]
    },
    {
     "name": "stderr",
     "output_type": "stream",
     "text": [
      "100%|█████████████████████████████████████████████████████████████████████████████████████████████████████████████████████████████████████████████████| 1000/1000 [00:23<00:00, 42.43it/s]\n"
     ]
    },
    {
     "name": "stdout",
     "output_type": "stream",
     "text": [
      "Evaluating Dimension 2\n"
     ]
    },
    {
     "name": "stderr",
     "output_type": "stream",
     "text": [
      "100%|███████████████████████████████████████████████████████████████████████████████████████████████████████████████████████████████████████| 8628569/8628569 [00:28<00:00, 307580.85it/s]\n",
      "100%|███████████████████████████████████████████████████████████████████████████████████████████████████████████████████████████████████████████████████████| 1/1 [00:04<00:00,  4.54s/it]\n"
     ]
    },
    {
     "name": "stdout",
     "output_type": "stream",
     "text": [
      "Evaluating Dimension 1\n"
     ]
    },
    {
     "name": "stderr",
     "output_type": "stream",
     "text": [
      "100%|███████████████████████████████████████████████████████████████████████████████████████████████████████████████████████████████████████████████| 2500/2500 [00:01<00:00, 1899.22it/s]\n"
     ]
    },
    {
     "name": "stdout",
     "output_type": "stream",
     "text": [
      "\tNumber of Connected Components:  1\n",
      "Estimating Number of Facets for dimension  2 Part 1:\n"
     ]
    },
    {
     "name": "stderr",
     "output_type": "stream",
     "text": [
      "100%|██████████████████████████████████████████████████████████████████████████████████████████████████████████████████████████████████████████████| 782/782 [00:00<00:00, 1875326.32it/s]\n"
     ]
    },
    {
     "name": "stdout",
     "output_type": "stream",
     "text": [
      "Estimating Number of Facets for dimension  2 Part 2:\n"
     ]
    },
    {
     "name": "stderr",
     "output_type": "stream",
     "text": [
      "100%|███████████████████████████████████████████████████████████████████████████████████████████████████████████████████████████████████████████████████| 50/50 [00:00<00:00, 8188.80it/s]\n"
     ]
    },
    {
     "name": "stdout",
     "output_type": "stream",
     "text": [
      "Evaluating Dimension 2\n"
     ]
    },
    {
     "name": "stderr",
     "output_type": "stream",
     "text": [
      "100%|███████████████████████████████████████████████████████████████████████████████████████████████████████████████████████████████████████████████| 3021/3021 [00:01<00:00, 1764.94it/s]\n"
     ]
    },
    {
     "name": "stdout",
     "output_type": "stream",
     "text": [
      "Estimating Number of Facets for dimension  3 Part 1:\n"
     ]
    },
    {
     "name": "stderr",
     "output_type": "stream",
     "text": [
      "100%|████████████████████████████████████████████████████████████████████████████████████████████████████████████████████████████████████████████| 2133/2133 [00:00<00:00, 1200543.54it/s]\n"
     ]
    },
    {
     "name": "stdout",
     "output_type": "stream",
     "text": [
      "Estimating Number of Facets for dimension  3 Part 2:\n"
     ]
    },
    {
     "name": "stderr",
     "output_type": "stream",
     "text": [
      "100%|██████████████████████████████████████████████████████████████████████████████████████████████████████████████████████████████████████████████| 2133/2133 [00:00<00:00, 41440.82it/s]\n"
     ]
    },
    {
     "name": "stdout",
     "output_type": "stream",
     "text": [
      "Evaluating Dimension 3\n"
     ]
    },
    {
     "name": "stderr",
     "output_type": "stream",
     "text": [
      "100%|█████████████████████████████████████████████████████████████████████████████████████████████████████████████████████████████████████████████| 12861/12861 [00:08<00:00, 1554.56it/s]\n"
     ]
    },
    {
     "name": "stdout",
     "output_type": "stream",
     "text": [
      "Evaluating Dimension 1\n"
     ]
    },
    {
     "name": "stderr",
     "output_type": "stream",
     "text": [
      "100%|███████████████████████████████████████████████████████████████████████████████████████████████████████████████████████████████████████| 1000000/1000000 [00:02<00:00, 482929.83it/s]\n"
     ]
    },
    {
     "name": "stdout",
     "output_type": "stream",
     "text": [
      "\tNumber of Connected Components:  1\n",
      "Estimating Number of Facets for dimension  2 Part 1:\n"
     ]
    },
    {
     "name": "stderr",
     "output_type": "stream",
     "text": [
      "100%|██████████████████████████████████████████████████████████████████████████████████████████████████████████████████████████████████████████| 55670/55670 [00:00<00:00, 2272719.26it/s]\n"
     ]
    },
    {
     "name": "stdout",
     "output_type": "stream",
     "text": [
      "Estimating Number of Facets for dimension  2 Part 2:\n"
     ]
    },
    {
     "name": "stderr",
     "output_type": "stream",
     "text": [
      "100%|████████████████████████████████████████████████████████████████████████████████████████████████████████████████████████████████████████████████| 1000/1000 [00:01<00:00, 589.37it/s]\n"
     ]
    },
    {
     "name": "stdout",
     "output_type": "stream",
     "text": [
      "Evaluating Dimension 2\n"
     ]
    },
    {
     "name": "stderr",
     "output_type": "stream",
     "text": [
      "100%|█████████████████████████████████████████████████████████████████████████████████████████████████████████████████████████████████████████| 792982/792982 [00:01<00:00, 457429.78it/s]\n",
      "100%|███████████████████████████████████████████████████████████████████████████████████████████████████████████████████████████████████████████████████████| 1/1 [00:02<00:00,  2.27s/it]\n"
     ]
    },
    {
     "name": "stdout",
     "output_type": "stream",
     "text": [
      "Evaluating Dimension 1\n"
     ]
    },
    {
     "name": "stderr",
     "output_type": "stream",
     "text": [
      "100%|███████████████████████████████████████████████████████████████████████████████████████████████████████████████████████████████████████████████| 2500/2500 [00:01<00:00, 1914.94it/s]\n"
     ]
    },
    {
     "name": "stdout",
     "output_type": "stream",
     "text": [
      "\tNumber of Connected Components:  1\n",
      "Estimating Number of Facets for dimension  2 Part 1:\n"
     ]
    },
    {
     "name": "stderr",
     "output_type": "stream",
     "text": [
      "100%|██████████████████████████████████████████████████████████████████████████████████████████████████████████████████████████████████████████████| 612/612 [00:00<00:00, 1521585.09it/s]\n"
     ]
    },
    {
     "name": "stdout",
     "output_type": "stream",
     "text": [
      "Estimating Number of Facets for dimension  2 Part 2:\n"
     ]
    },
    {
     "name": "stderr",
     "output_type": "stream",
     "text": [
      "100%|██████████████████████████████████████████████████████████████████████████████████████████████████████████████████████████████████████████████████| 50/50 [00:00<00:00, 13445.01it/s]\n"
     ]
    },
    {
     "name": "stdout",
     "output_type": "stream",
     "text": [
      "Evaluating Dimension 2\n"
     ]
    },
    {
     "name": "stderr",
     "output_type": "stream",
     "text": [
      "100%|███████████████████████████████████████████████████████████████████████████████████████████████████████████████████████████████████████████████| 1831/1831 [00:01<00:00, 1770.44it/s]\n"
     ]
    },
    {
     "name": "stdout",
     "output_type": "stream",
     "text": [
      "Estimating Number of Facets for dimension  3 Part 1:\n"
     ]
    },
    {
     "name": "stderr",
     "output_type": "stream",
     "text": [
      "100%|████████████████████████████████████████████████████████████████████████████████████████████████████████████████████████████████████████████| 1675/1675 [00:00<00:00, 1517377.80it/s]\n"
     ]
    },
    {
     "name": "stdout",
     "output_type": "stream",
     "text": [
      "Estimating Number of Facets for dimension  3 Part 2:\n"
     ]
    },
    {
     "name": "stderr",
     "output_type": "stream",
     "text": [
      "100%|██████████████████████████████████████████████████████████████████████████████████████████████████████████████████████████████████████████████| 1675/1675 [00:00<00:00, 56808.57it/s]\n"
     ]
    },
    {
     "name": "stdout",
     "output_type": "stream",
     "text": [
      "Evaluating Dimension 3\n"
     ]
    },
    {
     "name": "stderr",
     "output_type": "stream",
     "text": [
      "100%|███████████████████████████████████████████████████████████████████████████████████████████████████████████████████████████████████████████████| 9380/9380 [00:06<00:00, 1536.65it/s]\n"
     ]
    },
    {
     "name": "stdout",
     "output_type": "stream",
     "text": [
      "Evaluating Dimension 1\n"
     ]
    },
    {
     "name": "stderr",
     "output_type": "stream",
     "text": [
      "100%|███████████████████████████████████████████████████████████████████████████████████████████████████████████████████████████████████████| 1000000/1000000 [00:02<00:00, 430763.97it/s]\n"
     ]
    },
    {
     "name": "stdout",
     "output_type": "stream",
     "text": [
      "\tNumber of Connected Components:  1\n",
      "Estimating Number of Facets for dimension  2 Part 1:\n"
     ]
    },
    {
     "name": "stderr",
     "output_type": "stream",
     "text": [
      "100%|██████████████████████████████████████████████████████████████████████████████████████████████████████████████████████████████████████████| 59862/59862 [00:00<00:00, 1970316.69it/s]\n"
     ]
    },
    {
     "name": "stdout",
     "output_type": "stream",
     "text": [
      "Estimating Number of Facets for dimension  2 Part 2:\n"
     ]
    },
    {
     "name": "stderr",
     "output_type": "stream",
     "text": [
      "100%|████████████████████████████████████████████████████████████████████████████████████████████████████████████████████████████████████████████████| 1000/1000 [00:02<00:00, 427.03it/s]\n"
     ]
    },
    {
     "name": "stdout",
     "output_type": "stream",
     "text": [
      "Evaluating Dimension 2\n"
     ]
    },
    {
     "name": "stderr",
     "output_type": "stream",
     "text": [
      "100%|█████████████████████████████████████████████████████████████████████████████████████████████████████████████████████████████████████████| 909452/909452 [00:03<00:00, 230935.22it/s]\n",
      "100%|███████████████████████████████████████████████████████████████████████████████████████████████████████████████████████████████████████████████████████| 1/1 [00:02<00:00,  2.25s/it]\n"
     ]
    },
    {
     "name": "stdout",
     "output_type": "stream",
     "text": [
      "Evaluating Dimension 1\n"
     ]
    },
    {
     "name": "stderr",
     "output_type": "stream",
     "text": [
      "100%|███████████████████████████████████████████████████████████████████████████████████████████████████████████████████████████████████████████████| 2500/2500 [00:01<00:00, 1788.60it/s]\n"
     ]
    },
    {
     "name": "stdout",
     "output_type": "stream",
     "text": [
      "\tNumber of Connected Components:  1\n",
      "Estimating Number of Facets for dimension  2 Part 1:\n"
     ]
    },
    {
     "name": "stderr",
     "output_type": "stream",
     "text": [
      "100%|███████████████████████████████████████████████████████████████████████████████████████████████████████████████████████████████████████████████| 598/598 [00:00<00:00, 560114.74it/s]\n"
     ]
    },
    {
     "name": "stdout",
     "output_type": "stream",
     "text": [
      "Estimating Number of Facets for dimension  2 Part 2:\n"
     ]
    },
    {
     "name": "stderr",
     "output_type": "stream",
     "text": [
      "100%|██████████████████████████████████████████████████████████████████████████████████████████████████████████████████████████████████████████████████| 50/50 [00:00<00:00, 14052.21it/s]\n"
     ]
    },
    {
     "name": "stdout",
     "output_type": "stream",
     "text": [
      "Evaluating Dimension 2\n"
     ]
    },
    {
     "name": "stderr",
     "output_type": "stream",
     "text": [
      "100%|███████████████████████████████████████████████████████████████████████████████████████████████████████████████████████████████████████████████| 1826/1826 [00:01<00:00, 1765.04it/s]\n"
     ]
    },
    {
     "name": "stdout",
     "output_type": "stream",
     "text": [
      "Estimating Number of Facets for dimension  3 Part 1:\n"
     ]
    },
    {
     "name": "stderr",
     "output_type": "stream",
     "text": [
      "100%|████████████████████████████████████████████████████████████████████████████████████████████████████████████████████████████████████████████| 1586/1586 [00:00<00:00, 1137122.42it/s]\n"
     ]
    },
    {
     "name": "stdout",
     "output_type": "stream",
     "text": [
      "Estimating Number of Facets for dimension  3 Part 2:\n"
     ]
    },
    {
     "name": "stderr",
     "output_type": "stream",
     "text": [
      "100%|██████████████████████████████████████████████████████████████████████████████████████████████████████████████████████████████████████████████| 1586/1586 [00:00<00:00, 58855.71it/s]\n"
     ]
    },
    {
     "name": "stdout",
     "output_type": "stream",
     "text": [
      "Evaluating Dimension 3\n"
     ]
    },
    {
     "name": "stderr",
     "output_type": "stream",
     "text": [
      "100%|███████████████████████████████████████████████████████████████████████████████████████████████████████████████████████████████████████████████| 8529/8529 [00:05<00:00, 1558.83it/s]\n"
     ]
    }
   ],
   "source": [
    "for k in range(5,10): \n",
    "\n",
    "    labels.append(0)\n",
    "    \n",
    "    n = 1000\n",
    "    \n",
    "    random_dim = np.random.randint(2,4)\n",
    "    random_radius = 10 * np.random.rand()\n",
    "    S = points.sphere(n_samples = n, ambient_dim = 2 * random_dim, radius = random_radius, sample = \"random\")\n",
    "    #S = points.ctorus(n_samples = n, dim = random_dim)\n",
    "\n",
    "    ambient_dimension.append(2 * random_dim)\n",
    "\n",
    "    distance_distribution = squareform(pdist(S, 'euclidean'))\n",
    "    h = np.max(minimum_spanning_tree(distance_distribution))\n",
    "    alpha = 2 * h\n",
    "    \n",
    "    S = np.array(S)\n",
    "    P = np.zeros(len(S))\n",
    "    D = 2\n",
    "\n",
    "    np.savetxt(\"Gudhi Shape Dataset/shape_\" + str(k) + \"_points.csv\", S, delimiter=\",\")\n",
    "    \n",
    "    my_alpha_complex = VietorisRips(S, max_dimension = D, max_radius = alpha)\n",
    "    \n",
    "    example2 = gudhi.SimplexTree()\n",
    "    for d in range(D + 1):\n",
    "        for facet, val in my_alpha_complex[d]:\n",
    "            example2.insert(facet, filtration=val)\n",
    "            \n",
    "    my_persistence = example2.persistence(homology_coeff_field = 2)\n",
    "    \n",
    "    simplices = []\n",
    "    for d in range(D + 1):\n",
    "        for facet, val in my_alpha_complex[d]:\n",
    "            simplices.append(facet)    \n",
    "    \n",
    "    Y_skel, Y = alphatools.compute_weighted_cech_graph(S, P, alpha / 2)\n",
    "    \n",
    "    L = laplacian(Y)\n",
    "\n",
    "    np.savetxt(\"Gudhi Shape Dataset/shape_\" + str(k) + \"_laplacian.csv\", L, delimiter=\",\")\n",
    "    \n",
    "    extract_pairs = []\n",
    "    for dimension, pair in my_persistence:\n",
    "        if dimension == 1:\n",
    "            if pair[1] < np.inf:\n",
    "                extract_pairs.append(pair)\n",
    "            else: \n",
    "                new_pair = list(pair)\n",
    "                new_pair[1] = alpha\n",
    "                extract_pairs.append(new_pair)\n",
    "    \n",
    "    PI = PersistenceImage(bandwidth=0.1 * alpha, weight=lambda x: x[1]**2, resolution=[100,100])\n",
    "    \n",
    "    extract_pairs = np.array(extract_pairs)\n",
    "    \n",
    "    pi = PI.fit_transform([extract_pairs])\n",
    "\n",
    "    pi = np.flip(np.reshape(pi[0], [100,100]), 0)\n",
    "\n",
    "    np.savetxt(\"Gudhi Shape Dataset/shape_\" + str(k) + \"_vr_persistence_image.csv\", pi, delimiter=\",\")\n",
    "    \n",
    "    distance_distribution = squareform(pdist(S, 'euclidean'))\n",
    "    h = np.max(minimum_spanning_tree(distance_distribution))\n",
    "    \n",
    "    num_landmarks = 50\n",
    "    \n",
    "    chosen_indices = random.sample(range(n), num_landmarks)\n",
    "    \n",
    "    chosen_landmarks = S[chosen_indices, :]\n",
    "    \n",
    "    assigned_voronoi_cells = np.argsort(cdist(S, chosen_landmarks), axis=1)\n",
    "    \n",
    "    R = 1.0\n",
    "    abstract_cplx = DiffRips(chosen_landmarks, max_dimension = 3, max_radius = R)\n",
    "    \n",
    "    example2 = gudhi.SimplexTree()\n",
    "    filtration = []\n",
    "    for d in range(D + 1):\n",
    "        for facet, val in abstract_cplx[d]:\n",
    "            filtration.append((facet, val))\n",
    "            example2.insert(facet, filtration=val)\n",
    "\n",
    "    my_persistence = example2.persistence(homology_coeff_field = 2)\n",
    "    \n",
    "    extract_pairs = []\n",
    "    for dimension, pair in my_persistence:\n",
    "        if dimension == 1:\n",
    "            if pair[1] < np.inf:\n",
    "                extract_pairs.append(pair)\n",
    "            else: \n",
    "                new_pair = list(pair)\n",
    "                new_pair[1] = max(alpha, 1.01)\n",
    "                extract_pairs.append(new_pair)\n",
    "    \n",
    "    extract_pairs = np.array(extract_pairs)\n",
    "    \n",
    "    PI = PersistenceImage(bandwidth=0.1 * alpha, weight=lambda x: x[1]**2, resolution=[100,100])\n",
    "    \n",
    "    pi = PI.fit_transform([extract_pairs])\n",
    "    \n",
    "    pi = np.flip(np.reshape(pi[0], [100,100]), 0)\n",
    "\n",
    "    np.savetxt(\"Gudhi Shape Dataset/shape_\" + str(k) + \"_abstract_persistence_image.csv\", pi, delimiter=\",\")"
   ]
  },
  {
   "cell_type": "code",
   "execution_count": 6,
   "id": "467760d3-f12f-4c03-9565-4f3e39e36fb2",
   "metadata": {},
   "outputs": [],
   "source": [
    "df = pandas.DataFrame(data={\"shape number\": list(range(len(labels))), \"ambient dimension\": ambient_dimension,\"label\": labels})\n",
    "df.to_csv(\"Gudhi Shape Dataset/shape_labels.csv\", sep=',',index=False)"
   ]
  }
 ],
 "metadata": {
  "kernelspec": {
   "display_name": "Python 3 (ipykernel)",
   "language": "python",
   "name": "python3"
  },
  "language_info": {
   "codemirror_mode": {
    "name": "ipython",
    "version": 3
   },
   "file_extension": ".py",
   "mimetype": "text/x-python",
   "name": "python",
   "nbconvert_exporter": "python",
   "pygments_lexer": "ipython3",
   "version": "3.10.15"
  }
 },
 "nbformat": 4,
 "nbformat_minor": 5
}
