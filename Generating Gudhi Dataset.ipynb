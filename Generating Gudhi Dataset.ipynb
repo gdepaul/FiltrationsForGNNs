{
 "cells": [
  {
   "cell_type": "code",
   "execution_count": 7,
   "id": "dedebf46-f505-4a00-a315-9263cad9736a",
   "metadata": {},
   "outputs": [],
   "source": [
    "from gudhi.datasets.generators import points\n",
    "from DensiTDA import alphatools, graphtools, landmarktools \n",
    "import numpy as np\n",
    "import gudhi\n",
    "import matplotlib.pyplot as plt\n",
    "from scipy.sparse.csgraph import laplacian\n",
    "from hodgelaplacians import HodgeLaplacians\n",
    "from gudhi.representations.vector_methods import PersistenceImage\n",
    "from scipy.spatial.distance import cdist, pdist, squareform\n",
    "import seaborn as sns\n",
    "from scipy.sparse.csgraph import minimum_spanning_tree, connected_components\n",
    "from collections import defaultdict\n",
    "import itertools\n",
    "from tqdm import tqdm\n",
    "import random\n",
    "import math"
   ]
  },
  {
   "cell_type": "code",
   "execution_count": 8,
   "id": "c7dcb7e0-4bb7-4a22-be18-6b0ef8328ca9",
   "metadata": {},
   "outputs": [],
   "source": [
    "class SimplexTree: \n",
    "    \n",
    "    def __init__(self): \n",
    "        \n",
    "        self.X = [-1, defaultdict(lambda: [ 0.0, defaultdict(list)] ) ]\n",
    "\n",
    "    def contains_simplex(self, my_tuple): \n",
    "        \n",
    "        curr_level = self.X\n",
    "        for index in my_tuple: \n",
    "            if index in curr_level[1].keys():\n",
    "                curr_level = curr_level[1][index] \n",
    "            else: \n",
    "                return False \n",
    "            \n",
    "        return True\n",
    "    \n",
    "    def simplex_val(self, my_tuple): \n",
    "        \n",
    "        curr_level = self.X\n",
    "        for index in my_tuple: \n",
    "            if index in curr_level[1].keys():\n",
    "                curr_level = curr_level[1][index] \n",
    "            else: \n",
    "                return math.inf \n",
    "            \n",
    "        return curr_level[0]\n",
    "    \n",
    "    def simplex_leaves(self, my_tuple): \n",
    "        \n",
    "        curr_level = self.X\n",
    "        for index in my_tuple: \n",
    "            if index in curr_level[1].keys():\n",
    "                curr_level = curr_level[1][index] \n",
    "            else: \n",
    "                return [] \n",
    "            \n",
    "        return list(curr_level[1].keys())\n",
    "    \n",
    "    def add_simplex(self, new_simplex,val):\n",
    "    \n",
    "        curr_level = self.X\n",
    "        for index in new_simplex[:-1]: \n",
    "            if index in curr_level[1].keys():\n",
    "                curr_level = curr_level[1][index] \n",
    "            else: \n",
    "                return False \n",
    "        \n",
    "        curr_level[1][new_simplex[-1]] = [ val, defaultdict(lambda: [ 0.0, defaultdict(list)] ) ]\n",
    "        \n",
    "        return True\n",
    "    \n",
    "\n",
    "def VietorisRips(S, max_dimension = -1, max_radius = 2): \n",
    "    \n",
    "    if max_dimension < 0: \n",
    "        max_dimension = len(S[0,:])\n",
    "    \n",
    "    R = np.sqrt(max_radius)\n",
    "    \n",
    "    VR_complex = defaultdict(list)\n",
    "    X = SimplexTree()\n",
    "    \n",
    "    for i, s in enumerate(S): \n",
    "        VR_complex[0].append(([i], 0.0))\n",
    "        X.add_simplex([i], 0.0)\n",
    "\n",
    "    print(\"Evaluating Dimension\", 1)\n",
    "    \n",
    "    Y = np.zeros((len(S), len(S)))\n",
    "    adjacency = np.zeros((len(S), len(S)))\n",
    "    with tqdm(total = len(S) ** 2) as pbar:\n",
    "        for i in range(len(S)):\n",
    "            curr_row = []\n",
    "            for j in range(len(S)): \n",
    "                center_distance = np.linalg.norm(S[i] - S[j])\n",
    "                \n",
    "                if center_distance < max_radius:\n",
    "                    VR_complex[1].append(([i,j], center_distance))\n",
    "                    Y[i,j] = center_distance\n",
    "                    adjacency[i,j] = 1\n",
    "                    X.add_simplex([i,j], center_distance)\n",
    "                else:\n",
    "                    Y[i,j] = math.inf\n",
    "\n",
    "                pbar.update(1)\n",
    "                \n",
    "    print(\"\\tNumber of Connected Components: \", connected_components(adjacency)[0])\n",
    "\n",
    "    for curr_dim in range(2,max_dimension + 1):\n",
    "        \n",
    "        print(\"Estimating Number of Facets for dimension \", curr_dim, \"Part 1:\")\n",
    "            \n",
    "        facets_to_consider = VR_complex[curr_dim-1]\n",
    "        visited_prev_words = SimplexTree()\n",
    "        visited_prev_word_list = []\n",
    "        \n",
    "        with tqdm(total = len(facets_to_consider)) as pbar:\n",
    "            for facet, val in facets_to_consider:\n",
    "                sub_facet = facet[:-1]\n",
    "                if not visited_prev_words.contains_simplex(sub_facet):\n",
    "                    visited_prev_words.add_simplex(sub_facet,0.0)\n",
    "                    visited_prev_word_list.append(sub_facet)\n",
    "                pbar.update(1)\n",
    "                    \n",
    "        print(\"Estimating Number of Facets for dimension \", curr_dim, \"Part 2:\")\n",
    "        \n",
    "        Sigma = []\n",
    "        with tqdm(total = len(visited_prev_word_list)) as pbar:\n",
    "            for word in visited_prev_word_list:\n",
    "                indices = X.simplex_leaves(word)\n",
    "                for choose_pair in itertools.combinations(indices, r = 2):\n",
    "                    suggested_word = word + list(choose_pair)\n",
    "                    flag = True\n",
    "                    for subsimplex in list(itertools.combinations(suggested_word, len(suggested_word) - 1)):\n",
    "                        if not X.contains_simplex(subsimplex): \n",
    "                            flag = False\n",
    "                            break\n",
    "\n",
    "                    if flag:\n",
    "                        Sigma.append(word + list(choose_pair))\n",
    "                        \n",
    "                pbar.update(1)\n",
    "        \n",
    "        print(\"Evaluating Dimension\", curr_dim)\n",
    "\n",
    "        with tqdm(total = len(Sigma)) as pbar:\n",
    "            for simplex in Sigma:\n",
    "                value = 0\n",
    "                for subface in itertools.combinations(simplex, len(simplex) - 1):\n",
    "                    value = max(X.simplex_val(subface), value)\n",
    "\n",
    "                if value != math.inf:\n",
    "                    VR_complex[curr_dim].append((simplex, value))\n",
    "                    X.add_simplex(simplex, value)\n",
    "\n",
    "                pbar.update(1)\n",
    "    \n",
    "    return VR_complex"
   ]
  },
  {
   "cell_type": "code",
   "execution_count": 9,
   "id": "9a33c228-134d-4b89-a47a-47517c6451e7",
   "metadata": {},
   "outputs": [],
   "source": [
    "n = 1000\n",
    "\n",
    "random_dim = np.random.randint(2,6)\n",
    "random_radius = 10 * np.random.rand()\n",
    "#S = points.sphere(n_samples = n, ambient_dim = 2 * random_dim, radius = random_radius, sample = \"random\")\n",
    "S = points.ctorus(n_samples = n, dim = random_dim)"
   ]
  },
  {
   "cell_type": "code",
   "execution_count": 17,
   "id": "785c58f0-6ab6-488f-b97c-00e1040f5de1",
   "metadata": {},
   "outputs": [],
   "source": [
    "distance_distribution = squareform(pdist(S, 'euclidean'))\n",
    "h = np.max(minimum_spanning_tree(distance_distribution))\n",
    "alpha = 2 * h"
   ]
  },
  {
   "cell_type": "code",
   "execution_count": 18,
   "id": "023dac9e-d335-4191-a1de-cd5be11d9a6f",
   "metadata": {},
   "outputs": [],
   "source": [
    "S = np.array(S)\n",
    "P = np.zeros(len(S))\n",
    "D = 2"
   ]
  },
  {
   "cell_type": "code",
   "execution_count": 19,
   "id": "92bd9b5f-e581-4bf7-914d-b531fd9db1f6",
   "metadata": {},
   "outputs": [
    {
     "name": "stdout",
     "output_type": "stream",
     "text": [
      "Evaluating Dimension 1\n"
     ]
    },
    {
     "name": "stderr",
     "output_type": "stream",
     "text": [
      "100%|███████████████████████████████████████████████████████████████████████████████████████████████████████████████████████████████████████| 1000000/1000000 [00:02<00:00, 393482.66it/s]\n"
     ]
    },
    {
     "name": "stdout",
     "output_type": "stream",
     "text": [
      "\tNumber of Connected Components:  1\n",
      "Estimating Number of Facets for dimension  2 Part 1:\n"
     ]
    },
    {
     "name": "stderr",
     "output_type": "stream",
     "text": [
      "100%|████████████████████████████████████████████████████████████████████████████████████████████████████████████████████████████████████████| 190708/190708 [00:00<00:00, 2325733.88it/s]\n"
     ]
    },
    {
     "name": "stdout",
     "output_type": "stream",
     "text": [
      "Estimating Number of Facets for dimension  2 Part 2:\n"
     ]
    },
    {
     "name": "stderr",
     "output_type": "stream",
     "text": [
      "100%|█████████████████████████████████████████████████████████████████████████████████████████████████████████████████████████████████████████████████| 1000/1000 [00:21<00:00, 46.29it/s]\n"
     ]
    },
    {
     "name": "stdout",
     "output_type": "stream",
     "text": [
      "Evaluating Dimension 2\n"
     ]
    },
    {
     "name": "stderr",
     "output_type": "stream",
     "text": [
      "100%|███████████████████████████████████████████████████████████████████████████████████████████████████████████████████████████████████████| 7610874/7610874 [00:21<00:00, 348859.78it/s]\n"
     ]
    }
   ],
   "source": [
    "my_alpha_complex = VietorisRips(S, max_dimension = 2, max_radius = alpha)"
   ]
  },
  {
   "cell_type": "code",
   "execution_count": 13,
   "id": "7509fbff-843e-47f2-b349-d7b69ee04cd4",
   "metadata": {},
   "outputs": [],
   "source": [
    "example2 = gudhi.SimplexTree()\n",
    "for d in range(D + 1):\n",
    "    for facet, val in my_alpha_complex[d]:\n",
    "        example2.insert(facet, filtration=val)\n",
    "        \n",
    "my_persistence = example2.persistence(homology_coeff_field = 2)"
   ]
  },
  {
   "cell_type": "code",
   "execution_count": 16,
   "id": "b7c9c1ea-e1bc-4d2b-9b90-936841c094e4",
   "metadata": {},
   "outputs": [
    {
     "data": {
      "text/plain": [
       "<Axes: title={'center': 'Persistence diagram'}, xlabel='Birth', ylabel='Death'>"
      ]
     },
     "execution_count": 16,
     "metadata": {},
     "output_type": "execute_result"
    },
    {
     "data": {
      "image/png": "[encoded data removed]",
      "text/plain": [
       "<Figure size 640x480 with 1 Axes>"
      ]
     },
     "metadata": {},
     "output_type": "display_data"
    }
   ],
   "source": [
    "gudhi.plot_persistence_diagram(my_persistence, legend=True)"
   ]
  },
  {
   "cell_type": "code",
   "execution_count": 15,
   "id": "340ba250-ad7e-44a6-8361-6f1d77802347",
   "metadata": {},
   "outputs": [],
   "source": [
    "simplices = []\n",
    "for d in range(D + 1):\n",
    "    for facet, val in my_alpha_complex[d]:\n",
    "        simplices.append(facet)"
   ]
  },
  {
   "cell_type": "code",
   "execution_count": null,
   "id": "dabe639b-577d-4630-b184-85b3e4636570",
   "metadata": {},
   "outputs": [],
   "source": [
    "Y_skel, Y = alphatools.compute_weighted_cech_graph(S, P, alpha / 2)"
   ]
  },
  {
   "cell_type": "code",
   "execution_count": null,
   "id": "1a999a51-5c3f-411e-9101-c5e2b9c3157f",
   "metadata": {},
   "outputs": [],
   "source": [
    "L = laplacian(Y)"
   ]
  },
  {
   "cell_type": "code",
   "execution_count": null,
   "id": "110f7f91-4abe-43c6-98e1-b5f1aab9556c",
   "metadata": {},
   "outputs": [],
   "source": [
    "#hl = HodgeLaplacians(simplices)"
   ]
  },
  {
   "cell_type": "code",
   "execution_count": null,
   "id": "370deb57-2ef4-4e2a-b325-81eeb7c520e3",
   "metadata": {},
   "outputs": [],
   "source": [
    "#L1 = hl.getHodgeLaplacian(0)"
   ]
  },
  {
   "cell_type": "code",
   "execution_count": null,
   "id": "adbeb484-d335-49f3-96be-738e7c28eb26",
   "metadata": {},
   "outputs": [],
   "source": [
    "#L1"
   ]
  },
  {
   "cell_type": "code",
   "execution_count": null,
   "id": "b661eb42-8f64-4757-826a-a5a4913f3289",
   "metadata": {},
   "outputs": [],
   "source": [
    "# # Function to show the heat map\n",
    "# ax = sns.heatmap( L1.todense() , cmap = 'autumn' )\n",
    "  \n",
    "# # Adding details to the plot\n",
    "# plt.title( \"2-D Heat Map\" )\n",
    "# plt.xlabel('x-axis')\n",
    "# plt.ylabel('y-axis')\n",
    "\n",
    "# # Displaying the plot\n",
    "# plt.show()"
   ]
  },
  {
   "cell_type": "code",
   "execution_count": null,
   "id": "2ded3144-4647-445a-855e-679b7bd366f0",
   "metadata": {},
   "outputs": [],
   "source": [
    "# should be size (44850, 44850)"
   ]
  },
  {
   "cell_type": "code",
   "execution_count": null,
   "id": "6380d9c1-c85d-4190-b1e7-a43ceb7de293",
   "metadata": {},
   "outputs": [],
   "source": [
    "extract_pairs = []\n",
    "for dimension, pair in my_persistence:\n",
    "    if dimension == 1:\n",
    "        if pair[1] < np.inf:\n",
    "            extract_pairs.append(pair)\n",
    "        else: \n",
    "            new_pair = list(pair)\n",
    "            new_pair[1] = alpha\n",
    "            extract_pairs.append(new_pair)"
   ]
  },
  {
   "cell_type": "code",
   "execution_count": null,
   "id": "91d1699a-7fbf-45f0-8176-61ff30379bc3",
   "metadata": {},
   "outputs": [],
   "source": [
    "PI = PersistenceImage(bandwidth=0.1 * alpha, weight=lambda x: x[1]**2, resolution=[100,100])"
   ]
  },
  {
   "cell_type": "code",
   "execution_count": null,
   "id": "4752758f-2ad9-4f08-adf1-67288402ab15",
   "metadata": {},
   "outputs": [],
   "source": [
    "extract_pairs = np.array(extract_pairs)"
   ]
  },
  {
   "cell_type": "code",
   "execution_count": null,
   "id": "fcdddcc1-c0af-4297-890e-3596e57e852e",
   "metadata": {},
   "outputs": [],
   "source": [
    "pi = PI.fit_transform([extract_pairs])"
   ]
  },
  {
   "cell_type": "code",
   "execution_count": null,
   "id": "13a08e00-a7b6-4601-a293-dab4b9093b4c",
   "metadata": {},
   "outputs": [],
   "source": [
    "# plt.imshow(np.flip(np.reshape(pi[0], [100,100]), 0))\n",
    "# plt.title(\"Persistence Image\")"
   ]
  },
  {
   "cell_type": "code",
   "execution_count": null,
   "id": "3da076b9-2b39-4d33-8319-5668ed963b20",
   "metadata": {},
   "outputs": [],
   "source": [
    "distance_distribution = squareform(pdist(S, 'euclidean'))\n",
    "h = np.max(minimum_spanning_tree(distance_distribution))"
   ]
  },
  {
   "cell_type": "code",
   "execution_count": null,
   "id": "a1b57bfe-1dca-4ba8-8f6f-ed5dc0fa8388",
   "metadata": {},
   "outputs": [],
   "source": [
    "h"
   ]
  },
  {
   "cell_type": "code",
   "execution_count": null,
   "id": "25c648b9-c6f3-4b10-8e01-563395071439",
   "metadata": {},
   "outputs": [],
   "source": [
    "num_landmarks = 50\n",
    "\n",
    "chosen_indices = random.sample(range(n), num_landmarks)\n",
    "\n",
    "chosen_landmarks = S[chosen_indices, :]"
   ]
  },
  {
   "cell_type": "code",
   "execution_count": null,
   "id": "5c7087ac-ea69-4936-9c0e-f5ad3f8d274d",
   "metadata": {},
   "outputs": [],
   "source": [
    "assigned_voronoi_cells = np.argsort(cdist(S, chosen_landmarks), axis=1)"
   ]
  },
  {
   "cell_type": "code",
   "execution_count": null,
   "id": "9e1fa6ee-fc9b-4bd4-af11-94cdfb691033",
   "metadata": {},
   "outputs": [],
   "source": [
    "def simplex_proportion(simplex): \n",
    "    \n",
    "    fuzzy = 1\n",
    "    \n",
    "    simplex_set = set(simplex)\n",
    "    \n",
    "    count = 0\n",
    "    for i in range(n): \n",
    "        subface = set(assigned_voronoi_cells[i,0:len(simplex) + 1])\n",
    "        if simplex_set.issubset(subface):\n",
    "            count += 1\n",
    "    \n",
    "    if count != 0:\n",
    "        return 1/count\n",
    "    else: \n",
    "        return np.inf"
   ]
  },
  {
   "cell_type": "code",
   "execution_count": null,
   "id": "e09a8e43-f8f5-4021-b77a-ce182b916931",
   "metadata": {},
   "outputs": [],
   "source": [
    "\n",
    "\n",
    "def DiffRips(S, max_dimension = -1, max_radius = 2): \n",
    "    \n",
    "    if max_dimension < 0: \n",
    "        max_dimension = len(S[0,:])\n",
    "        \n",
    "    VR_complex = defaultdict(list)\n",
    "    X = SimplexTree()\n",
    "    \n",
    "    for i, s in enumerate(S): \n",
    "        value = simplex_proportion([i])\n",
    "        VR_complex[0].append(([i], value))\n",
    "        X.add_simplex([i], value)\n",
    "\n",
    "    print(\"Evaluating Dimension\", 1)\n",
    "    \n",
    "    Y = np.zeros((len(S), len(S)))\n",
    "    adjacency = np.zeros((len(S), len(S)))\n",
    "    with tqdm(total = len(S) ** 2) as pbar:\n",
    "        for i in range(len(S)):\n",
    "            curr_row = []\n",
    "            for j in range(len(S)): \n",
    "                \n",
    "                if i < j:\n",
    "                    center_distance = simplex_proportion([i,j]) #voronoi_distance([i], [j])\n",
    "                elif j < i:\n",
    "                    center_distance = simplex_proportion([j,i])\n",
    "                else: \n",
    "                    center_distance = simplex_proportion([i])\n",
    "                    \n",
    "                if center_distance < max_radius:\n",
    "                    VR_complex[1].append(([i,j], center_distance))\n",
    "                    Y[i,j] = center_distance\n",
    "                    adjacency[i,j] = 1\n",
    "                    X.add_simplex([i,j], center_distance)\n",
    "                else:\n",
    "                    Y[i,j] = math.inf\n",
    "\n",
    "                pbar.update(1)\n",
    "                \n",
    "    print(\"\\tNumber of Connected Components: \", connected_components(adjacency)[0])\n",
    "\n",
    "    for curr_dim in range(2,max_dimension + 1):\n",
    "        \n",
    "        print(\"Estimating Number of Facets for dimension \", curr_dim, \"Part 1:\")\n",
    "        \n",
    "        facets_to_consider = VR_complex[curr_dim-1]\n",
    "        visited_prev_words = SimplexTree()\n",
    "        visited_prev_word_list = []\n",
    "        \n",
    "        if len(facets_to_consider) == 0:\n",
    "            print(\"No facets to consider\")\n",
    "            break\n",
    "        \n",
    "        with tqdm(total = len(facets_to_consider)) as pbar:\n",
    "            for facet, val in facets_to_consider:\n",
    "                sub_facet = facet[:-1]\n",
    "                if not visited_prev_words.contains_simplex(sub_facet):\n",
    "                    visited_prev_words.add_simplex(sub_facet,0.0)\n",
    "                    visited_prev_word_list.append(sub_facet)\n",
    "                pbar.update(1)\n",
    "                    \n",
    "        print(\"Estimating Number of Facets for dimension \", curr_dim, \"Part 2:\")\n",
    "        \n",
    "        if len(visited_prev_word_list) == 0:\n",
    "            print(\"No facets to consider\")\n",
    "            break\n",
    "        \n",
    "        Sigma = []\n",
    "        with tqdm(total = len(visited_prev_word_list)) as pbar:\n",
    "            for word in visited_prev_word_list:\n",
    "                indices = X.simplex_leaves(word)\n",
    "                for choose_pair in itertools.combinations(indices, r = 2):\n",
    "                    suggested_word = word + list(choose_pair)\n",
    "                    flag = True\n",
    "                    for subsimplex in list(itertools.combinations(suggested_word, len(suggested_word) - 1)):\n",
    "                        if not X.contains_simplex(subsimplex): \n",
    "                            flag = False\n",
    "                            break\n",
    "\n",
    "                    if flag:\n",
    "                        Sigma.append(word + list(choose_pair))\n",
    "                        \n",
    "                pbar.update(1)\n",
    "        \n",
    "        print(\"Evaluating Dimension\", curr_dim)\n",
    "        \n",
    "        if len(Sigma) == 0:\n",
    "            print(\"No facets to consider\")\n",
    "            break\n",
    "        \n",
    "        with tqdm(total = len(Sigma)) as pbar:\n",
    "            for simplex in Sigma:\n",
    "                \n",
    "                value = simplex_proportion(simplex)\n",
    "                        \n",
    "                if value != math.inf and value < max_radius:\n",
    "                    VR_complex[curr_dim].append((simplex, value))\n",
    "                    X.add_simplex(simplex, value)\n",
    "\n",
    "                pbar.update(1)\n",
    "    \n",
    "    return VR_complex"
   ]
  },
  {
   "cell_type": "code",
   "execution_count": null,
   "id": "7e258232-ea2d-4815-97ca-153ecfc71017",
   "metadata": {},
   "outputs": [],
   "source": [
    "R = 1.0\n",
    "abstract_cplx = DiffRips(chosen_landmarks, max_dimension = 3, max_radius = R)"
   ]
  },
  {
   "cell_type": "code",
   "execution_count": null,
   "id": "063c67c0-d02f-42c1-ab34-862c5ba9bdb6",
   "metadata": {},
   "outputs": [],
   "source": [
    "example2 = gudhi.SimplexTree()\n",
    "filtration = []\n",
    "for d in range(D + 1):\n",
    "    for facet, val in abstract_cplx[d]:\n",
    "        filtration.append((facet, val))\n",
    "        example2.insert(facet, filtration=val)"
   ]
  },
  {
   "cell_type": "code",
   "execution_count": null,
   "id": "db02767c-ac50-4ec3-b83a-a8a1ff02e90b",
   "metadata": {},
   "outputs": [],
   "source": [
    "my_persistence = example2.persistence(homology_coeff_field = 2)"
   ]
  },
  {
   "cell_type": "code",
   "execution_count": null,
   "id": "31079812-5e67-4984-8082-f7e8ba00ae88",
   "metadata": {},
   "outputs": [],
   "source": [
    "extract_pairs = []\n",
    "for dimension, pair in my_persistence:\n",
    "    if dimension == 1:\n",
    "        if pair[1] < np.inf:\n",
    "            extract_pairs.append(pair)\n",
    "        else: \n",
    "            new_pair = list(pair)\n",
    "            new_pair[1] = alpha\n",
    "            extract_pairs.append(new_pair)\n",
    "\n",
    "extract_pairs = np.array(extract_pairs)"
   ]
  },
  {
   "cell_type": "code",
   "execution_count": null,
   "id": "f3ee82ee-40ef-4fc7-8a0e-f0c28b22c245",
   "metadata": {},
   "outputs": [],
   "source": [
    "PI = PersistenceImage(bandwidth=0.1 * alpha, weight=lambda x: x[1]**2, resolution=[100,100])"
   ]
  },
  {
   "cell_type": "code",
   "execution_count": null,
   "id": "f37777ba-4eda-4a8c-8c71-2b9d6054d98a",
   "metadata": {},
   "outputs": [],
   "source": [
    "pi = PI.fit_transform([extract_pairs])"
   ]
  },
  {
   "cell_type": "code",
   "execution_count": null,
   "id": "858df0ee-0691-47f4-8600-1209735c8bb6",
   "metadata": {},
   "outputs": [],
   "source": [
    "plt.imshow(np.flip(np.reshape(pi[0], [100,100]), 0))\n",
    "plt.title(\"Persistence Image\")"
   ]
  },
  {
   "cell_type": "code",
   "execution_count": null,
   "id": "c46064f9-9e47-4365-b60d-6fd9c4fc7552",
   "metadata": {},
   "outputs": [],
   "source": []
  }
 ],
 "metadata": {
  "kernelspec": {
   "display_name": "Python 3 (ipykernel)",
   "language": "python",
   "name": "python3"
  },
  "language_info": {
   "codemirror_mode": {
    "name": "ipython",
    "version": 3
   },
   "file_extension": ".py",
   "mimetype": "text/x-python",
   "name": "python",
   "nbconvert_exporter": "python",
   "pygments_lexer": "ipython3",
   "version": "3.10.15"
  }
 },
 "nbformat": 4,
 "nbformat_minor": 5
}
