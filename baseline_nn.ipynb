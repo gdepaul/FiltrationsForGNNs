{
 "cells": [
  {
   "cell_type": "code",
   "execution_count": 24,
   "metadata": {},
   "outputs": [],
   "source": [
    "import numpy as np\n",
    "import torch\n",
    "import torchvision\n",
    "import matplotlib.pyplot as plt\n",
    "import torch.nn as nn\n",
    "import torch.nn.functional as F\n",
    "import torch.optim as optim\n",
    "from tqdm.notebook import tqdm\n",
    "from torchsummary import summary"
   ]
  },
  {
   "cell_type": "code",
   "execution_count": null,
   "metadata": {},
   "outputs": [],
   "source": [
    "# import Gudhi Shape Dataset files\n",
    "\n",
    "points = []\n",
    "laplacians = []\n",
    "vr_persistence_images = []\n",
    "abstract_persistence_images = []\n",
    "\n",
    "for i in range(0,10):\n",
    "    points.append(np.genfromtxt('Gudhi Shape Dataset/shape_'+str(i)+'_points.csv', delimiter=',', skip_header=0))\n",
    "    laplacians.append(np.genfromtxt('Gudhi Shape Dataset/shape_'+str(i)+'_laplacian.csv', delimiter=',', skip_header=0))\n",
    "    vr_persistence_images.append(np.genfromtxt('Gudhi Shape Dataset/shape_'+str(i)+'_vr_persistence_image.csv', delimiter=',', skip_header=0))\n",
    "    abstract_persistence_images.append(np.genfromtxt('Gudhi Shape Dataset/shape_'+str(i)+'_abstract_persistence_image.csv', delimiter=',', skip_header=0))\n",
    "\n",
    "\n",
    "# import labels for the shapes\n",
    "shape_labels = np.genfromtxt('Gudhi Shape Dataset/shape_labels.csv', delimiter=',', skip_header=1)\n",
    "shape_labels = shape_labels.astype(int)[:,2]"
   ]
  },
  {
   "cell_type": "code",
   "execution_count": 48,
   "metadata": {},
   "outputs": [
    {
     "data": {
      "text/plain": [
       "tensor([1, 1, 1, 1, 1, 0, 0, 0, 0, 0])"
      ]
     },
     "execution_count": 48,
     "metadata": {},
     "output_type": "execute_result"
    }
   ],
   "source": [
    "shape_labels"
   ]
  },
  {
   "cell_type": "code",
   "execution_count": null,
   "metadata": {},
   "outputs": [
    {
     "name": "stdout",
     "output_type": "stream",
     "text": [
      "Shape 0\n",
      "Points: (1000, 1000)\n",
      "Shape 1\n",
      "Points: (1000, 1000)\n",
      "Shape 2\n",
      "Points: (1000, 1000)\n",
      "Shape 3\n",
      "Points: (1000, 1000)\n",
      "Shape 4\n",
      "Points: (1000, 1000)\n",
      "Shape 5\n",
      "Points: (1000, 1000)\n",
      "Shape 6\n",
      "Points: (1000, 1000)\n",
      "Shape 7\n",
      "Points: (1000, 1000)\n",
      "Shape 8\n",
      "Points: (1000, 1000)\n",
      "Shape 9\n",
      "Points: (1000, 1000)\n"
     ]
    }
   ],
   "source": [
    "# checking dimensions of laplacians\n",
    "\n",
    "for i in range(len(laplacians)):\n",
    "    print('Shape', i)\n",
    "    print('Points:', laplacians[i].shape)"
   ]
  },
  {
   "cell_type": "code",
   "execution_count": null,
   "metadata": {},
   "outputs": [
    {
     "name": "stdout",
     "output_type": "stream",
     "text": [
      "Shape 0\n",
      "Points: (100, 100)\n",
      "Shape 1\n",
      "Points: (100, 100)\n",
      "Shape 2\n",
      "Points: (100, 100)\n",
      "Shape 3\n",
      "Points: (100, 100)\n",
      "Shape 4\n",
      "Points: (100, 100)\n",
      "Shape 5\n",
      "Points: (100, 100)\n",
      "Shape 6\n",
      "Points: (100, 100)\n",
      "Shape 7\n",
      "Points: (100, 100)\n",
      "Shape 8\n",
      "Points: (100, 100)\n",
      "Shape 9\n",
      "Points: (100, 100)\n"
     ]
    }
   ],
   "source": [
    "# checking dimensions of vr_persistence_images\n",
    "\n",
    "for i in range(len(vr_persistence_images)):\n",
    "    print('Shape', i)\n",
    "    print('Points:', vr_persistence_images[i].shape)"
   ]
  },
  {
   "cell_type": "code",
   "execution_count": null,
   "metadata": {},
   "outputs": [
    {
     "name": "stdout",
     "output_type": "stream",
     "text": [
      "Shape 0\n",
      "Points: (100, 100)\n",
      "Shape 1\n",
      "Points: (100, 100)\n",
      "Shape 2\n",
      "Points: (100, 100)\n",
      "Shape 3\n",
      "Points: (100, 100)\n",
      "Shape 4\n",
      "Points: (100, 100)\n",
      "Shape 5\n",
      "Points: (100, 100)\n",
      "Shape 6\n",
      "Points: (100, 100)\n",
      "Shape 7\n",
      "Points: (100, 100)\n",
      "Shape 8\n",
      "Points: (100, 100)\n",
      "Shape 9\n",
      "Points: (100, 100)\n"
     ]
    }
   ],
   "source": [
    "# checking dimensions of abstract_persistence_images\n",
    "\n",
    "for i in range(len(abstract_persistence_images)):\n",
    "    print('Shape', i)\n",
    "    print('Points:', abstract_persistence_images[i].shape)"
   ]
  },
  {
   "cell_type": "code",
   "execution_count": null,
   "metadata": {},
   "outputs": [],
   "source": []
  }
 ],
 "metadata": {
  "kernelspec": {
   "display_name": "FiltrationsForGNNs",
   "language": "python",
   "name": "python3"
  },
  "language_info": {
   "codemirror_mode": {
    "name": "ipython",
    "version": 3
   },
   "file_extension": ".py",
   "mimetype": "text/x-python",
   "name": "python",
   "nbconvert_exporter": "python",
   "pygments_lexer": "ipython3",
   "version": "3.10.15"
  }
 },
 "nbformat": 4,
 "nbformat_minor": 2
}
