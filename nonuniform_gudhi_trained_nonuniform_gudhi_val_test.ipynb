{
 "cells": [
  {
   "cell_type": "markdown",
   "metadata": {},
   "source": [
    "## Pacakge & Data Import"
   ]
  },
  {
   "cell_type": "code",
   "execution_count": 11,
   "metadata": {},
   "outputs": [],
   "source": [
    "import numpy as np\n",
    "import torch\n",
    "import matplotlib.pyplot as plt\n",
    "import torch.nn as nn\n",
    "import torch.nn.functional as F\n",
    "import torch.optim as optim\n",
    "from tqdm.notebook import tqdm\n",
    "import time\n",
    "from torchsummary import summary\n",
    "from sklearn.model_selection import train_test_split\n",
    "from sklearn.metrics import precision_score, recall_score, f1_score, confusion_matrix\n",
    "import pandas as pd\n",
    "import seaborn as sns\n",
    "import os"
   ]
  },
  {
   "cell_type": "code",
   "execution_count": 12,
   "metadata": {},
   "outputs": [],
   "source": [
    "# import labels for gudhi shapes\n",
    "# gudhi_shape_labels = np.genfromtxt('Gudhi Shape Dataset/shape_labels.csv', delimiter=',', skip_header=1)\n",
    "# gudhi_shape_labels = gudhi_shape_labels.astype(int)[:,2]\n",
    "# print(len(gudhi_shape_labels))"
   ]
  },
  {
   "cell_type": "code",
   "execution_count": 13,
   "metadata": {},
   "outputs": [],
   "source": [
    "# FOR PARTIAL DATASET MANUALLY CREATING LABELS\n",
    "\n",
    "gudhi_shapes = np.array([])\n",
    "\n",
    "base = 'Gudhi Shape Dataset Non-uniform and Uniform Sampling'\n",
    "\n",
    "# Check if the required files exist for each shape\n",
    "for i in range(1000, 4261):\n",
    "    points_file = f'{base}/shape_{i}_points.csv'\n",
    "    laplacian_file = f'{base}/shape_{i}_laplacian.csv'\n",
    "    vr_persistence_image_file = f'{base}/shape_{i}_vr_persistence_image.csv'\n",
    "    abstract_persistence_image_file = f'{base}/shape_{i}_abstract_persistence_image.csv'\n",
    "\n",
    "    if (os.path.exists(points_file) and\n",
    "        os.path.exists(laplacian_file) and\n",
    "        os.path.exists(vr_persistence_image_file) and\n",
    "        os.path.exists(abstract_persistence_image_file)):\n",
    "        gudhi_shapes = np.append(gudhi_shapes, i)\n",
    "    \n",
    "\n",
    "gudhi_shapes = gudhi_shapes.astype(int)\n",
    "\n",
    "gudhi_shape_labels = np.array([])\n",
    "\n",
    "# if shape[i] % 1000 < 500, gudhi_shape_labels[i] = 1, else 0\n",
    "\n",
    "for i in range(len(gudhi_shapes)):\n",
    "    if gudhi_shapes[i] % 1000 < 500:\n",
    "        gudhi_shape_labels = np.append(gudhi_shape_labels, 1)\n",
    "    else:\n",
    "        gudhi_shape_labels = np.append(gudhi_shape_labels, 0)"
   ]
  },
  {
   "cell_type": "code",
   "execution_count": 14,
   "metadata": {},
   "outputs": [
    {
     "data": {
      "text/plain": [
       "2219"
      ]
     },
     "execution_count": 14,
     "metadata": {},
     "output_type": "execute_result"
    }
   ],
   "source": [
    "len(gudhi_shapes)"
   ]
  },
  {
   "cell_type": "code",
   "execution_count": 15,
   "metadata": {},
   "outputs": [
    {
     "data": {
      "text/plain": [
       "2219"
      ]
     },
     "execution_count": 15,
     "metadata": {},
     "output_type": "execute_result"
    }
   ],
   "source": [
    "len(gudhi_shape_labels)"
   ]
  },
  {
   "cell_type": "code",
   "execution_count": 16,
   "metadata": {},
   "outputs": [
    {
     "name": "stdout",
     "output_type": "stream",
     "text": [
      "Randomly selected 2219 samples.\n",
      "Shape of laplacians: (2219, 1000, 1000)\n",
      "Shape of VR persistence images: (2219, 100, 100)\n",
      "Shape of abstract persistence images: (2219, 100, 100)\n",
      "Shape of selected labels: (2219,)\n"
     ]
    }
   ],
   "source": [
    "seed_value = 221\n",
    "np.random.seed(seed_value)\n",
    "\n",
    "num_samples = len(gudhi_shape_labels) # currently set to full dataset\n",
    "\n",
    "# Generate random indices\n",
    "random_indices = np.random.choice(len(gudhi_shape_labels), size=num_samples, replace=False)\n",
    "base = 'Gudhi Shape Dataset Non-uniform and Uniform Sampling'\n",
    "# Select the corresponding data and labels\n",
    "gudhi_laplacians = []\n",
    "gudhi_vr_persistence_images = []\n",
    "gudhi_abstract_persistence_images = []\n",
    "gudhi_selected_labels = []\n",
    "\n",
    "for i in random_indices:\n",
    "    gudhi_laplacians.append(np.genfromtxt(f'{base}/shape_{gudhi_shapes[i]}_laplacian.csv', delimiter=',', skip_header=0))\n",
    "    gudhi_vr_persistence_images.append(np.genfromtxt(f'{base}/shape_{gudhi_shapes[i]}_vr_persistence_image.csv', delimiter=',', skip_header=0))\n",
    "    gudhi_abstract_persistence_images.append(np.genfromtxt(f'{base}/shape_{gudhi_shapes[i]}_abstract_persistence_image.csv', delimiter=',', skip_header=0))\n",
    "    gudhi_selected_labels.append(gudhi_shape_labels[i])\n",
    "\n",
    "# Convert selected labels to NumPy array\n",
    "gudhi_selected_labels = np.array(gudhi_selected_labels)\n",
    "\n",
    "# Print summary\n",
    "print(f\"Randomly selected {num_samples} samples.\")\n",
    "print(f\"Shape of laplacians: {np.array(gudhi_laplacians).shape}\")\n",
    "print(f\"Shape of VR persistence images: {np.array(gudhi_vr_persistence_images).shape}\")\n",
    "print(f\"Shape of abstract persistence images: {np.array(gudhi_abstract_persistence_images).shape}\")\n",
    "print(f\"Shape of selected labels: {gudhi_selected_labels.shape}\")"
   ]
  },
  {
   "cell_type": "code",
   "execution_count": 17,
   "metadata": {},
   "outputs": [
    {
     "name": "stdout",
     "output_type": "stream",
     "text": [
      "162\n"
     ]
    }
   ],
   "source": [
    "# import labels for medical shapes\n",
    "medical_shape_labels = np.genfromtxt('Medical Dataset/shape_labels.csv', delimiter=',', skip_header=1)\n",
    "medical_shape_labels = medical_shape_labels.astype(int)[:,2]\n",
    "print(len(medical_shape_labels))"
   ]
  },
  {
   "cell_type": "code",
   "execution_count": 18,
   "metadata": {},
   "outputs": [
    {
     "name": "stdout",
     "output_type": "stream",
     "text": [
      "Randomly selected 162 samples.\n",
      "Shape of laplacians: (162, 1000, 1000)\n",
      "Shape of VR persistence images: (162, 100, 100)\n",
      "Shape of abstract persistence images: (162, 100, 100)\n",
      "Shape of selected labels: (162,)\n"
     ]
    }
   ],
   "source": [
    "seed_value = 221\n",
    "np.random.seed(seed_value)\n",
    "\n",
    "num_samples = 162 # currently set to full dataset\n",
    "\n",
    "# Generate random indices\n",
    "random_indices = np.random.choice(len(medical_shape_labels), size=num_samples, replace=False)\n",
    "base = 'Medical Dataset/'\n",
    "# Select the corresponding data and labels\n",
    "medical_laplacians = []\n",
    "medical_vr_persistence_images = []\n",
    "medical_abstract_persistence_images = []\n",
    "medical_selected_labels = []\n",
    "\n",
    "for i in random_indices:\n",
    "    medical_laplacians.append(np.genfromtxt(f'{base}/shape_{i}_laplacian.csv', delimiter=',', skip_header=0))\n",
    "    medical_vr_persistence_images.append(np.genfromtxt(f'{base}/shape_{i}_vr_persistence_image.csv', delimiter=',', skip_header=0))\n",
    "    medical_abstract_persistence_images.append(np.genfromtxt(f'{base}/shape_{i}_abstract_persistence_image.csv', delimiter=',', skip_header=0))\n",
    "    medical_selected_labels.append(medical_shape_labels[i])\n",
    "\n",
    "# Convert selected labels to NumPy array\n",
    "medical_selected_labels = np.array(medical_selected_labels)\n",
    "\n",
    "# Print summary\n",
    "print(f\"Randomly selected {num_samples} samples.\")\n",
    "print(f\"Shape of laplacians: {np.array(medical_laplacians).shape}\")\n",
    "print(f\"Shape of VR persistence images: {np.array(medical_vr_persistence_images).shape}\")\n",
    "print(f\"Shape of abstract persistence images: {np.array(medical_abstract_persistence_images).shape}\")\n",
    "print(f\"Shape of selected labels: {medical_selected_labels.shape}\")"
   ]
  },
  {
   "cell_type": "markdown",
   "metadata": {},
   "source": [
    "## Define data class"
   ]
  },
  {
   "cell_type": "code",
   "execution_count": 19,
   "metadata": {},
   "outputs": [],
   "source": [
    "class ShapeDataset(torch.utils.data.Dataset):\n",
    "    def __init__(self, data, labels):\n",
    "        self.data = [torch.tensor(d, dtype=torch.float32).unsqueeze(0) for d in data]\n",
    "        self.labels = torch.tensor(labels, dtype=torch.long)\n",
    "\n",
    "    def __len__(self):\n",
    "        return len(self.labels)\n",
    "\n",
    "    def __getitem__(self, idx):\n",
    "        return self.data[idx], self.labels[idx]\n"
   ]
  },
  {
   "cell_type": "markdown",
   "metadata": {},
   "source": [
    "## Data Splitting"
   ]
  },
  {
   "cell_type": "code",
   "execution_count": 20,
   "metadata": {},
   "outputs": [
    {
     "name": "stdout",
     "output_type": "stream",
     "text": [
      "Laplacians Train data size: 1775\n",
      "Laplacians Validation data size: 222\n",
      "Laplacians Test data size: 222\n"
     ]
    }
   ],
   "source": [
    "train_ratio = 0.8\n",
    "valid_ratio = 0.1\n",
    "test_ratio = 0.1\n",
    "\n",
    "# Split Gudhi Laplacians\n",
    "train_data_gudhi_laplacians, test_data_gudhi_laplacians, train_labels_gudhi, test_labels_gudhi = train_test_split(\n",
    "    gudhi_laplacians, gudhi_selected_labels, test_size=(1 - train_ratio), random_state=42\n",
    ")\n",
    "valid_data_gudhi_laplacians, test_data_gudhi_laplacians, valid_labels_gudhi, test_labels_gudhi = train_test_split(\n",
    "    test_data_gudhi_laplacians, test_labels_gudhi, test_size=(test_ratio / (valid_ratio + test_ratio)), random_state=42\n",
    ")\n",
    "\n",
    "# Split Medical Laplacians (valid/test split only, since all are used for validation/testing)\n",
    "valid_data_medical_laplacians, test_data_medical_laplacians, valid_labels_medical, test_labels_medical = train_test_split(\n",
    "    medical_laplacians, medical_selected_labels, test_size=0.5, random_state=42\n",
    ")\n",
    "\n",
    "# Combine validation sets for Laplacians and labels\n",
    "valid_laplacians = valid_data_gudhi_laplacians\n",
    "valid_labels = valid_labels_gudhi\n",
    "\n",
    "# Combine test sets for completeness\n",
    "test_laplacians = test_data_gudhi_laplacians\n",
    "test_labels = test_labels_gudhi\n",
    "\n",
    "# Print a summary\n",
    "print(f\"Laplacians Train data size: {len(train_data_gudhi_laplacians)}\")\n",
    "print(f\"Laplacians Validation data size: {len(valid_laplacians)}\")\n",
    "print(f\"Laplacians Test data size: {len(test_laplacians)}\")\n",
    "\n",
    "\n",
    "# Split VR Persistence Images\n",
    "train_data_gudhi_vr_persistence_images, test_data_gudhi_vr_persistence_images, train_labels_gudhi_check, test_labels_gudhi_check = train_test_split(\n",
    "    gudhi_vr_persistence_images, gudhi_selected_labels, test_size=(1 - train_ratio), random_state=42\n",
    ")\n",
    "valid_data_gudhi_vr_persistence_images, test_data_gudhi_vr_persistence_images, valid_labels_gudhi_check, test_labels_gudhi_check = train_test_split(\n",
    "    test_data_gudhi_vr_persistence_images, test_labels_gudhi_check, test_size=(test_ratio / (valid_ratio + test_ratio)), random_state=42\n",
    ")\n",
    "\n",
    "# Split Medical VR Persistence Images (valid/test split only, since all are used for validation/testing)\n",
    "valid_data_medical_vr_persistence_images, test_data_medical_vr_persistence_images, valid_labels_medical_check, test_labels_medical_check = train_test_split(\n",
    "    medical_vr_persistence_images, medical_selected_labels, test_size=0.5, random_state=42\n",
    ")\n",
    "\n",
    "# Combine validation sets for VR Persistence Images and labels\n",
    "valid_vr_persistence_images = valid_data_gudhi_vr_persistence_images\n",
    "valid_vr_labels = valid_labels_gudhi\n",
    "\n",
    "# Combine test sets for VR Persistence Images and labels\n",
    "test_vr_persistence_images = test_data_gudhi_vr_persistence_images\n",
    "test_vr_labels = test_labels_gudhi\n",
    "\n",
    "\n",
    "# Split Abstract Persistence Images\n",
    "train_data_gudhi_abstract_persistence_images, test_data_gudhi_abstract_persistence_images, train_labels_gudhi_check, test_labels_gudhi_check = train_test_split(\n",
    "    gudhi_abstract_persistence_images, gudhi_selected_labels, test_size=(1 - train_ratio), random_state=42\n",
    ")\n",
    "valid_data_gudhi_abstract_persistence_images, test_data_gudhi_abstract_persistence_images, valid_labels_gudhi_check, test_labels_gudhi_check = train_test_split(\n",
    "    test_data_gudhi_abstract_persistence_images, test_labels_gudhi_check, test_size=(test_ratio / (valid_ratio + test_ratio)), random_state=42\n",
    ")\n",
    "\n",
    "# Split Medical Abstract Persistence Images (valid/test split only, since all are used for validation/testing)\n",
    "valid_data_medical_abstract_persistence_images, test_data_medical_abstract_persistence_images, valid_labels_medical_check, test_labels_medical_check = train_test_split(\n",
    "    medical_abstract_persistence_images, medical_selected_labels, test_size=0.5, random_state=42\n",
    ")\n",
    "\n",
    "# Combine validation sets for Abstract Persistence Images and labels\n",
    "valid_abstract_persistence_images = valid_data_gudhi_abstract_persistence_images\n",
    "valid_abstract_labels = valid_labels_gudhi\n",
    "\n",
    "# Combine test sets for Abstract Persistence Images and labels\n",
    "test_abstract_persistence_images = test_data_gudhi_abstract_persistence_images\n",
    "test_abstract_labels = test_labels_gudhi\n"
   ]
  },
  {
   "cell_type": "markdown",
   "metadata": {},
   "source": [
    "## CNN Definitions"
   ]
  },
  {
   "cell_type": "code",
   "execution_count": 21,
   "metadata": {},
   "outputs": [],
   "source": [
    "class CNN(nn.Module):\n",
    "    def __init__(self, input_shape, num_classes=2):\n",
    "        super(CNN, self).__init__()\n",
    "        # Convolutional Layers\n",
    "        self.conv1 = nn.Conv2d(1, 16, kernel_size=3, stride=1, padding=1)\n",
    "        self.conv2 = nn.Conv2d(16, 32, kernel_size=3, stride=1, padding=1)\n",
    "        \n",
    "        # Pooling Layer\n",
    "        self.pool = nn.MaxPool2d(kernel_size=2, stride=2)\n",
    "        \n",
    "        # Adaptive Pooling to resize to 100x100\n",
    "        self.adaptive_pool = nn.AdaptiveAvgPool2d((100, 100))\n",
    "        \n",
    "        # Dynamically calculate input size to fc1\n",
    "        self.feature_size = self._get_feature_size(input_shape)\n",
    "        \n",
    "        # Fully Connected Layers\n",
    "        self.fc1 = nn.Linear(self.feature_size, 128)\n",
    "        self.dropout = nn.Dropout(0.5)\n",
    "        self.fc2 = nn.Linear(128, num_classes)\n",
    "\n",
    "    def _get_feature_size(self, input_shape):\n",
    "        # Create a dummy input to calculate size after conv and pooling\n",
    "        dummy_input = torch.zeros(1, 1, *input_shape)\n",
    "        x = self.pool(F.relu(self.conv1(dummy_input)))\n",
    "        x = self.pool(F.relu(self.conv2(x)))\n",
    "        \n",
    "        # Apply adaptive pooling to get 100x100 size\n",
    "        x = self.adaptive_pool(x)\n",
    "        return x.numel()  # Number of elements after flattening\n",
    "\n",
    "    def forward(self, x):\n",
    "        # Apply convolutional layers with pooling\n",
    "        x = self.pool(F.relu(self.conv1(x)))\n",
    "        x = self.pool(F.relu(self.conv2(x)))\n",
    "        \n",
    "        # Apply adaptive pooling to resize to 100x100\n",
    "        x = self.adaptive_pool(x)\n",
    "        \n",
    "        # Flatten and pass through fully connected layers\n",
    "        x = torch.flatten(x, start_dim=1)\n",
    "        x = F.relu(self.fc1(x))\n",
    "        x = self.dropout(x)\n",
    "        x = self.fc2(x)\n",
    "        return F.log_softmax(x, dim=1)\n"
   ]
  },
  {
   "cell_type": "code",
   "execution_count": 22,
   "metadata": {},
   "outputs": [],
   "source": [
    "class DualInputCNN(nn.Module):\n",
    "    def __init__(self, input_shape1, input_shape2, num_classes=2):\n",
    "        super(DualInputCNN, self).__init__()\n",
    "\n",
    "        # Laplacian input path with additional pooling to reduce to 100x100\n",
    "        self.conv1_lap = nn.Conv2d(1, 16, kernel_size=3, stride=1, padding=1)\n",
    "        self.conv2_lap = nn.Conv2d(16, 32, kernel_size=3, stride=1, padding=1)\n",
    "        self.pool_lap = nn.MaxPool2d(2, 2)  # Reduce spatial dimensions\n",
    "        self.adaptive_pool_lap = nn.AdaptiveAvgPool2d((100, 100))  # Resize to 100x100\n",
    "        \n",
    "        # Persistence image input path (no pooling)\n",
    "        self.conv1_pers = nn.Conv2d(1, 16, kernel_size=3, stride=1, padding=1)\n",
    "        self.conv2_pers = nn.Conv2d(16, 32, kernel_size=3, stride=1, padding=1)\n",
    "        self.adaptive_pool_pers = nn.AdaptiveAvgPool2d((100, 100))  # Resize to 100x100\n",
    "        \n",
    "        # Fully connected layers\n",
    "        self.fc1 = nn.Linear(32 * 100 * 100 + 32 * 100 * 100, 128)  # Adjusted for 100x100 input\n",
    "        self.dropout = nn.Dropout(0.5)\n",
    "        self.fc2 = nn.Linear(128, num_classes)\n",
    "\n",
    "    def forward(self, x1, x2):\n",
    "        # Laplacians path (downsampling to 100x100)\n",
    "        x1 = F.relu(self.conv1_lap(x1))\n",
    "        x1 = self.pool_lap(x1)  # First pool: 250x250 -> 125x125\n",
    "        x1 = F.relu(self.conv2_lap(x1))\n",
    "        x1 = self.pool_lap(x1)  # Second pool: 125x125 -> 62x62\n",
    "        x1 = self.adaptive_pool_lap(x1)  # Resize to 100x100\n",
    "        \n",
    "        # Persistence images path (no pooling)\n",
    "        x2 = F.relu(self.conv1_pers(x2))\n",
    "        x2 = F.relu(self.conv2_pers(x2))\n",
    "        x2 = self.adaptive_pool_pers(x2)  # Ensure persistence images are 100x100\n",
    "        \n",
    "        # Concatenate along dim=1 (channels)\n",
    "        x = torch.cat((x1, x2), dim=1)  # Concatenates the outputs along the channel axis\n",
    "\n",
    "        # Flatten for fully connected layer\n",
    "        x = torch.flatten(x, start_dim=1)\n",
    "        \n",
    "        # Fully connected layers\n",
    "        x = F.relu(self.fc1(x))\n",
    "        x = self.dropout(x)\n",
    "        x = self.fc2(x)\n",
    "        \n",
    "        return F.log_softmax(x, dim=1)\n"
   ]
  },
  {
   "cell_type": "code",
   "execution_count": 23,
   "metadata": {},
   "outputs": [
    {
     "name": "stdout",
     "output_type": "stream",
     "text": [
      "Training on cpu\n"
     ]
    }
   ],
   "source": [
    "device = torch.device(\"cuda\" if torch.cuda.is_available() else \"cpu\")\n",
    "print(f\"Training on {device}\")"
   ]
  },
  {
   "cell_type": "markdown",
   "metadata": {},
   "source": [
    "## Data Preparation"
   ]
  },
  {
   "cell_type": "code",
   "execution_count": 24,
   "metadata": {},
   "outputs": [],
   "source": [
    "# Convert data to PyTorch Datasets\n",
    "train_dataset_laplacians = ShapeDataset(train_data_gudhi_laplacians, train_labels_gudhi)\n",
    "valid_dataset_laplacians = ShapeDataset(valid_laplacians, valid_labels)\n",
    "test_dataset_laplacians = ShapeDataset(test_laplacians, test_labels)\n",
    "\n",
    "train_dataset_vr = ShapeDataset(train_data_gudhi_vr_persistence_images, train_labels_gudhi)\n",
    "valid_dataset_vr = ShapeDataset(valid_vr_persistence_images, valid_vr_labels)\n",
    "test_dataset_vr = ShapeDataset(test_vr_persistence_images, test_vr_labels)\n",
    "\n",
    "train_dataset_abstract = ShapeDataset(train_data_gudhi_abstract_persistence_images, train_labels_gudhi)\n",
    "valid_dataset_abstract = ShapeDataset(valid_abstract_persistence_images, valid_abstract_labels)\n",
    "test_dataset_abstract = ShapeDataset(test_abstract_persistence_images, test_abstract_labels)\n",
    "\n",
    "# Define DataLoaders\n",
    "batch_size = 32\n",
    "\n",
    "train_loader_laplacians = torch.utils.data.DataLoader(train_dataset_laplacians, batch_size=batch_size, shuffle=False)\n",
    "valid_loader_laplacians = torch.utils.data.DataLoader(valid_dataset_laplacians, batch_size=batch_size, shuffle=False)\n",
    "test_loader_laplacians = torch.utils.data.DataLoader(test_dataset_laplacians, batch_size=batch_size, shuffle=False)\n",
    "\n",
    "train_loader_vr = torch.utils.data.DataLoader(train_dataset_vr, batch_size=batch_size, shuffle=False)\n",
    "valid_loader_vr = torch.utils.data.DataLoader(valid_dataset_vr, batch_size=batch_size, shuffle=False)\n",
    "test_loader_vr = torch.utils.data.DataLoader(test_dataset_vr, batch_size=batch_size, shuffle=False)\n",
    "\n",
    "train_loader_abstract = torch.utils.data.DataLoader(train_dataset_abstract, batch_size=batch_size, shuffle=False)\n",
    "valid_loader_abstract = torch.utils.data.DataLoader(valid_dataset_abstract, batch_size=batch_size, shuffle=False)\n",
    "test_loader_abstract = torch.utils.data.DataLoader(test_dataset_abstract, batch_size=batch_size, shuffle=False)"
   ]
  },
  {
   "cell_type": "markdown",
   "metadata": {},
   "source": [
    "## Model Instantiation"
   ]
  },
  {
   "cell_type": "code",
   "execution_count": 25,
   "metadata": {},
   "outputs": [],
   "source": [
    "# For single-input CNN (Laplacians)\n",
    "input_shape = train_data_gudhi_laplacians[0].shape\n",
    "num_classes = 2 # binary classification\n",
    "\n",
    "model_single_laplacians = CNN(input_shape, num_classes)\n",
    "\n",
    "# For dual-input CNNs (Laplacians + VR Persistence Images, Laplacians + Abstract Persistence Images)\n",
    "input_shape1 = train_data_gudhi_laplacians[0].shape\n",
    "input_shape2 = train_data_gudhi_vr_persistence_images[0].shape\n",
    "input_shape3 = train_data_gudhi_abstract_persistence_images[0].shape\n",
    "\n",
    "model_dual_lap_vr = DualInputCNN(input_shape1, input_shape2, num_classes)\n",
    "model_dual_lap_abstract = DualInputCNN(input_shape1, input_shape3, num_classes)"
   ]
  },
  {
   "cell_type": "markdown",
   "metadata": {},
   "source": [
    "## Training, Validation, and Testing Functions"
   ]
  },
  {
   "cell_type": "code",
   "execution_count": 26,
   "metadata": {},
   "outputs": [],
   "source": [
    "def train_single_input(model, dataloader, optimizer, criterion, device):\n",
    "    model.train()\n",
    "    total_loss = 0\n",
    "    correct = 0\n",
    "    progress_bar = tqdm(dataloader, desc=\"Training\", leave=False)\n",
    "    \n",
    "    for inputs, labels in progress_bar:\n",
    "        inputs, labels = inputs.to(device), labels.to(device)\n",
    "        optimizer.zero_grad()\n",
    "        outputs = model(inputs)\n",
    "        loss = criterion(outputs, labels)\n",
    "        loss.backward()\n",
    "        optimizer.step()\n",
    "        total_loss += loss.item()\n",
    "        preds = torch.argmax(outputs, dim=1)\n",
    "        correct += (preds == labels).sum().item()\n",
    "        \n",
    "        progress_bar.set_postfix(loss=loss.item())\n",
    "    \n",
    "    accuracy = correct / len(dataloader.dataset)\n",
    "    return total_loss / len(dataloader.dataset), accuracy\n",
    "\n",
    "\n",
    "def validate_single_input(model, dataloader, criterion, device):\n",
    "    model.eval()\n",
    "    total_loss = 0\n",
    "    correct = 0\n",
    "    progress_bar = tqdm(dataloader, desc=\"Validating\", leave=False)\n",
    "    \n",
    "    with torch.no_grad():\n",
    "        for inputs, labels in progress_bar:\n",
    "            inputs, labels = inputs.to(device), labels.to(device)\n",
    "            outputs = model(inputs)\n",
    "            loss = criterion(outputs, labels)\n",
    "            total_loss += loss.item()\n",
    "            preds = torch.argmax(outputs, dim=1)\n",
    "            correct += (preds == labels).sum().item()\n",
    "            \n",
    "            progress_bar.set_postfix(loss=loss.item())\n",
    "    \n",
    "    accuracy = correct / len(dataloader.dataset)\n",
    "    return total_loss / len(dataloader.dataset), accuracy\n",
    "\n",
    "\n",
    "def train_dual_input(model, dataloader1, dataloader2, optimizer, criterion, device):\n",
    "    model.train()\n",
    "    total_loss = 0\n",
    "    correct = 0\n",
    "    progress_bar = tqdm(zip(dataloader1, dataloader2), desc=\"Training (Dual Input)\", leave=False, total=min(len(dataloader1), len(dataloader2)))\n",
    "    \n",
    "    for (inputs1, labels1), (inputs2, labels2) in progress_bar:\n",
    "        inputs1, labels1 = inputs1.to(device), labels1.to(device)\n",
    "        inputs2, labels2 = inputs2.to(device), labels2.to(device)\n",
    "        \n",
    "        if not torch.equal(labels1, labels2):\n",
    "            print(\"Labels mismatch in dual-input training! Skipping batch.\")\n",
    "            continue\n",
    "        \n",
    "        optimizer.zero_grad()\n",
    "        outputs = model(inputs1, inputs2)\n",
    "        loss = criterion(outputs, labels1)\n",
    "        loss.backward()\n",
    "        optimizer.step()\n",
    "        total_loss += loss.item()\n",
    "        preds = torch.argmax(outputs, dim=1)\n",
    "        correct += (preds == labels1).sum().item()\n",
    "        \n",
    "        progress_bar.set_postfix(loss=loss.item())\n",
    "    \n",
    "    accuracy = correct / len(dataloader1.dataset)\n",
    "    return total_loss / len(dataloader1.dataset), accuracy\n",
    "\n",
    "\n",
    "def validate_dual_input(model, valid_loader_laplacians, valid_loader_vr, criterion, device='cuda'):\n",
    "    model.eval()\n",
    "    running_loss = 0.0\n",
    "    correct = 0\n",
    "    total = 0\n",
    "    \n",
    "    with torch.no_grad():\n",
    "        for (inputs1, _), (inputs2, targets) in zip(valid_loader_laplacians, valid_loader_vr):\n",
    "            inputs1, inputs2, targets = inputs1.to(device), inputs2.to(device), targets.to(device)\n",
    "            \n",
    "            outputs = model(inputs1, inputs2)\n",
    "            loss = criterion(outputs, targets)\n",
    "            running_loss += loss.item()\n",
    "            \n",
    "            if outputs.shape[-1] > 1:\n",
    "                _, predicted = torch.max(outputs, 1)\n",
    "            else:  # Binary classification\n",
    "                predicted = (outputs > 0.5).float()\n",
    "            \n",
    "            total += targets.size(0)\n",
    "            correct += (predicted == targets).sum().item()\n",
    "\n",
    "    avg_loss = running_loss / len(valid_loader_laplacians)\n",
    "    accuracy = correct / total\n",
    "\n",
    "    return avg_loss, accuracy\n",
    "\n",
    "def test_single_input(model, dataloader, criterion, device):\n",
    "    model.eval()\n",
    "    total_loss = 0\n",
    "    correct = 0\n",
    "    total = 0\n",
    "    all_preds = []\n",
    "    all_labels = []\n",
    "    progress_bar = tqdm(dataloader, desc=\"Testing\", leave=False)\n",
    "\n",
    "    with torch.no_grad():\n",
    "        for inputs, labels in progress_bar:\n",
    "            inputs, labels = inputs.to(device), labels.to(device)\n",
    "            outputs = model(inputs)\n",
    "            loss = criterion(outputs, labels)\n",
    "            total_loss += loss.item()\n",
    "            preds = torch.argmax(outputs, dim=1)\n",
    "            correct += (preds == labels).sum().item()\n",
    "            total += labels.size(0)\n",
    "            \n",
    "            all_preds.extend(preds.cpu().numpy())\n",
    "            all_labels.extend(labels.cpu().numpy())\n",
    "\n",
    "            progress_bar.set_postfix(loss=loss.item())\n",
    "\n",
    "    avg_loss = total_loss / len(dataloader.dataset)\n",
    "    accuracy = correct / total\n",
    "    precision = precision_score(all_labels, all_preds, average='binary')\n",
    "    recall = recall_score(all_labels, all_preds, average='binary')\n",
    "    f1 = f1_score(all_labels, all_preds, average='binary')\n",
    "\n",
    "    metrics_df = pd.DataFrame({\n",
    "        'Loss': [avg_loss],\n",
    "        'Accuracy': [accuracy],\n",
    "        'Precision': [precision],\n",
    "        'Recall': [recall],\n",
    "        'F1 Score': [f1]\n",
    "    })\n",
    "\n",
    "    cm = confusion_matrix(all_labels, all_preds)\n",
    "\n",
    "    print(f\"Test Loss: {avg_loss:.4f}, Test Accuracy: {accuracy:.4f}, Precision: {precision:.4f}, Recall: {recall:.4f}, F1 Score: {f1:.4f}\")\n",
    "    return metrics_df, cm\n",
    "\n",
    "\n",
    "def test_dual_input(model, dataloader1, dataloader2, criterion, device='cuda'):\n",
    "    model.eval()\n",
    "    running_loss = 0.0\n",
    "    correct = 0\n",
    "    total = 0\n",
    "    all_preds = []\n",
    "    all_labels = []\n",
    "    progress_bar = tqdm(zip(dataloader1, dataloader2), desc=\"Testing (Dual Input)\", leave=False, total=min(len(dataloader1), len(dataloader2)))\n",
    "\n",
    "    with torch.no_grad():\n",
    "        for (inputs1, _), (inputs2, targets) in progress_bar:\n",
    "            inputs1, inputs2, targets = inputs1.to(device), inputs2.to(device), targets.to(device)\n",
    "\n",
    "            outputs = model(inputs1, inputs2)\n",
    "            loss = criterion(outputs, targets)\n",
    "            running_loss += loss.item()\n",
    "\n",
    "            if outputs.shape[-1] > 1:\n",
    "                _, predicted = torch.max(outputs, 1)\n",
    "            else:  # Binary classification\n",
    "                predicted = (outputs > 0.5).float()\n",
    "\n",
    "            total += targets.size(0)\n",
    "            correct += (predicted == targets).sum().item()\n",
    "\n",
    "            all_preds.extend(predicted.cpu().numpy())\n",
    "            all_labels.extend(targets.cpu().numpy())\n",
    "\n",
    "    avg_loss = running_loss / len(dataloader1.dataset)\n",
    "    accuracy = correct / total\n",
    "    precision = precision_score(all_labels, all_preds, average='binary')\n",
    "    recall = recall_score(all_labels, all_preds, average='binary')\n",
    "    f1 = f1_score(all_labels, all_preds, average='binary')\n",
    "\n",
    "    metrics_df = pd.DataFrame({\n",
    "        'Loss': [avg_loss],\n",
    "        'Accuracy': [accuracy],\n",
    "        'Precision': [precision],\n",
    "        'Recall': [recall],\n",
    "        'F1 Score': [f1]\n",
    "    })\n",
    "\n",
    "    cm = confusion_matrix(all_labels, all_preds)\n",
    "\n",
    "    print(f\"Test Loss: {avg_loss:.4f}, Test Accuracy: {accuracy:.4f}, Precision: {precision:.4f}, Recall: {recall:.4f}, F1 Score: {f1:.4f}\")\n",
    "    return metrics_df, cm"
   ]
  },
  {
   "cell_type": "markdown",
   "metadata": {},
   "source": [
    "## Training Loops"
   ]
  },
  {
   "cell_type": "code",
   "execution_count": 27,
   "metadata": {},
   "outputs": [
    {
     "data": {
      "text/plain": [
       "DualInputCNN(\n",
       "  (conv1_lap): Conv2d(1, 16, kernel_size=(3, 3), stride=(1, 1), padding=(1, 1))\n",
       "  (conv2_lap): Conv2d(16, 32, kernel_size=(3, 3), stride=(1, 1), padding=(1, 1))\n",
       "  (pool_lap): MaxPool2d(kernel_size=2, stride=2, padding=0, dilation=1, ceil_mode=False)\n",
       "  (adaptive_pool_lap): AdaptiveAvgPool2d(output_size=(100, 100))\n",
       "  (conv1_pers): Conv2d(1, 16, kernel_size=(3, 3), stride=(1, 1), padding=(1, 1))\n",
       "  (conv2_pers): Conv2d(16, 32, kernel_size=(3, 3), stride=(1, 1), padding=(1, 1))\n",
       "  (adaptive_pool_pers): AdaptiveAvgPool2d(output_size=(100, 100))\n",
       "  (fc1): Linear(in_features=640000, out_features=128, bias=True)\n",
       "  (dropout): Dropout(p=0.5, inplace=False)\n",
       "  (fc2): Linear(in_features=128, out_features=2, bias=True)\n",
       ")"
      ]
     },
     "execution_count": 27,
     "metadata": {},
     "output_type": "execute_result"
    }
   ],
   "source": [
    "device = torch.device(\"cuda\" if torch.cuda.is_available() else \"cpu\")\n",
    "model_single_laplacians.to(device)\n",
    "model_dual_lap_vr.to(device)\n",
    "model_dual_lap_abstract.to(device)"
   ]
  },
  {
   "cell_type": "code",
   "execution_count": 34,
   "metadata": {},
   "outputs": [],
   "source": [
    "criterion = nn.CrossEntropyLoss()\n",
    "optimizer_single = optim.Adam(model_single_laplacians.parameters(), lr=0.001)\n",
    "optimizer_dual_vr = optim.Adam(model_dual_lap_vr.parameters(), lr=0.001)\n",
    "optimizer_dual_abstract = optim.Adam(model_dual_lap_abstract.parameters(), lr=0.001)\n",
    "\n",
    "num_epochs = 10"
   ]
  },
  {
   "cell_type": "code",
   "execution_count": 35,
   "metadata": {},
   "outputs": [
    {
     "data": {
      "application/vnd.jupyter.widget-view+json": {
       "model_id": "f4cdd50b55394d81bb164a1c0d541d3a",
       "version_major": 2,
       "version_minor": 0
      },
      "text/plain": [
       "Training:   0%|          | 0/56 [00:00<?, ?it/s]"
      ]
     },
     "metadata": {},
     "output_type": "display_data"
    },
    {
     "data": {
      "application/vnd.jupyter.widget-view+json": {
       "model_id": "061e92fb3f494408ba37adcf39b64a1d",
       "version_major": 2,
       "version_minor": 0
      },
      "text/plain": [
       "Validating:   0%|          | 0/7 [00:00<?, ?it/s]"
      ]
     },
     "metadata": {},
     "output_type": "display_data"
    },
    {
     "data": {
      "application/vnd.jupyter.widget-view+json": {
       "model_id": "dcc4296f73a342ccae29da32888f1f8e",
       "version_major": 2,
       "version_minor": 0
      },
      "text/plain": [
       "Testing:   0%|          | 0/7 [00:00<?, ?it/s]"
      ]
     },
     "metadata": {},
     "output_type": "display_data"
    },
    {
     "name": "stdout",
     "output_type": "stream",
     "text": [
      "Test Loss: 0.0030, Test Accuracy: 0.9775, Precision: 0.9727, Recall: 1.0000, F1 Score: 0.9861\n",
      "single-input model (Laplacians) Epoch 1/10, Train Loss: 0.0062, Train Acc: 0.9515, Valid Loss: 0.0056, Valid Acc: 0.9550\n",
      "single-input model (Laplacians)Training time: 316.18478298187256\n",
      "single-input model (Laplacians)Validation time: 9.177890062332153\n",
      "single-input model (Laplacians)Testing time: 9.078251123428345\n"
     ]
    },
    {
     "data": {
      "application/vnd.jupyter.widget-view+json": {
       "model_id": "ba5ef4f8e6514a2e849bddc04c213c07",
       "version_major": 2,
       "version_minor": 0
      },
      "text/plain": [
       "Training:   0%|          | 0/56 [00:00<?, ?it/s]"
      ]
     },
     "metadata": {},
     "output_type": "display_data"
    },
    {
     "data": {
      "application/vnd.jupyter.widget-view+json": {
       "model_id": "52b30308f3f74ed4809a0a969a87fd87",
       "version_major": 2,
       "version_minor": 0
      },
      "text/plain": [
       "Validating:   0%|          | 0/7 [00:00<?, ?it/s]"
      ]
     },
     "metadata": {},
     "output_type": "display_data"
    },
    {
     "data": {
      "application/vnd.jupyter.widget-view+json": {
       "model_id": "03d79759fac64f7cb0197f0e9a2fdf4f",
       "version_major": 2,
       "version_minor": 0
      },
      "text/plain": [
       "Testing:   0%|          | 0/7 [00:00<?, ?it/s]"
      ]
     },
     "metadata": {},
     "output_type": "display_data"
    },
    {
     "name": "stdout",
     "output_type": "stream",
     "text": [
      "Test Loss: 0.0030, Test Accuracy: 0.9775, Precision: 0.9727, Recall: 1.0000, F1 Score: 0.9861\n",
      "single-input model (Laplacians) Epoch 2/10, Train Loss: 0.0057, Train Acc: 0.9583, Valid Loss: 0.0061, Valid Acc: 0.9505\n",
      "single-input model (Laplacians)Training time: 321.86835527420044\n",
      "single-input model (Laplacians)Validation time: 9.869637966156006\n",
      "single-input model (Laplacians)Testing time: 9.45509672164917\n"
     ]
    },
    {
     "data": {
      "application/vnd.jupyter.widget-view+json": {
       "model_id": "2a1838a52c72422ea3d14b7e50857bba",
       "version_major": 2,
       "version_minor": 0
      },
      "text/plain": [
       "Training:   0%|          | 0/56 [00:00<?, ?it/s]"
      ]
     },
     "metadata": {},
     "output_type": "display_data"
    },
    {
     "data": {
      "application/vnd.jupyter.widget-view+json": {
       "model_id": "51f02d7bf58d4380bbae1b2717e26b50",
       "version_major": 2,
       "version_minor": 0
      },
      "text/plain": [
       "Validating:   0%|          | 0/7 [00:00<?, ?it/s]"
      ]
     },
     "metadata": {},
     "output_type": "display_data"
    },
    {
     "data": {
      "application/vnd.jupyter.widget-view+json": {
       "model_id": "198ee2b17a12450f85cf2c4de1a9ef20",
       "version_major": 2,
       "version_minor": 0
      },
      "text/plain": [
       "Testing:   0%|          | 0/7 [00:00<?, ?it/s]"
      ]
     },
     "metadata": {},
     "output_type": "display_data"
    },
    {
     "name": "stdout",
     "output_type": "stream",
     "text": [
      "Test Loss: 0.0034, Test Accuracy: 0.9775, Precision: 0.9727, Recall: 1.0000, F1 Score: 0.9861\n",
      "single-input model (Laplacians) Epoch 3/10, Train Loss: 0.0055, Train Acc: 0.9544, Valid Loss: 0.0058, Valid Acc: 0.9550\n",
      "single-input model (Laplacians)Training time: 312.14301204681396\n",
      "single-input model (Laplacians)Validation time: 8.743868827819824\n",
      "single-input model (Laplacians)Testing time: 9.09726595878601\n"
     ]
    },
    {
     "data": {
      "application/vnd.jupyter.widget-view+json": {
       "model_id": "842ab608d4dd4f91a0f79be089bc43bf",
       "version_major": 2,
       "version_minor": 0
      },
      "text/plain": [
       "Training:   0%|          | 0/56 [00:00<?, ?it/s]"
      ]
     },
     "metadata": {},
     "output_type": "display_data"
    },
    {
     "data": {
      "application/vnd.jupyter.widget-view+json": {
       "model_id": "5652f11538fd475c87dc8949a07e316f",
       "version_major": 2,
       "version_minor": 0
      },
      "text/plain": [
       "Validating:   0%|          | 0/7 [00:00<?, ?it/s]"
      ]
     },
     "metadata": {},
     "output_type": "display_data"
    },
    {
     "data": {
      "application/vnd.jupyter.widget-view+json": {
       "model_id": "d6c5416b19f1425ba237afa7f4cd3863",
       "version_major": 2,
       "version_minor": 0
      },
      "text/plain": [
       "Testing:   0%|          | 0/7 [00:00<?, ?it/s]"
      ]
     },
     "metadata": {},
     "output_type": "display_data"
    },
    {
     "name": "stdout",
     "output_type": "stream",
     "text": [
      "Test Loss: 0.0028, Test Accuracy: 0.9775, Precision: 0.9727, Recall: 1.0000, F1 Score: 0.9861\n",
      "single-input model (Laplacians) Epoch 4/10, Train Loss: 0.0054, Train Acc: 0.9577, Valid Loss: 0.0066, Valid Acc: 0.9505\n",
      "single-input model (Laplacians)Training time: 316.13961601257324\n",
      "single-input model (Laplacians)Validation time: 9.096864938735962\n",
      "single-input model (Laplacians)Testing time: 9.124403953552246\n"
     ]
    },
    {
     "data": {
      "application/vnd.jupyter.widget-view+json": {
       "model_id": "eb1c0a7ce34e49e08cbc59182261c1da",
       "version_major": 2,
       "version_minor": 0
      },
      "text/plain": [
       "Training:   0%|          | 0/56 [00:00<?, ?it/s]"
      ]
     },
     "metadata": {},
     "output_type": "display_data"
    },
    {
     "data": {
      "application/vnd.jupyter.widget-view+json": {
       "model_id": "3284ae77581c4c549a1eb4ab4cf9d9e1",
       "version_major": 2,
       "version_minor": 0
      },
      "text/plain": [
       "Validating:   0%|          | 0/7 [00:00<?, ?it/s]"
      ]
     },
     "metadata": {},
     "output_type": "display_data"
    },
    {
     "data": {
      "application/vnd.jupyter.widget-view+json": {
       "model_id": "8f914bb9c1a84433b3b050c9c742ba04",
       "version_major": 2,
       "version_minor": 0
      },
      "text/plain": [
       "Testing:   0%|          | 0/7 [00:00<?, ?it/s]"
      ]
     },
     "metadata": {},
     "output_type": "display_data"
    },
    {
     "name": "stdout",
     "output_type": "stream",
     "text": [
      "Test Loss: 0.0021, Test Accuracy: 0.9865, Precision: 0.9834, Recall: 1.0000, F1 Score: 0.9916\n",
      "single-input model (Laplacians) Epoch 5/10, Train Loss: 0.0046, Train Acc: 0.9639, Valid Loss: 0.0048, Valid Acc: 0.9505\n",
      "single-input model (Laplacians)Training time: 314.69953083992004\n",
      "single-input model (Laplacians)Validation time: 8.999873876571655\n",
      "single-input model (Laplacians)Testing time: 9.021804809570312\n"
     ]
    },
    {
     "data": {
      "application/vnd.jupyter.widget-view+json": {
       "model_id": "3ee9cc90e72d41b4b46b78b749fe195e",
       "version_major": 2,
       "version_minor": 0
      },
      "text/plain": [
       "Training:   0%|          | 0/56 [00:00<?, ?it/s]"
      ]
     },
     "metadata": {},
     "output_type": "display_data"
    },
    {
     "data": {
      "application/vnd.jupyter.widget-view+json": {
       "model_id": "90304f00d6a346d3914872bdae6e3ba6",
       "version_major": 2,
       "version_minor": 0
      },
      "text/plain": [
       "Validating:   0%|          | 0/7 [00:00<?, ?it/s]"
      ]
     },
     "metadata": {},
     "output_type": "display_data"
    },
    {
     "data": {
      "application/vnd.jupyter.widget-view+json": {
       "model_id": "faa39cc82b034b848bdf49e631e635c5",
       "version_major": 2,
       "version_minor": 0
      },
      "text/plain": [
       "Testing:   0%|          | 0/7 [00:00<?, ?it/s]"
      ]
     },
     "metadata": {},
     "output_type": "display_data"
    },
    {
     "name": "stdout",
     "output_type": "stream",
     "text": [
      "Test Loss: 0.0031, Test Accuracy: 0.9820, Precision: 0.9780, Recall: 1.0000, F1 Score: 0.9889\n",
      "single-input model (Laplacians) Epoch 6/10, Train Loss: 0.0049, Train Acc: 0.9634, Valid Loss: 0.0063, Valid Acc: 0.9414\n",
      "single-input model (Laplacians)Training time: 317.0696589946747\n",
      "single-input model (Laplacians)Validation time: 8.401325941085815\n",
      "single-input model (Laplacians)Testing time: 8.745738983154297\n"
     ]
    },
    {
     "data": {
      "application/vnd.jupyter.widget-view+json": {
       "model_id": "27b252e3d00c44d5856b7a54fbacefb9",
       "version_major": 2,
       "version_minor": 0
      },
      "text/plain": [
       "Training:   0%|          | 0/56 [00:00<?, ?it/s]"
      ]
     },
     "metadata": {},
     "output_type": "display_data"
    },
    {
     "data": {
      "application/vnd.jupyter.widget-view+json": {
       "model_id": "7e28292e3f4f4441bc99e4117358b868",
       "version_major": 2,
       "version_minor": 0
      },
      "text/plain": [
       "Validating:   0%|          | 0/7 [00:00<?, ?it/s]"
      ]
     },
     "metadata": {},
     "output_type": "display_data"
    },
    {
     "data": {
      "application/vnd.jupyter.widget-view+json": {
       "model_id": "1a2108d916df4edf9130020f46c1608a",
       "version_major": 2,
       "version_minor": 0
      },
      "text/plain": [
       "Testing:   0%|          | 0/7 [00:00<?, ?it/s]"
      ]
     },
     "metadata": {},
     "output_type": "display_data"
    },
    {
     "name": "stdout",
     "output_type": "stream",
     "text": [
      "Test Loss: 0.0019, Test Accuracy: 0.9910, Precision: 0.9889, Recall: 1.0000, F1 Score: 0.9944\n",
      "single-input model (Laplacians) Epoch 7/10, Train Loss: 0.0038, Train Acc: 0.9701, Valid Loss: 0.0041, Valid Acc: 0.9640\n",
      "single-input model (Laplacians)Training time: 309.6745002269745\n",
      "single-input model (Laplacians)Validation time: 8.330536842346191\n",
      "single-input model (Laplacians)Testing time: 8.763657093048096\n"
     ]
    },
    {
     "data": {
      "application/vnd.jupyter.widget-view+json": {
       "model_id": "0b1fcea050734c85bcb747f759469681",
       "version_major": 2,
       "version_minor": 0
      },
      "text/plain": [
       "Training:   0%|          | 0/56 [00:00<?, ?it/s]"
      ]
     },
     "metadata": {},
     "output_type": "display_data"
    },
    {
     "data": {
      "application/vnd.jupyter.widget-view+json": {
       "model_id": "bd6b99ba362a422cb970522e2235ed0d",
       "version_major": 2,
       "version_minor": 0
      },
      "text/plain": [
       "Validating:   0%|          | 0/7 [00:00<?, ?it/s]"
      ]
     },
     "metadata": {},
     "output_type": "display_data"
    },
    {
     "data": {
      "application/vnd.jupyter.widget-view+json": {
       "model_id": "a4f0c9a093b648b1957b2e9ea8496501",
       "version_major": 2,
       "version_minor": 0
      },
      "text/plain": [
       "Testing:   0%|          | 0/7 [00:00<?, ?it/s]"
      ]
     },
     "metadata": {},
     "output_type": "display_data"
    },
    {
     "name": "stdout",
     "output_type": "stream",
     "text": [
      "Test Loss: 0.0022, Test Accuracy: 0.9820, Precision: 0.9780, Recall: 1.0000, F1 Score: 0.9889\n",
      "single-input model (Laplacians) Epoch 8/10, Train Loss: 0.0039, Train Acc: 0.9724, Valid Loss: 0.0063, Valid Acc: 0.9595\n",
      "single-input model (Laplacians)Training time: 314.47812390327454\n",
      "single-input model (Laplacians)Validation time: 8.84223198890686\n",
      "single-input model (Laplacians)Testing time: 9.065149784088135\n"
     ]
    },
    {
     "data": {
      "application/vnd.jupyter.widget-view+json": {
       "model_id": "322c15c003664b938299ab0a2ff8ead8",
       "version_major": 2,
       "version_minor": 0
      },
      "text/plain": [
       "Training:   0%|          | 0/56 [00:00<?, ?it/s]"
      ]
     },
     "metadata": {},
     "output_type": "display_data"
    },
    {
     "data": {
      "application/vnd.jupyter.widget-view+json": {
       "model_id": "15aa5d70466a4dfc87143a3a6b315fb5",
       "version_major": 2,
       "version_minor": 0
      },
      "text/plain": [
       "Validating:   0%|          | 0/7 [00:00<?, ?it/s]"
      ]
     },
     "metadata": {},
     "output_type": "display_data"
    },
    {
     "data": {
      "application/vnd.jupyter.widget-view+json": {
       "model_id": "f7e0e0cb3ffb4318897fed7b9f2abc66",
       "version_major": 2,
       "version_minor": 0
      },
      "text/plain": [
       "Testing:   0%|          | 0/7 [00:00<?, ?it/s]"
      ]
     },
     "metadata": {},
     "output_type": "display_data"
    },
    {
     "name": "stdout",
     "output_type": "stream",
     "text": [
      "Test Loss: 0.0022, Test Accuracy: 0.9865, Precision: 0.9834, Recall: 1.0000, F1 Score: 0.9916\n",
      "single-input model (Laplacians) Epoch 9/10, Train Loss: 0.0040, Train Acc: 0.9730, Valid Loss: 0.0068, Valid Acc: 0.9505\n",
      "single-input model (Laplacians)Training time: 312.0798308849335\n",
      "single-input model (Laplacians)Validation time: 8.872946977615356\n",
      "single-input model (Laplacians)Testing time: 9.02367901802063\n"
     ]
    },
    {
     "data": {
      "application/vnd.jupyter.widget-view+json": {
       "model_id": "ff7e6282ba9b48f2ae0e8eb714f28739",
       "version_major": 2,
       "version_minor": 0
      },
      "text/plain": [
       "Training:   0%|          | 0/56 [00:00<?, ?it/s]"
      ]
     },
     "metadata": {},
     "output_type": "display_data"
    },
    {
     "data": {
      "application/vnd.jupyter.widget-view+json": {
       "model_id": "a394a77abaca487f8df1b25b7c9fd183",
       "version_major": 2,
       "version_minor": 0
      },
      "text/plain": [
       "Validating:   0%|          | 0/7 [00:00<?, ?it/s]"
      ]
     },
     "metadata": {},
     "output_type": "display_data"
    },
    {
     "data": {
      "application/vnd.jupyter.widget-view+json": {
       "model_id": "d61d6f97754e4d41a783328be82458e5",
       "version_major": 2,
       "version_minor": 0
      },
      "text/plain": [
       "Testing:   0%|          | 0/7 [00:00<?, ?it/s]"
      ]
     },
     "metadata": {},
     "output_type": "display_data"
    },
    {
     "name": "stdout",
     "output_type": "stream",
     "text": [
      "Test Loss: 0.0021, Test Accuracy: 0.9865, Precision: 0.9888, Recall: 0.9944, F1 Score: 0.9916\n",
      "single-input model (Laplacians) Epoch 10/10, Train Loss: 0.0032, Train Acc: 0.9758, Valid Loss: 0.0041, Valid Acc: 0.9685\n",
      "single-input model (Laplacians)Training time: 311.29573011398315\n",
      "single-input model (Laplacians)Validation time: 8.824513912200928\n",
      "single-input model (Laplacians)Testing time: 9.223189115524292\n"
     ]
    },
    {
     "data": {
      "application/vnd.jupyter.widget-view+json": {
       "model_id": "e98232e745194319ab63e67b54a4d5bb",
       "version_major": 2,
       "version_minor": 0
      },
      "text/plain": [
       "Training (Dual Input):   0%|          | 0/56 [00:00<?, ?it/s]"
      ]
     },
     "metadata": {},
     "output_type": "display_data"
    },
    {
     "data": {
      "application/vnd.jupyter.widget-view+json": {
       "model_id": "0c665118df974a708c0b328961e99155",
       "version_major": 2,
       "version_minor": 0
      },
      "text/plain": [
       "Testing (Dual Input):   0%|          | 0/7 [00:00<?, ?it/s]"
      ]
     },
     "metadata": {},
     "output_type": "display_data"
    },
    {
     "name": "stdout",
     "output_type": "stream",
     "text": [
      "Test Loss: 0.0019, Test Accuracy: 0.9820, Precision: 0.9780, Recall: 1.0000, F1 Score: 0.9889\n",
      "dual-input model (Laplacians + VR Persistence Images) Epoch 1/10, Train Loss: 0.0038, Train Acc: 0.9741, Valid Loss: 0.1617, Valid Acc: 0.9640\n",
      "dual-input model (Laplacians + VR Persistence Images) Training time: 348.3822531700134\n",
      "dual-input model (Laplacians + VR Persistence Images) Validation time: 10.329986095428467\n",
      "dual-input model (Laplacians + VR Persistence Images) Testing time: 11.988239049911499\n"
     ]
    },
    {
     "data": {
      "application/vnd.jupyter.widget-view+json": {
       "model_id": "80fbb32b012a408686b5264b7a61ec13",
       "version_major": 2,
       "version_minor": 0
      },
      "text/plain": [
       "Training (Dual Input):   0%|          | 0/56 [00:00<?, ?it/s]"
      ]
     },
     "metadata": {},
     "output_type": "display_data"
    },
    {
     "data": {
      "application/vnd.jupyter.widget-view+json": {
       "model_id": "9f67d463e4c047da8f3249e408cfe2b3",
       "version_major": 2,
       "version_minor": 0
      },
      "text/plain": [
       "Testing (Dual Input):   0%|          | 0/7 [00:00<?, ?it/s]"
      ]
     },
     "metadata": {},
     "output_type": "display_data"
    },
    {
     "name": "stdout",
     "output_type": "stream",
     "text": [
      "Test Loss: 0.0006, Test Accuracy: 0.9910, Precision: 0.9944, Recall: 0.9944, F1 Score: 0.9944\n",
      "dual-input model (Laplacians + VR Persistence Images) Epoch 2/10, Train Loss: 0.0020, Train Acc: 0.9786, Valid Loss: 0.0346, Valid Acc: 0.9820\n",
      "dual-input model (Laplacians + VR Persistence Images) Training time: 353.7077820301056\n",
      "dual-input model (Laplacians + VR Persistence Images) Validation time: 9.44218397140503\n",
      "dual-input model (Laplacians + VR Persistence Images) Testing time: 9.646596908569336\n"
     ]
    },
    {
     "data": {
      "application/vnd.jupyter.widget-view+json": {
       "model_id": "1ab37ec097e745e1b08128ed6aedbf1a",
       "version_major": 2,
       "version_minor": 0
      },
      "text/plain": [
       "Training (Dual Input):   0%|          | 0/56 [00:00<?, ?it/s]"
      ]
     },
     "metadata": {},
     "output_type": "display_data"
    },
    {
     "data": {
      "application/vnd.jupyter.widget-view+json": {
       "model_id": "259ae9f704d54a03b8a644d8a32ac1b5",
       "version_major": 2,
       "version_minor": 0
      },
      "text/plain": [
       "Testing (Dual Input):   0%|          | 0/7 [00:00<?, ?it/s]"
      ]
     },
     "metadata": {},
     "output_type": "display_data"
    },
    {
     "name": "stdout",
     "output_type": "stream",
     "text": [
      "Test Loss: 0.0003, Test Accuracy: 0.9955, Precision: 0.9944, Recall: 1.0000, F1 Score: 0.9972\n",
      "dual-input model (Laplacians + VR Persistence Images) Epoch 3/10, Train Loss: 0.0014, Train Acc: 0.9859, Valid Loss: 0.0233, Valid Acc: 0.9910\n",
      "dual-input model (Laplacians + VR Persistence Images) Training time: 353.44604301452637\n",
      "dual-input model (Laplacians + VR Persistence Images) Validation time: 10.433130979537964\n",
      "dual-input model (Laplacians + VR Persistence Images) Testing time: 10.539531946182251\n"
     ]
    },
    {
     "data": {
      "application/vnd.jupyter.widget-view+json": {
       "model_id": "aecb6d7f7e0b42c78e9b975023838c1b",
       "version_major": 2,
       "version_minor": 0
      },
      "text/plain": [
       "Training (Dual Input):   0%|          | 0/56 [00:00<?, ?it/s]"
      ]
     },
     "metadata": {},
     "output_type": "display_data"
    },
    {
     "data": {
      "application/vnd.jupyter.widget-view+json": {
       "model_id": "927d0524675c44b7a92c105aff4f909e",
       "version_major": 2,
       "version_minor": 0
      },
      "text/plain": [
       "Testing (Dual Input):   0%|          | 0/7 [00:00<?, ?it/s]"
      ]
     },
     "metadata": {},
     "output_type": "display_data"
    },
    {
     "name": "stdout",
     "output_type": "stream",
     "text": [
      "Test Loss: 0.0003, Test Accuracy: 0.9955, Precision: 0.9944, Recall: 1.0000, F1 Score: 0.9972\n",
      "dual-input model (Laplacians + VR Persistence Images) Epoch 4/10, Train Loss: 0.0011, Train Acc: 0.9899, Valid Loss: 0.0293, Valid Acc: 0.9775\n",
      "dual-input model (Laplacians + VR Persistence Images) Training time: 336.3767418861389\n",
      "dual-input model (Laplacians + VR Persistence Images) Validation time: 9.356745958328247\n",
      "dual-input model (Laplacians + VR Persistence Images) Testing time: 9.33332872390747\n"
     ]
    },
    {
     "data": {
      "application/vnd.jupyter.widget-view+json": {
       "model_id": "077d5c06456a483e84c20ef076fd2008",
       "version_major": 2,
       "version_minor": 0
      },
      "text/plain": [
       "Training (Dual Input):   0%|          | 0/56 [00:00<?, ?it/s]"
      ]
     },
     "metadata": {},
     "output_type": "display_data"
    },
    {
     "data": {
      "application/vnd.jupyter.widget-view+json": {
       "model_id": "7e21846ffdab4ce6a6731696b57205ef",
       "version_major": 2,
       "version_minor": 0
      },
      "text/plain": [
       "Testing (Dual Input):   0%|          | 0/7 [00:00<?, ?it/s]"
      ]
     },
     "metadata": {},
     "output_type": "display_data"
    },
    {
     "name": "stdout",
     "output_type": "stream",
     "text": [
      "Test Loss: 0.0002, Test Accuracy: 1.0000, Precision: 1.0000, Recall: 1.0000, F1 Score: 1.0000\n",
      "dual-input model (Laplacians + VR Persistence Images) Epoch 5/10, Train Loss: 0.0008, Train Acc: 0.9915, Valid Loss: 0.0124, Valid Acc: 0.9955\n",
      "dual-input model (Laplacians + VR Persistence Images) Training time: 335.4146659374237\n",
      "dual-input model (Laplacians + VR Persistence Images) Validation time: 9.446593999862671\n",
      "dual-input model (Laplacians + VR Persistence Images) Testing time: 9.672770738601685\n"
     ]
    },
    {
     "data": {
      "application/vnd.jupyter.widget-view+json": {
       "model_id": "710d469d33de4a038b4050e21e713084",
       "version_major": 2,
       "version_minor": 0
      },
      "text/plain": [
       "Training (Dual Input):   0%|          | 0/56 [00:00<?, ?it/s]"
      ]
     },
     "metadata": {},
     "output_type": "display_data"
    },
    {
     "data": {
      "application/vnd.jupyter.widget-view+json": {
       "model_id": "1fb288fec1664fb0b094a3db924ef52d",
       "version_major": 2,
       "version_minor": 0
      },
      "text/plain": [
       "Testing (Dual Input):   0%|          | 0/7 [00:00<?, ?it/s]"
      ]
     },
     "metadata": {},
     "output_type": "display_data"
    },
    {
     "name": "stdout",
     "output_type": "stream",
     "text": [
      "Test Loss: 0.0007, Test Accuracy: 0.9865, Precision: 1.0000, Recall: 0.9831, F1 Score: 0.9915\n",
      "dual-input model (Laplacians + VR Persistence Images) Epoch 6/10, Train Loss: 0.0006, Train Acc: 0.9932, Valid Loss: 0.0470, Valid Acc: 0.9820\n",
      "dual-input model (Laplacians + VR Persistence Images) Training time: 335.2782609462738\n",
      "dual-input model (Laplacians + VR Persistence Images) Validation time: 9.409879922866821\n",
      "dual-input model (Laplacians + VR Persistence Images) Testing time: 9.702048063278198\n"
     ]
    },
    {
     "data": {
      "application/vnd.jupyter.widget-view+json": {
       "model_id": "4c1cf8e0b39b4277a34db9a420ff143b",
       "version_major": 2,
       "version_minor": 0
      },
      "text/plain": [
       "Training (Dual Input):   0%|          | 0/56 [00:00<?, ?it/s]"
      ]
     },
     "metadata": {},
     "output_type": "display_data"
    },
    {
     "data": {
      "application/vnd.jupyter.widget-view+json": {
       "model_id": "e65b6fdc684d41b8874c80de7ac1be8c",
       "version_major": 2,
       "version_minor": 0
      },
      "text/plain": [
       "Testing (Dual Input):   0%|          | 0/7 [00:00<?, ?it/s]"
      ]
     },
     "metadata": {},
     "output_type": "display_data"
    },
    {
     "name": "stdout",
     "output_type": "stream",
     "text": [
      "Test Loss: 0.0012, Test Accuracy: 0.9820, Precision: 0.9780, Recall: 1.0000, F1 Score: 0.9889\n",
      "dual-input model (Laplacians + VR Persistence Images) Epoch 7/10, Train Loss: 0.0017, Train Acc: 0.9854, Valid Loss: 0.0666, Valid Acc: 0.9775\n",
      "dual-input model (Laplacians + VR Persistence Images) Training time: 341.2134449481964\n",
      "dual-input model (Laplacians + VR Persistence Images) Validation time: 9.63590407371521\n",
      "dual-input model (Laplacians + VR Persistence Images) Testing time: 9.728487014770508\n"
     ]
    },
    {
     "data": {
      "application/vnd.jupyter.widget-view+json": {
       "model_id": "e2521760cf2c420dbf1e849242782e30",
       "version_major": 2,
       "version_minor": 0
      },
      "text/plain": [
       "Training (Dual Input):   0%|          | 0/56 [00:00<?, ?it/s]"
      ]
     },
     "metadata": {},
     "output_type": "display_data"
    },
    {
     "data": {
      "application/vnd.jupyter.widget-view+json": {
       "model_id": "30346fa53223445f8091d5592daeb518",
       "version_major": 2,
       "version_minor": 0
      },
      "text/plain": [
       "Testing (Dual Input):   0%|          | 0/7 [00:00<?, ?it/s]"
      ]
     },
     "metadata": {},
     "output_type": "display_data"
    },
    {
     "name": "stdout",
     "output_type": "stream",
     "text": [
      "Test Loss: 0.0007, Test Accuracy: 0.9955, Precision: 0.9944, Recall: 1.0000, F1 Score: 0.9972\n",
      "dual-input model (Laplacians + VR Persistence Images) Epoch 8/10, Train Loss: 0.0007, Train Acc: 0.9927, Valid Loss: 0.0190, Valid Acc: 0.9910\n",
      "dual-input model (Laplacians + VR Persistence Images) Training time: 336.6742980480194\n",
      "dual-input model (Laplacians + VR Persistence Images) Validation time: 9.647465944290161\n",
      "dual-input model (Laplacians + VR Persistence Images) Testing time: 9.578864097595215\n"
     ]
    },
    {
     "data": {
      "application/vnd.jupyter.widget-view+json": {
       "model_id": "5adff48587bc4d649f5d781e6fc906d8",
       "version_major": 2,
       "version_minor": 0
      },
      "text/plain": [
       "Training (Dual Input):   0%|          | 0/56 [00:00<?, ?it/s]"
      ]
     },
     "metadata": {},
     "output_type": "display_data"
    },
    {
     "data": {
      "application/vnd.jupyter.widget-view+json": {
       "model_id": "81faefc8dd6b4d1e984ffe4e9f4871af",
       "version_major": 2,
       "version_minor": 0
      },
      "text/plain": [
       "Testing (Dual Input):   0%|          | 0/7 [00:00<?, ?it/s]"
      ]
     },
     "metadata": {},
     "output_type": "display_data"
    },
    {
     "name": "stdout",
     "output_type": "stream",
     "text": [
      "Test Loss: 0.0001, Test Accuracy: 1.0000, Precision: 1.0000, Recall: 1.0000, F1 Score: 1.0000\n",
      "dual-input model (Laplacians + VR Persistence Images) Epoch 9/10, Train Loss: 0.0009, Train Acc: 0.9915, Valid Loss: 0.0147, Valid Acc: 0.9910\n",
      "dual-input model (Laplacians + VR Persistence Images) Training time: 334.19271874427795\n",
      "dual-input model (Laplacians + VR Persistence Images) Validation time: 9.507293939590454\n",
      "dual-input model (Laplacians + VR Persistence Images) Testing time: 9.481189012527466\n"
     ]
    },
    {
     "data": {
      "application/vnd.jupyter.widget-view+json": {
       "model_id": "30e6027c00dc4260a7d28e3df7a5fc5d",
       "version_major": 2,
       "version_minor": 0
      },
      "text/plain": [
       "Training (Dual Input):   0%|          | 0/56 [00:00<?, ?it/s]"
      ]
     },
     "metadata": {},
     "output_type": "display_data"
    },
    {
     "data": {
      "application/vnd.jupyter.widget-view+json": {
       "model_id": "5a8fff17071f432c99d2af9c98657a74",
       "version_major": 2,
       "version_minor": 0
      },
      "text/plain": [
       "Testing (Dual Input):   0%|          | 0/7 [00:00<?, ?it/s]"
      ]
     },
     "metadata": {},
     "output_type": "display_data"
    },
    {
     "name": "stdout",
     "output_type": "stream",
     "text": [
      "Test Loss: 0.0004, Test Accuracy: 0.9955, Precision: 0.9944, Recall: 1.0000, F1 Score: 0.9972\n",
      "dual-input model (Laplacians + VR Persistence Images) Epoch 10/10, Train Loss: 0.0007, Train Acc: 0.9932, Valid Loss: 0.0290, Valid Acc: 0.9910\n",
      "dual-input model (Laplacians + VR Persistence Images) Training time: 335.23463702201843\n",
      "dual-input model (Laplacians + VR Persistence Images) Validation time: 9.440114259719849\n",
      "dual-input model (Laplacians + VR Persistence Images) Testing time: 9.415673017501831\n"
     ]
    },
    {
     "data": {
      "application/vnd.jupyter.widget-view+json": {
       "model_id": "ef5a866e4ef5410c97f8e41b707029e6",
       "version_major": 2,
       "version_minor": 0
      },
      "text/plain": [
       "Training (Dual Input):   0%|          | 0/56 [00:00<?, ?it/s]"
      ]
     },
     "metadata": {},
     "output_type": "display_data"
    },
    {
     "data": {
      "application/vnd.jupyter.widget-view+json": {
       "model_id": "40e4ee7e77be4c7c8f7de5d191f24028",
       "version_major": 2,
       "version_minor": 0
      },
      "text/plain": [
       "Testing (Dual Input):   0%|          | 0/7 [00:00<?, ?it/s]"
      ]
     },
     "metadata": {},
     "output_type": "display_data"
    },
    {
     "name": "stdout",
     "output_type": "stream",
     "text": [
      "Test Loss: 0.0019, Test Accuracy: 0.9820, Precision: 0.9888, Recall: 0.9888, F1 Score: 0.9888\n",
      "dual-input model (Laplacians + Abstract Persistence Images) Epoch 1/10, Train Loss: 0.0069, Train Acc: 0.9527, Valid Loss: 0.0672, Valid Acc: 0.9730\n",
      "dual-input model (Laplacians + Abstract Persistence Images) Training time: 338.47837018966675\n",
      "dual-input model (Laplacians + Abstract Persistence Images) Validation time: 9.182995796203613\n",
      "dual-input model (Laplacians + Abstract Persistence Images) Testing time: 9.051176071166992\n"
     ]
    },
    {
     "data": {
      "application/vnd.jupyter.widget-view+json": {
       "model_id": "f2f4f0e14b12443a8b1db97992f8b7f3",
       "version_major": 2,
       "version_minor": 0
      },
      "text/plain": [
       "Training (Dual Input):   0%|          | 0/56 [00:00<?, ?it/s]"
      ]
     },
     "metadata": {},
     "output_type": "display_data"
    },
    {
     "data": {
      "application/vnd.jupyter.widget-view+json": {
       "model_id": "ea90c6931ade4c75a84aeb1fe8e6a574",
       "version_major": 2,
       "version_minor": 0
      },
      "text/plain": [
       "Testing (Dual Input):   0%|          | 0/7 [00:00<?, ?it/s]"
      ]
     },
     "metadata": {},
     "output_type": "display_data"
    },
    {
     "name": "stdout",
     "output_type": "stream",
     "text": [
      "Test Loss: 0.0020, Test Accuracy: 0.9775, Precision: 0.9943, Recall: 0.9775, F1 Score: 0.9858\n",
      "dual-input model (Laplacians + Abstract Persistence Images) Epoch 2/10, Train Loss: 0.0041, Train Acc: 0.9707, Valid Loss: 0.0875, Valid Acc: 0.9730\n",
      "dual-input model (Laplacians + Abstract Persistence Images) Training time: 342.952162027359\n",
      "dual-input model (Laplacians + Abstract Persistence Images) Validation time: 10.009047031402588\n",
      "dual-input model (Laplacians + Abstract Persistence Images) Testing time: 9.98735523223877\n"
     ]
    },
    {
     "data": {
      "application/vnd.jupyter.widget-view+json": {
       "model_id": "0a3e3c674d7d45c2b94beec505d2f73d",
       "version_major": 2,
       "version_minor": 0
      },
      "text/plain": [
       "Training (Dual Input):   0%|          | 0/56 [00:00<?, ?it/s]"
      ]
     },
     "metadata": {},
     "output_type": "display_data"
    },
    {
     "data": {
      "application/vnd.jupyter.widget-view+json": {
       "model_id": "0b1c620853ec4a42a7762deaef530c60",
       "version_major": 2,
       "version_minor": 0
      },
      "text/plain": [
       "Testing (Dual Input):   0%|          | 0/7 [00:00<?, ?it/s]"
      ]
     },
     "metadata": {},
     "output_type": "display_data"
    },
    {
     "name": "stdout",
     "output_type": "stream",
     "text": [
      "Test Loss: 0.0015, Test Accuracy: 0.9910, Precision: 0.9889, Recall: 1.0000, F1 Score: 0.9944\n",
      "dual-input model (Laplacians + Abstract Persistence Images) Epoch 3/10, Train Loss: 0.0031, Train Acc: 0.9775, Valid Loss: 0.1160, Valid Acc: 0.9685\n",
      "dual-input model (Laplacians + Abstract Persistence Images) Training time: 345.4139971733093\n",
      "dual-input model (Laplacians + Abstract Persistence Images) Validation time: 9.933466911315918\n",
      "dual-input model (Laplacians + Abstract Persistence Images) Testing time: 9.792460918426514\n"
     ]
    },
    {
     "data": {
      "application/vnd.jupyter.widget-view+json": {
       "model_id": "c43394cfad2d42bf947cbd1fb84e60d4",
       "version_major": 2,
       "version_minor": 0
      },
      "text/plain": [
       "Training (Dual Input):   0%|          | 0/56 [00:00<?, ?it/s]"
      ]
     },
     "metadata": {},
     "output_type": "display_data"
    },
    {
     "data": {
      "application/vnd.jupyter.widget-view+json": {
       "model_id": "3aa2236a4c96416b8b4e4aad3896fcbc",
       "version_major": 2,
       "version_minor": 0
      },
      "text/plain": [
       "Testing (Dual Input):   0%|          | 0/7 [00:00<?, ?it/s]"
      ]
     },
     "metadata": {},
     "output_type": "display_data"
    },
    {
     "name": "stdout",
     "output_type": "stream",
     "text": [
      "Test Loss: 0.0013, Test Accuracy: 0.9955, Precision: 0.9944, Recall: 1.0000, F1 Score: 0.9972\n",
      "dual-input model (Laplacians + Abstract Persistence Images) Epoch 4/10, Train Loss: 0.0028, Train Acc: 0.9763, Valid Loss: 0.0887, Valid Acc: 0.9730\n",
      "dual-input model (Laplacians + Abstract Persistence Images) Training time: 342.4711833000183\n",
      "dual-input model (Laplacians + Abstract Persistence Images) Validation time: 9.665131092071533\n",
      "dual-input model (Laplacians + Abstract Persistence Images) Testing time: 10.252530097961426\n"
     ]
    },
    {
     "data": {
      "application/vnd.jupyter.widget-view+json": {
       "model_id": "2096161e6f454957b4edef624cd2d800",
       "version_major": 2,
       "version_minor": 0
      },
      "text/plain": [
       "Training (Dual Input):   0%|          | 0/56 [00:00<?, ?it/s]"
      ]
     },
     "metadata": {},
     "output_type": "display_data"
    },
    {
     "data": {
      "application/vnd.jupyter.widget-view+json": {
       "model_id": "22e903a1a6d64cfe88aa27b76d9b35d4",
       "version_major": 2,
       "version_minor": 0
      },
      "text/plain": [
       "Testing (Dual Input):   0%|          | 0/7 [00:00<?, ?it/s]"
      ]
     },
     "metadata": {},
     "output_type": "display_data"
    },
    {
     "name": "stdout",
     "output_type": "stream",
     "text": [
      "Test Loss: 0.0016, Test Accuracy: 0.9910, Precision: 0.9944, Recall: 0.9944, F1 Score: 0.9944\n",
      "dual-input model (Laplacians + Abstract Persistence Images) Epoch 5/10, Train Loss: 0.0026, Train Acc: 0.9814, Valid Loss: 0.1130, Valid Acc: 0.9730\n",
      "dual-input model (Laplacians + Abstract Persistence Images) Training time: 340.68490290641785\n",
      "dual-input model (Laplacians + Abstract Persistence Images) Validation time: 9.274497985839844\n",
      "dual-input model (Laplacians + Abstract Persistence Images) Testing time: 9.034538984298706\n"
     ]
    },
    {
     "data": {
      "application/vnd.jupyter.widget-view+json": {
       "model_id": "b85e4f13afce4beaa1a84e374d82d79d",
       "version_major": 2,
       "version_minor": 0
      },
      "text/plain": [
       "Training (Dual Input):   0%|          | 0/56 [00:00<?, ?it/s]"
      ]
     },
     "metadata": {},
     "output_type": "display_data"
    },
    {
     "data": {
      "application/vnd.jupyter.widget-view+json": {
       "model_id": "a297ac7209be4e9cab9a58974d351026",
       "version_major": 2,
       "version_minor": 0
      },
      "text/plain": [
       "Testing (Dual Input):   0%|          | 0/7 [00:00<?, ?it/s]"
      ]
     },
     "metadata": {},
     "output_type": "display_data"
    },
    {
     "name": "stdout",
     "output_type": "stream",
     "text": [
      "Test Loss: 0.0014, Test Accuracy: 0.9910, Precision: 0.9944, Recall: 0.9944, F1 Score: 0.9944\n",
      "dual-input model (Laplacians + Abstract Persistence Images) Epoch 6/10, Train Loss: 0.0020, Train Acc: 0.9831, Valid Loss: 0.0847, Valid Acc: 0.9730\n",
      "dual-input model (Laplacians + Abstract Persistence Images) Training time: 333.1227219104767\n",
      "dual-input model (Laplacians + Abstract Persistence Images) Validation time: 9.276266098022461\n",
      "dual-input model (Laplacians + Abstract Persistence Images) Testing time: 9.404620885848999\n"
     ]
    },
    {
     "data": {
      "application/vnd.jupyter.widget-view+json": {
       "model_id": "845b8ec24cc749328f91abff3530745a",
       "version_major": 2,
       "version_minor": 0
      },
      "text/plain": [
       "Training (Dual Input):   0%|          | 0/56 [00:00<?, ?it/s]"
      ]
     },
     "metadata": {},
     "output_type": "display_data"
    },
    {
     "data": {
      "application/vnd.jupyter.widget-view+json": {
       "model_id": "7e5426896e2b46c2a213d26e9e3d21ad",
       "version_major": 2,
       "version_minor": 0
      },
      "text/plain": [
       "Testing (Dual Input):   0%|          | 0/7 [00:00<?, ?it/s]"
      ]
     },
     "metadata": {},
     "output_type": "display_data"
    },
    {
     "name": "stdout",
     "output_type": "stream",
     "text": [
      "Test Loss: 0.0027, Test Accuracy: 0.9865, Precision: 0.9944, Recall: 0.9888, F1 Score: 0.9915\n",
      "dual-input model (Laplacians + Abstract Persistence Images) Epoch 7/10, Train Loss: 0.0015, Train Acc: 0.9859, Valid Loss: 0.0901, Valid Acc: 0.9775\n",
      "dual-input model (Laplacians + Abstract Persistence Images) Training time: 347.34837675094604\n",
      "dual-input model (Laplacians + Abstract Persistence Images) Validation time: 9.914465188980103\n",
      "dual-input model (Laplacians + Abstract Persistence Images) Testing time: 10.044459104537964\n"
     ]
    },
    {
     "data": {
      "application/vnd.jupyter.widget-view+json": {
       "model_id": "ddcd01023a0e4405b46d80b1539f6e4b",
       "version_major": 2,
       "version_minor": 0
      },
      "text/plain": [
       "Training (Dual Input):   0%|          | 0/56 [00:00<?, ?it/s]"
      ]
     },
     "metadata": {},
     "output_type": "display_data"
    },
    {
     "data": {
      "application/vnd.jupyter.widget-view+json": {
       "model_id": "cb70361d22c54ea187d65c07617cba61",
       "version_major": 2,
       "version_minor": 0
      },
      "text/plain": [
       "Testing (Dual Input):   0%|          | 0/7 [00:00<?, ?it/s]"
      ]
     },
     "metadata": {},
     "output_type": "display_data"
    },
    {
     "name": "stdout",
     "output_type": "stream",
     "text": [
      "Test Loss: 0.0090, Test Accuracy: 0.9820, Precision: 0.9780, Recall: 1.0000, F1 Score: 0.9889\n",
      "dual-input model (Laplacians + Abstract Persistence Images) Epoch 8/10, Train Loss: 0.0014, Train Acc: 0.9865, Valid Loss: 0.6274, Valid Acc: 0.9550\n",
      "dual-input model (Laplacians + Abstract Persistence Images) Training time: 339.38775515556335\n",
      "dual-input model (Laplacians + Abstract Persistence Images) Validation time: 10.0239098072052\n",
      "dual-input model (Laplacians + Abstract Persistence Images) Testing time: 10.312762975692749\n"
     ]
    },
    {
     "data": {
      "application/vnd.jupyter.widget-view+json": {
       "model_id": "13dfc1234f504116bc5ab98300cae28c",
       "version_major": 2,
       "version_minor": 0
      },
      "text/plain": [
       "Training (Dual Input):   0%|          | 0/56 [00:00<?, ?it/s]"
      ]
     },
     "metadata": {},
     "output_type": "display_data"
    },
    {
     "data": {
      "application/vnd.jupyter.widget-view+json": {
       "model_id": "c28c7485fd8e4678b72337449fdeb4dc",
       "version_major": 2,
       "version_minor": 0
      },
      "text/plain": [
       "Testing (Dual Input):   0%|          | 0/7 [00:00<?, ?it/s]"
      ]
     },
     "metadata": {},
     "output_type": "display_data"
    },
    {
     "name": "stdout",
     "output_type": "stream",
     "text": [
      "Test Loss: 0.0016, Test Accuracy: 0.9955, Precision: 0.9944, Recall: 1.0000, F1 Score: 0.9972\n",
      "dual-input model (Laplacians + Abstract Persistence Images) Epoch 9/10, Train Loss: 0.0047, Train Acc: 0.9741, Valid Loss: 0.1432, Valid Acc: 0.9685\n",
      "dual-input model (Laplacians + Abstract Persistence Images) Training time: 346.5572190284729\n",
      "dual-input model (Laplacians + Abstract Persistence Images) Validation time: 10.592430830001831\n",
      "dual-input model (Laplacians + Abstract Persistence Images) Testing time: 10.20783805847168\n"
     ]
    },
    {
     "data": {
      "application/vnd.jupyter.widget-view+json": {
       "model_id": "a49a6c6987a8492d83a333ad43f2de05",
       "version_major": 2,
       "version_minor": 0
      },
      "text/plain": [
       "Training (Dual Input):   0%|          | 0/56 [00:00<?, ?it/s]"
      ]
     },
     "metadata": {},
     "output_type": "display_data"
    },
    {
     "data": {
      "application/vnd.jupyter.widget-view+json": {
       "model_id": "36db50d398564c68ab5a5a31a65545c0",
       "version_major": 2,
       "version_minor": 0
      },
      "text/plain": [
       "Testing (Dual Input):   0%|          | 0/7 [00:00<?, ?it/s]"
      ]
     },
     "metadata": {},
     "output_type": "display_data"
    },
    {
     "name": "stdout",
     "output_type": "stream",
     "text": [
      "Test Loss: 0.0025, Test Accuracy: 0.9865, Precision: 0.9944, Recall: 0.9888, F1 Score: 0.9915\n",
      "dual-input model (Laplacians + Abstract Persistence Images) Epoch 10/10, Train Loss: 0.0030, Train Acc: 0.9730, Valid Loss: 0.0574, Valid Acc: 0.9865\n",
      "dual-input model (Laplacians + Abstract Persistence Images) Training time: 348.62528896331787\n",
      "dual-input model (Laplacians + Abstract Persistence Images) Validation time: 9.825321912765503\n",
      "dual-input model (Laplacians + Abstract Persistence Images) Testing time: 9.798104047775269\n"
     ]
    }
   ],
   "source": [
    "# Initialize empty lists to store all metrics for each epoch\n",
    "test_metrics_single_list = []\n",
    "test_metrics_dual_vr_list = []\n",
    "test_metrics_dual_abstract_list = []\n",
    "\n",
    "# Initialize empty lists to store all confusion matrices for each epoch\n",
    "cm_single_list = []\n",
    "cm_dual_vr_list = []\n",
    "cm_dual_abstract_list = []\n",
    "\n",
    "# Training loop for single-input model (Laplacians)\n",
    "for epoch in range(num_epochs):\n",
    "\n",
    "      train_time_start = time.time()\n",
    "      model_single_laplacians.train()  # Ensure the model is in training mode\n",
    "\n",
    "      train_loss, train_acc = train_single_input(model_single_laplacians, train_loader_laplacians, optimizer_single, criterion, device)\n",
    "\n",
    "      train_time_end = time.time()\n",
    "\n",
    "      valid_time_start = time.time()\n",
    "\n",
    "      model_single_laplacians.eval()  # Switch model to evaluation mode after training\n",
    "\n",
    "\n",
    "\n",
    "      valid_loss, valid_acc = validate_single_input(model_single_laplacians, valid_loader_laplacians, criterion, device)\n",
    "\n",
    "      valid_time_end = time.time()\n",
    "\n",
    "      # Test the model after each epoch\n",
    "\n",
    "      test_time_start = time.time()\n",
    "      test_metrics_single, cm_single = test_single_input(model_single_laplacians, test_loader_laplacians, criterion, device)\n",
    "      test_time_end = time.time()\n",
    "\n",
    "      # Combine train, valid, and test metrics for this epoch\n",
    "      metrics = test_metrics_single.copy()\n",
    "      metrics['Train Loss'] = train_loss\n",
    "      metrics['Train Accuracy'] = train_acc\n",
    "      metrics['Valid Loss'] = valid_loss\n",
    "      metrics['Valid Accuracy'] = valid_acc\n",
    "\n",
    "      # Append to the list\n",
    "      test_metrics_single_list.append(metrics)\n",
    "      cm_single_list.append(cm_single)\n",
    "\n",
    "      print(f\"single-input model (Laplacians) Epoch {epoch+1}/{num_epochs}, \"\n",
    "            f\"Train Loss: {train_loss:.4f}, Train Acc: {train_acc:.4f}, \"\n",
    "            f\"Valid Loss: {valid_loss:.4f}, Valid Acc: {valid_acc:.4f}\")\n",
    "\n",
    "      torch.save(model_single_laplacians.state_dict(), \"Trained CNNs/model_single_h1_lap_nonunif_gudhi_epoch_{}.pth\".format(epoch+1))\n",
    "\n",
    "      print(f\"single-input model (Laplacians)Training time: {train_time_end - train_time_start}\")\n",
    "      print(f\"single-input model (Laplacians)Validation time: {valid_time_end - valid_time_start}\")\n",
    "      print(f\"single-input model (Laplacians)Testing time: {test_time_end - test_time_start}\")\n",
    "\n",
    "\n",
    "# Training loop for dual-input model (Laplacians + VR Persistence Images)\n",
    "for epoch in range(num_epochs):\n",
    "\n",
    "      train_time_start = time.time()\n",
    "      model_dual_lap_vr.train()  # Ensure the model is in training mode\n",
    "      train_loss, train_acc = train_dual_input(model_dual_lap_vr, train_loader_laplacians, train_loader_vr, optimizer_dual_vr, criterion, device)\n",
    "      train_time_end = time.time()\n",
    "      valid_time_start = time.time()\n",
    "      model_dual_lap_vr.eval()  # Switch model to evaluation mode after training\n",
    "\n",
    "\n",
    "      valid_loss, valid_acc = validate_dual_input(model_dual_lap_vr, valid_loader_laplacians, valid_loader_vr, criterion, device)\n",
    "      valid_time_end = time.time()\n",
    "\n",
    "      # Test the model after each epoch\n",
    "      test_time_start = time.time()\n",
    "      test_metrics_dual_vr, cm_dual_vr = test_dual_input(model_dual_lap_vr, test_loader_laplacians, test_loader_vr, criterion, device)\n",
    "      test_time_end = time.time()\n",
    "\n",
    "      # Combine train, valid, and test metrics for this epoch\n",
    "      metrics = test_metrics_dual_vr.copy()\n",
    "      metrics['Train Loss'] = train_loss\n",
    "      metrics['Train Accuracy'] = train_acc\n",
    "      metrics['Valid Loss'] = valid_loss\n",
    "      metrics['Valid Accuracy'] = valid_acc\n",
    "\n",
    "      # Append to the list\n",
    "      test_metrics_dual_vr_list.append(metrics)\n",
    "      cm_dual_vr_list.append(cm_dual_vr)\n",
    "\n",
    "      print(f\"dual-input model (Laplacians + VR Persistence Images) Epoch {epoch+1}/{num_epochs}, \"\n",
    "            f\"Train Loss: {train_loss:.4f}, Train Acc: {train_acc:.4f}, \"\n",
    "            f\"Valid Loss: {valid_loss:.4f}, Valid Acc: {valid_acc:.4f}\")\n",
    "\n",
    "      torch.save(model_dual_lap_vr.state_dict(), \"Trained CNNs/model_dual_h1_lap_vr_nonunif_gudhi_epoch_{}.pth\".format(epoch+1))\n",
    "\n",
    "      print(f\"dual-input model (Laplacians + VR Persistence Images) Training time: {train_time_end - train_time_start}\")\n",
    "      print(f\"dual-input model (Laplacians + VR Persistence Images) Validation time: {valid_time_end - valid_time_start}\")\n",
    "      print(f\"dual-input model (Laplacians + VR Persistence Images) Testing time: {test_time_end - test_time_start}\")\n",
    "\n",
    "\n",
    "# Training loop for dual-input model (Laplacians + Abstract Persistence Images)\n",
    "for epoch in range(num_epochs):\n",
    "\n",
    "      train_time_start = time.time()\n",
    "      model_dual_lap_abstract.train()  # Ensure the model is in training mode\n",
    "      train_loss, train_acc = train_dual_input(model_dual_lap_abstract, train_loader_laplacians, train_loader_abstract, optimizer_dual_abstract, criterion, device)\n",
    "      train_time_end = time.time()\n",
    "\n",
    "      valid_time_start = time.time()\n",
    "      model_dual_lap_abstract.eval()  # Switch model to evaluation mode after training\n",
    "      valid_loss, valid_acc = validate_dual_input(model_dual_lap_abstract, valid_loader_laplacians, valid_loader_abstract, criterion, device)\n",
    "      valid_time_end = time.time()\n",
    "\n",
    "      # Test the model after each epoch\n",
    "      test_time_start = time.time()\n",
    "      test_metrics_dual_abstract, cm_dual_abstract = test_dual_input(model_dual_lap_abstract, test_loader_laplacians, test_loader_abstract, criterion, device)\n",
    "      test_time_end = time.time()\n",
    "\n",
    "      # Combine train, valid, and test metrics for this epoch\n",
    "      metrics = test_metrics_dual_abstract.copy()\n",
    "      metrics['Train Loss'] = train_loss\n",
    "      metrics['Train Accuracy'] = train_acc\n",
    "      metrics['Valid Loss'] = valid_loss\n",
    "      metrics['Valid Accuracy'] = valid_acc\n",
    "\n",
    "      # Append to the list\n",
    "      test_metrics_dual_abstract_list.append(metrics)\n",
    "      cm_dual_abstract_list.append(cm_dual_abstract)\n",
    "\n",
    "      print(f\"dual-input model (Laplacians + Abstract Persistence Images) Epoch {epoch+1}/{num_epochs}, \"\n",
    "            f\"Train Loss: {train_loss:.4f}, Train Acc: {train_acc:.4f}, \"\n",
    "            f\"Valid Loss: {valid_loss:.4f}, Valid Acc: {valid_acc:.4f}\")\n",
    "\n",
    "      torch.save(model_dual_lap_abstract.state_dict(), \"Trained CNNs/model_dual_h1_lap_abstract_nonunif_gudhi_epoch_{}.pth\".format(epoch+1))\n",
    "\n",
    "      print(f\"dual-input model (Laplacians + Abstract Persistence Images) Training time: {train_time_end - train_time_start}\")\n",
    "      print(f\"dual-input model (Laplacians + Abstract Persistence Images) Validation time: {valid_time_end - valid_time_start}\")\n",
    "      print(f\"dual-input model (Laplacians + Abstract Persistence Images) Testing time: {test_time_end - test_time_start}\")\n"
   ]
  },
  {
   "cell_type": "code",
   "execution_count": 36,
   "metadata": {},
   "outputs": [
    {
     "name": "stdout",
     "output_type": "stream",
     "text": [
      "\n",
      "Single-input model (Laplacians) Test Metrics:\n",
      "       Test Loss  Test Accuracy  Precision    Recall  F1 Score  Train Loss  \\\n",
      "Epoch                                                                        \n",
      "1       0.003042       0.977477   0.972678  1.000000  0.986150    0.006248   \n",
      "2       0.002991       0.977477   0.972678  1.000000  0.986150    0.005727   \n",
      "3       0.003424       0.977477   0.972678  1.000000  0.986150    0.005490   \n",
      "4       0.002778       0.977477   0.972678  1.000000  0.986150    0.005390   \n",
      "5       0.002132       0.986486   0.983425  1.000000  0.991643    0.004645   \n",
      "6       0.003079       0.981982   0.978022  1.000000  0.988889    0.004853   \n",
      "7       0.001928       0.990991   0.988889  1.000000  0.994413    0.003833   \n",
      "8       0.002229       0.981982   0.978022  1.000000  0.988889    0.003907   \n",
      "9       0.002224       0.986486   0.983425  1.000000  0.991643    0.003979   \n",
      "10      0.002073       0.986486   0.988827  0.994382  0.991597    0.003180   \n",
      "\n",
      "       Train Accuracy  Valid Loss  Valid Accuracy  \n",
      "Epoch                                              \n",
      "1            0.951549    0.005646        0.954955  \n",
      "2            0.958310    0.006140        0.950450  \n",
      "3            0.954366    0.005833        0.954955  \n",
      "4            0.957746    0.006584        0.950450  \n",
      "5            0.963944    0.004784        0.950450  \n",
      "6            0.963380    0.006280        0.941441  \n",
      "7            0.970141    0.004080        0.963964  \n",
      "8            0.972394    0.006314        0.959459  \n",
      "9            0.972958    0.006825        0.950450  \n",
      "10           0.975775    0.004137        0.968468  \n",
      "\n",
      "Dual-input model (Laplacians + VR Persistence Images) Test Metrics:\n",
      "       Test Loss  Test Accuracy  Precision    Recall  F1 Score  Train Loss  \\\n",
      "Epoch                                                                        \n",
      "1       0.001879       0.981982   0.978022  1.000000  0.988889    0.003829   \n",
      "2       0.000592       0.990991   0.994382  0.994382  0.994382    0.001995   \n",
      "3       0.000255       0.995495   0.994413  1.000000  0.997199    0.001367   \n",
      "4       0.000336       0.995495   0.994413  1.000000  0.997199    0.001108   \n",
      "5       0.000217       1.000000   1.000000  1.000000  1.000000    0.000812   \n",
      "6       0.000668       0.986486   1.000000  0.983146  0.991501    0.000591   \n",
      "7       0.001175       0.981982   0.978022  1.000000  0.988889    0.001660   \n",
      "8       0.000658       0.995495   0.994413  1.000000  0.997199    0.000693   \n",
      "9       0.000096       1.000000   1.000000  1.000000  1.000000    0.000882   \n",
      "10      0.000428       0.995495   0.994413  1.000000  0.997199    0.000736   \n",
      "\n",
      "       Train Accuracy  Valid Loss  Valid Accuracy  \n",
      "Epoch                                              \n",
      "1            0.974085    0.161680        0.963964  \n",
      "2            0.978592    0.034627        0.981982  \n",
      "3            0.985915    0.023274        0.990991  \n",
      "4            0.989859    0.029346        0.977477  \n",
      "5            0.991549    0.012369        0.995495  \n",
      "6            0.993239    0.047049        0.981982  \n",
      "7            0.985352    0.066570        0.977477  \n",
      "8            0.992676    0.019001        0.990991  \n",
      "9            0.991549    0.014734        0.990991  \n",
      "10           0.993239    0.029021        0.990991  \n",
      "\n",
      "Dual-input model (Laplacians + Abstract Persistence Images) Test Metrics:\n",
      "       Test Loss  Test Accuracy  Precision    Recall  F1 Score  Train Loss  \\\n",
      "Epoch                                                                        \n",
      "1       0.001927       0.981982   0.988764  0.988764  0.988764    0.006856   \n",
      "2       0.001956       0.977477   0.994286  0.977528  0.985836    0.004137   \n",
      "3       0.001531       0.990991   0.988889  1.000000  0.994413    0.003072   \n",
      "4       0.001257       0.995495   0.994413  1.000000  0.997199    0.002809   \n",
      "5       0.001569       0.990991   0.994382  0.994382  0.994382    0.002584   \n",
      "6       0.001364       0.990991   0.994382  0.994382  0.994382    0.001977   \n",
      "7       0.002657       0.986486   0.994350  0.988764  0.991549    0.001467   \n",
      "8       0.009034       0.981982   0.978022  1.000000  0.988889    0.001400   \n",
      "9       0.001577       0.995495   0.994413  1.000000  0.997199    0.004733   \n",
      "10      0.002500       0.986486   0.994350  0.988764  0.991549    0.002966   \n",
      "\n",
      "       Train Accuracy  Valid Loss  Valid Accuracy  \n",
      "Epoch                                              \n",
      "1            0.952676    0.067216        0.972973  \n",
      "2            0.970704    0.087521        0.972973  \n",
      "3            0.977465    0.116031        0.968468  \n",
      "4            0.976338    0.088674        0.972973  \n",
      "5            0.981408    0.112962        0.972973  \n",
      "6            0.983099    0.084670        0.972973  \n",
      "7            0.985915    0.090075        0.977477  \n",
      "8            0.986479    0.627437        0.954955  \n",
      "9            0.974085    0.143231        0.968468  \n",
      "10           0.972958    0.057427        0.986486  \n"
     ]
    }
   ],
   "source": [
    "# Convert the lists of metrics into DataFrames with epoch as the index\n",
    "test_metrics_single_df = pd.concat(test_metrics_single_list, ignore_index=True)\n",
    "test_metrics_dual_vr_df = pd.concat(test_metrics_dual_vr_list, ignore_index=True)\n",
    "test_metrics_dual_abstract_df = pd.concat(test_metrics_dual_abstract_list, ignore_index=True)\n",
    "\n",
    "# Add 'Epoch' as new column\n",
    "epochs = list(range(1, num_epochs + 1))\n",
    "\n",
    "test_metrics_single_df['Epoch'] = epochs\n",
    "test_metrics_dual_vr_df['Epoch'] = epochs\n",
    "test_metrics_dual_abstract_df['Epoch'] = epochs\n",
    "\n",
    "# Set 'Epoch' as index\n",
    "test_metrics_single_df.set_index('Epoch', inplace=True)\n",
    "test_metrics_dual_vr_df.set_index('Epoch', inplace=True)\n",
    "test_metrics_dual_abstract_df.set_index('Epoch', inplace=True)\n",
    "\n",
    "# Rename first two columns to 'Test Loss' and 'Test Accuracy'\n",
    "test_metrics_single_df.rename(columns={'Loss': 'Test Loss', 'Accuracy': 'Test Accuracy'}, inplace=True)\n",
    "test_metrics_dual_vr_df.rename(columns={'Loss': 'Test Loss', 'Accuracy': 'Test Accuracy'}, inplace=True)\n",
    "test_metrics_dual_abstract_df.rename(columns={'Loss': 'Test Loss', 'Accuracy': 'Test Accuracy'}, inplace=True)\n",
    "\n",
    "# Print final test metrics for all models\n",
    "print(\"\\nSingle-input model (Laplacians) Test Metrics:\")\n",
    "print(test_metrics_single_df)\n",
    "\n",
    "print(\"\\nDual-input model (Laplacians + VR Persistence Images) Test Metrics:\")\n",
    "print(test_metrics_dual_vr_df)\n",
    "\n",
    "print(\"\\nDual-input model (Laplacians + Abstract Persistence Images) Test Metrics:\")\n",
    "print(test_metrics_dual_abstract_df)\n"
   ]
  },
  {
   "cell_type": "code",
   "execution_count": 37,
   "metadata": {},
   "outputs": [],
   "source": [
    "# Export test metrics to CSV files\n",
    "\n",
    "test_metrics_single_df.to_csv('test_metrics_single_h1_lap_nonunif_gudhi.csv')\n",
    "test_metrics_dual_vr_df.to_csv('test_metrics_dual_h1_lap_vr_nonunif_gudhi.csv')\n",
    "test_metrics_dual_abstract_df.to_csv('test_metrics_dual_h1_lap_abstract_nonunif_gudhi.csv')"
   ]
  },
  {
   "cell_type": "code",
   "execution_count": 38,
   "metadata": {},
   "outputs": [],
   "source": [
    "# Visualize and export confusion matrices to \"Confusion\\ Matrices/\" folder\n",
    "\n",
    "# Single-input model (Laplacians)\n",
    "for i, cm in enumerate(cm_single_list):\n",
    "    plt.figure(figsize=(6, 5))\n",
    "    sns.heatmap(cm, annot=True, fmt='d', cmap='Blues', cbar=False, annot_kws={'size': 14})\n",
    "    plt.title(f\"Confusion Matrix - Single-input Model (Laplacians), Epoch {i+1}\")\n",
    "    plt.xlabel('Predicted')\n",
    "    plt.ylabel('Actual')\n",
    "    plt.savefig(f\"Confusion Matrices/single_h1_lap_nonunif_gudhi_cm_epoch_{i+1}.png\")\n",
    "    plt.close()\n",
    "\n",
    "# Dual-input model (Laplacians + VR Persistence Images)\n",
    "for i, cm in enumerate(cm_dual_vr_list):\n",
    "    plt.figure(figsize=(6, 5))\n",
    "    sns.heatmap(cm, annot=True, fmt='d', cmap='Blues', cbar=False, annot_kws={'size': 14})\n",
    "    plt.title(f\"Confusion Matrix - Dual-input Model (Laplacians + VR Persistence Images), Epoch {i+1}\")\n",
    "    plt.xlabel('Predicted')\n",
    "    plt.ylabel('Actual')\n",
    "    plt.savefig(f\"Confusion Matrices/dual_h1_lap_vr_nonunif_gudhi_cm_epoch_{i+1}.png\")\n",
    "    plt.close()\n",
    "\n",
    "# Dual-input model (Laplacians + Abstract Persistence Images)\n",
    "for i, cm in enumerate(cm_dual_abstract_list):\n",
    "    plt.figure(figsize=(6, 5))\n",
    "    sns.heatmap(cm, annot=True, fmt='d', cmap='Blues', cbar=False, annot_kws={'size': 14})\n",
    "    plt.title(f\"Confusion Matrix - Dual-input Model (Laplacians + Abstract Persistence Images), Epoch {i+1}\")\n",
    "    plt.xlabel('Predicted')\n",
    "    plt.ylabel('Actual')\n",
    "    plt.savefig(f\"Confusion Matrices/dual_h1_lap_abstract_nonunif_gudhi_cm_epoch_{i+1}.png\")\n",
    "    plt.close()"
   ]
  }
 ],
 "metadata": {
  "kernelspec": {
   "display_name": "FiltrationsForGNNsLargeData",
   "language": "python",
   "name": "python3"
  },
  "language_info": {
   "codemirror_mode": {
    "name": "ipython",
    "version": 3
   },
   "file_extension": ".py",
   "mimetype": "text/x-python",
   "name": "python",
   "nbconvert_exporter": "python",
   "pygments_lexer": "ipython3",
   "version": "3.10.15"
  }
 },
 "nbformat": 4,
 "nbformat_minor": 2
}
